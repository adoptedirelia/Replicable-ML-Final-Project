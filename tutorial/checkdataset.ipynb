{
 "cells": [
  {
   "cell_type": "code",
   "execution_count": 2,
   "id": "105387a0",
   "metadata": {},
   "outputs": [],
   "source": [
    "import numpy as np\n",
    "import pandas as pd\n",
    "import matplotlib.pyplot as plt"
   ]
  },
  {
   "cell_type": "code",
   "execution_count": 4,
   "id": "6f355bea",
   "metadata": {},
   "outputs": [
    {
     "data": {
      "application/vnd.microsoft.datawrangler.viewer.v0+json": {
       "columns": [
        {
         "name": "index",
         "rawType": "int64",
         "type": "integer"
        },
        {
         "name": "Class",
         "rawType": "object",
         "type": "string"
        },
        {
         "name": "Seat comfort",
         "rawType": "int64",
         "type": "integer"
        },
        {
         "name": "Food and drink",
         "rawType": "int64",
         "type": "integer"
        },
        {
         "name": "Cleanliness",
         "rawType": "int64",
         "type": "integer"
        },
        {
         "name": "satisfaction",
         "rawType": "object",
         "type": "string"
        }
       ],
       "conversionMethod": "pd.DataFrame",
       "ref": "0af9e58e-cf2c-4c70-b78b-c16fe4b139a7",
       "rows": [
        [
         "0",
         "Eco",
         "0",
         "0",
         "3",
         "satisfied"
        ],
        [
         "1",
         "Business",
         "0",
         "0",
         "3",
         "satisfied"
        ],
        [
         "2",
         "Eco",
         "0",
         "0",
         "4",
         "satisfied"
        ],
        [
         "3",
         "Eco",
         "0",
         "0",
         "1",
         "satisfied"
        ],
        [
         "4",
         "Eco",
         "0",
         "0",
         "2",
         "satisfied"
        ],
        [
         "5",
         "Eco",
         "0",
         "0",
         "4",
         "satisfied"
        ],
        [
         "6",
         "Eco",
         "0",
         "0",
         "5",
         "satisfied"
        ],
        [
         "7",
         "Eco",
         "0",
         "0",
         "4",
         "satisfied"
        ],
        [
         "8",
         "Business",
         "0",
         "0",
         "4",
         "satisfied"
        ],
        [
         "9",
         "Eco",
         "0",
         "0",
         "4",
         "satisfied"
        ],
        [
         "10",
         "Eco",
         "0",
         "0",
         "3",
         "satisfied"
        ],
        [
         "11",
         "Eco",
         "0",
         "0",
         "5",
         "satisfied"
        ],
        [
         "12",
         "Eco",
         "0",
         "0",
         "4",
         "satisfied"
        ],
        [
         "13",
         "Eco",
         "0",
         "0",
         "2",
         "satisfied"
        ],
        [
         "14",
         "Eco",
         "0",
         "0",
         "5",
         "satisfied"
        ],
        [
         "15",
         "Eco",
         "0",
         "0",
         "2",
         "satisfied"
        ],
        [
         "16",
         "Eco",
         "0",
         "0",
         "1",
         "satisfied"
        ],
        [
         "17",
         "Business",
         "0",
         "0",
         "1",
         "satisfied"
        ],
        [
         "18",
         "Eco",
         "0",
         "0",
         "3",
         "satisfied"
        ],
        [
         "19",
         "Eco",
         "0",
         "0",
         "2",
         "satisfied"
        ],
        [
         "20",
         "Eco",
         "0",
         "0",
         "3",
         "satisfied"
        ],
        [
         "21",
         "Eco",
         "0",
         "0",
         "2",
         "satisfied"
        ],
        [
         "22",
         "Eco",
         "0",
         "0",
         "3",
         "satisfied"
        ],
        [
         "23",
         "Business",
         "0",
         "0",
         "1",
         "satisfied"
        ],
        [
         "24",
         "Eco Plus",
         "0",
         "0",
         "3",
         "satisfied"
        ],
        [
         "25",
         "Eco",
         "0",
         "0",
         "2",
         "satisfied"
        ],
        [
         "26",
         "Eco",
         "0",
         "0",
         "2",
         "satisfied"
        ],
        [
         "27",
         "Eco",
         "0",
         "0",
         "3",
         "satisfied"
        ],
        [
         "28",
         "Eco",
         "0",
         "0",
         "3",
         "satisfied"
        ],
        [
         "29",
         "Eco",
         "0",
         "0",
         "3",
         "satisfied"
        ],
        [
         "30",
         "Eco Plus",
         "0",
         "0",
         "2",
         "satisfied"
        ],
        [
         "31",
         "Eco",
         "0",
         "0",
         "3",
         "satisfied"
        ],
        [
         "32",
         "Eco",
         "0",
         "0",
         "3",
         "satisfied"
        ],
        [
         "33",
         "Eco",
         "0",
         "0",
         "3",
         "satisfied"
        ],
        [
         "34",
         "Eco",
         "0",
         "0",
         "4",
         "satisfied"
        ],
        [
         "35",
         "Eco",
         "0",
         "0",
         "2",
         "satisfied"
        ],
        [
         "36",
         "Eco",
         "0",
         "0",
         "4",
         "satisfied"
        ],
        [
         "37",
         "Eco",
         "0",
         "0",
         "3",
         "satisfied"
        ],
        [
         "38",
         "Eco",
         "0",
         "0",
         "4",
         "satisfied"
        ],
        [
         "39",
         "Eco",
         "0",
         "0",
         "2",
         "satisfied"
        ],
        [
         "40",
         "Eco",
         "0",
         "0",
         "3",
         "satisfied"
        ],
        [
         "41",
         "Eco",
         "0",
         "0",
         "1",
         "satisfied"
        ],
        [
         "42",
         "Eco",
         "0",
         "0",
         "3",
         "satisfied"
        ],
        [
         "43",
         "Eco",
         "0",
         "0",
         "3",
         "satisfied"
        ],
        [
         "44",
         "Eco",
         "0",
         "0",
         "2",
         "satisfied"
        ],
        [
         "45",
         "Eco Plus",
         "0",
         "0",
         "2",
         "satisfied"
        ],
        [
         "46",
         "Eco",
         "0",
         "0",
         "4",
         "satisfied"
        ],
        [
         "47",
         "Eco",
         "0",
         "0",
         "3",
         "satisfied"
        ],
        [
         "48",
         "Business",
         "0",
         "0",
         "3",
         "satisfied"
        ],
        [
         "49",
         "Eco",
         "0",
         "0",
         "2",
         "satisfied"
        ]
       ],
       "shape": {
        "columns": 5,
        "rows": 129880
       }
      },
      "text/html": [
       "<div>\n",
       "<style scoped>\n",
       "    .dataframe tbody tr th:only-of-type {\n",
       "        vertical-align: middle;\n",
       "    }\n",
       "\n",
       "    .dataframe tbody tr th {\n",
       "        vertical-align: top;\n",
       "    }\n",
       "\n",
       "    .dataframe thead th {\n",
       "        text-align: right;\n",
       "    }\n",
       "</style>\n",
       "<table border=\"1\" class=\"dataframe\">\n",
       "  <thead>\n",
       "    <tr style=\"text-align: right;\">\n",
       "      <th></th>\n",
       "      <th>Class</th>\n",
       "      <th>Seat comfort</th>\n",
       "      <th>Food and drink</th>\n",
       "      <th>Cleanliness</th>\n",
       "      <th>satisfaction</th>\n",
       "    </tr>\n",
       "  </thead>\n",
       "  <tbody>\n",
       "    <tr>\n",
       "      <th>0</th>\n",
       "      <td>Eco</td>\n",
       "      <td>0</td>\n",
       "      <td>0</td>\n",
       "      <td>3</td>\n",
       "      <td>satisfied</td>\n",
       "    </tr>\n",
       "    <tr>\n",
       "      <th>1</th>\n",
       "      <td>Business</td>\n",
       "      <td>0</td>\n",
       "      <td>0</td>\n",
       "      <td>3</td>\n",
       "      <td>satisfied</td>\n",
       "    </tr>\n",
       "    <tr>\n",
       "      <th>2</th>\n",
       "      <td>Eco</td>\n",
       "      <td>0</td>\n",
       "      <td>0</td>\n",
       "      <td>4</td>\n",
       "      <td>satisfied</td>\n",
       "    </tr>\n",
       "    <tr>\n",
       "      <th>3</th>\n",
       "      <td>Eco</td>\n",
       "      <td>0</td>\n",
       "      <td>0</td>\n",
       "      <td>1</td>\n",
       "      <td>satisfied</td>\n",
       "    </tr>\n",
       "    <tr>\n",
       "      <th>4</th>\n",
       "      <td>Eco</td>\n",
       "      <td>0</td>\n",
       "      <td>0</td>\n",
       "      <td>2</td>\n",
       "      <td>satisfied</td>\n",
       "    </tr>\n",
       "    <tr>\n",
       "      <th>...</th>\n",
       "      <td>...</td>\n",
       "      <td>...</td>\n",
       "      <td>...</td>\n",
       "      <td>...</td>\n",
       "      <td>...</td>\n",
       "    </tr>\n",
       "    <tr>\n",
       "      <th>129875</th>\n",
       "      <td>Eco</td>\n",
       "      <td>5</td>\n",
       "      <td>5</td>\n",
       "      <td>4</td>\n",
       "      <td>satisfied</td>\n",
       "    </tr>\n",
       "    <tr>\n",
       "      <th>129876</th>\n",
       "      <td>Business</td>\n",
       "      <td>2</td>\n",
       "      <td>2</td>\n",
       "      <td>2</td>\n",
       "      <td>dissatisfied</td>\n",
       "    </tr>\n",
       "    <tr>\n",
       "      <th>129877</th>\n",
       "      <td>Eco</td>\n",
       "      <td>3</td>\n",
       "      <td>3</td>\n",
       "      <td>3</td>\n",
       "      <td>dissatisfied</td>\n",
       "    </tr>\n",
       "    <tr>\n",
       "      <th>129878</th>\n",
       "      <td>Eco</td>\n",
       "      <td>3</td>\n",
       "      <td>3</td>\n",
       "      <td>1</td>\n",
       "      <td>dissatisfied</td>\n",
       "    </tr>\n",
       "    <tr>\n",
       "      <th>129879</th>\n",
       "      <td>Eco</td>\n",
       "      <td>3</td>\n",
       "      <td>3</td>\n",
       "      <td>3</td>\n",
       "      <td>dissatisfied</td>\n",
       "    </tr>\n",
       "  </tbody>\n",
       "</table>\n",
       "<p>129880 rows × 5 columns</p>\n",
       "</div>"
      ],
      "text/plain": [
       "           Class  Seat comfort  Food and drink  Cleanliness  satisfaction\n",
       "0            Eco             0               0            3     satisfied\n",
       "1       Business             0               0            3     satisfied\n",
       "2            Eco             0               0            4     satisfied\n",
       "3            Eco             0               0            1     satisfied\n",
       "4            Eco             0               0            2     satisfied\n",
       "...          ...           ...             ...          ...           ...\n",
       "129875       Eco             5               5            4     satisfied\n",
       "129876  Business             2               2            2  dissatisfied\n",
       "129877       Eco             3               3            3  dissatisfied\n",
       "129878       Eco             3               3            1  dissatisfied\n",
       "129879       Eco             3               3            3  dissatisfied\n",
       "\n",
       "[129880 rows x 5 columns]"
      ]
     },
     "execution_count": 4,
     "metadata": {},
     "output_type": "execute_result"
    }
   ],
   "source": [
    "# https://www.kaggle.com/datasets/yakhyojon/customer-satisfaction-in-airline/data\n",
    "# the label is 'satisfaction'\n",
    "df = pd.read_csv('./../dataset/Invistico_Airline.csv')\n",
    "\n",
    "\n",
    "# To keep things simple in this tutorial,\n",
    "# We will only use categorical features for decision tree\n",
    "df = df[['Class','Seat comfort','Food and drink','Cleanliness','satisfaction']]\n",
    "\n",
    "\n",
    "df"
   ]
  },
  {
   "cell_type": "code",
   "execution_count": 5,
   "id": "2e7d8717",
   "metadata": {},
   "outputs": [],
   "source": [
    "def drawColCDF1(data,name):\n",
    "    \"\"\"\n",
    "    Draws a CDF of the data in the column\n",
    "    \"\"\"\n",
    "    # Sort the data\n",
    "    data = np.sort(data)\n",
    "    \n",
    "    # Calculate the CDF values\n",
    "    cdf = np.arange(1, len(data) + 1) / len(data)\n",
    "    \n",
    "    # Plot the CDF\n",
    "    plt.figure()\n",
    "    plt.plot(data, cdf)\n",
    "    plt.xlabel(name)\n",
    "    plt.ylabel('CDF')\n",
    "    plt.grid()\n",
    "    plt.show()\n"
   ]
  },
  {
   "cell_type": "code",
   "execution_count": 7,
   "id": "2e26561d",
   "metadata": {},
   "outputs": [
    {
     "data": {
      "image/png": "[encoded data removed]",
      "text/plain": [
       "<Figure size 640x480 with 1 Axes>"
      ]
     },
     "metadata": {},
     "output_type": "display_data"
    },
    {
     "data": {
      "image/png": "[encoded data removed]",
      "text/plain": [
       "<Figure size 640x480 with 1 Axes>"
      ]
     },
     "metadata": {},
     "output_type": "display_data"
    },
    {
     "data": {
      "image/png": "[encoded data removed]",
      "text/plain": [
       "<Figure size 640x480 with 1 Axes>"
      ]
     },
     "metadata": {},
     "output_type": "display_data"
    },
    {
     "data": {
      "image/png": "[encoded data removed]",
      "text/plain": [
       "<Figure size 640x480 with 1 Axes>"
      ]
     },
     "metadata": {},
     "output_type": "display_data"
    }
   ],
   "source": [
    "drawColCDF1(df['Class'], 'Class')\n",
    "drawColCDF1(df['Seat comfort'], 'Seat comfort')\n",
    "drawColCDF1(df['Food and drink'], 'Food and drink')\n",
    "drawColCDF1(df['Cleanliness'], 'Cleanliness')\n"
   ]
  },
  {
   "cell_type": "code",
   "execution_count": null,
   "id": "bff6900e",
   "metadata": {},
   "outputs": [],
   "source": []
  }
 ],
 "metadata": {
  "kernelspec": {
   "display_name": "myenv",
   "language": "python",
   "name": "python3"
  },
  "language_info": {
   "codemirror_mode": {
    "name": "ipython",
    "version": 3
   },
   "file_extension": ".py",
   "mimetype": "text/x-python",
   "name": "python",
   "nbconvert_exporter": "python",
   "pygments_lexer": "ipython3",
   "version": "3.13.2"
  }
 },
 "nbformat": 4,
 "nbformat_minor": 5
}
