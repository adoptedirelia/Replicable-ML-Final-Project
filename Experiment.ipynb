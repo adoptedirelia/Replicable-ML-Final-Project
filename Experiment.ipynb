{
 "cells": [
  {
   "cell_type": "markdown",
   "id": "a9624279",
   "metadata": {},
   "source": [
    "Reference paper: stability is stable \n",
    "Experiment: vary the value of rho and see the minimum sample size required for replicability\n",
    "\n",
    "func getConvergenceSampleNum(hyperparams)\n",
    "    For sample_num range(min_subsets_size, max_subsets_size, step):\n",
    "        For range(repeat_num):\n",
    "            random draw a subset of the dataset, whose size = sample_num\n",
    "            Use algorithm 10 to get a model\n",
    "        Check whether the models we get are 'replicable' to each other, accoding to the hyperparams. (see definition in page 14 of the paper)\n",
    "        if converged, return current sample_num\n",
    "\n",
    "func experiment(): \n",
    "# vary the rho and see minumum sample size required for replicability. \n",
    "# To make it simple, we can fix the value of other hyperparamers, such as alpha and beta.\n",
    "    for rho in range(min_rho, max_rho, step):\n",
    "        sample_num = getConvergenceSampleNum(rho)\n",
    "        theoretical_sample_num = getTheoreticalSampleNum(rho) # compute according to algorithm 10 in the paper\n",
    "        print(\"Hyperparams: \", hyperparams, \"Sample size: \", sample_num)\n",
    "    plot(hyperparams, theoretical_sample_num) # draw the curve, where x-axis is the hyperparams and y-axis is the sample size\n",
    "    plot(hyperparams, sample_num) # draw the curve, where x-axis is the hyperparams and y-axis is the sample size"
   ]
  },
  {
   "cell_type": "code",
   "execution_count": 1,
   "id": "78f39992",
   "metadata": {},
   "outputs": [
    {
     "name": "stdout",
     "output_type": "stream",
     "text": [
      "##### Config Variables #####\n",
      "np = <module 'numpy' from '/opt/anaconda3/envs/myenv/lib/python3.13/site-packages/numpy/__init__.py'>\n",
      "dataset_path = ./dataset/Invistico_Airline.csv\n",
      "model_path = ./models/\n",
      "max_depth = 3\n",
      "random_seed = 42\n",
      "selected_features = ['Class', 'Seat comfort', 'Food and drink', 'Cleanliness', 'satisfaction']\n",
      "rho = 0.3\n",
      "alpha = 0.3\n",
      "beta = 0.2\n",
      "num_H = 10\n",
      "m_up_bound = 8954.993893610603\n",
      "tau_up_bound = 0.03908650337129266\n",
      "tau = 0.003908650337129266\n",
      "m = 100\n",
      "############################\n"
     ]
    }
   ],
   "source": [
    "import pandas as pd\n",
    "import numpy as np\n",
    "import config\n",
    "import Algorithm10 as a10\n",
    "from sklearn.tree import export_text"
   ]
  },
  {
   "cell_type": "code",
   "execution_count": 2,
   "id": "a6be6126",
   "metadata": {},
   "outputs": [
    {
     "data": {
      "application/vnd.microsoft.datawrangler.viewer.v0+json": {
       "columns": [
        {
         "name": "index",
         "rawType": "int64",
         "type": "integer"
        },
        {
         "name": "satisfaction",
         "rawType": "object",
         "type": "string"
        },
        {
         "name": "Customer Type",
         "rawType": "object",
         "type": "string"
        },
        {
         "name": "Age",
         "rawType": "int64",
         "type": "integer"
        },
        {
         "name": "Type of Travel",
         "rawType": "object",
         "type": "string"
        },
        {
         "name": "Class",
         "rawType": "object",
         "type": "string"
        },
        {
         "name": "Flight Distance",
         "rawType": "int64",
         "type": "integer"
        },
        {
         "name": "Seat comfort",
         "rawType": "int64",
         "type": "integer"
        },
        {
         "name": "Departure/Arrival time convenient",
         "rawType": "int64",
         "type": "integer"
        },
        {
         "name": "Food and drink",
         "rawType": "int64",
         "type": "integer"
        },
        {
         "name": "Gate location",
         "rawType": "int64",
         "type": "integer"
        },
        {
         "name": "Inflight wifi service",
         "rawType": "int64",
         "type": "integer"
        },
        {
         "name": "Inflight entertainment",
         "rawType": "int64",
         "type": "integer"
        },
        {
         "name": "Online support",
         "rawType": "int64",
         "type": "integer"
        },
        {
         "name": "Ease of Online booking",
         "rawType": "int64",
         "type": "integer"
        },
        {
         "name": "On-board service",
         "rawType": "int64",
         "type": "integer"
        },
        {
         "name": "Leg room service",
         "rawType": "int64",
         "type": "integer"
        },
        {
         "name": "Baggage handling",
         "rawType": "int64",
         "type": "integer"
        },
        {
         "name": "Checkin service",
         "rawType": "int64",
         "type": "integer"
        },
        {
         "name": "Cleanliness",
         "rawType": "int64",
         "type": "integer"
        },
        {
         "name": "Online boarding",
         "rawType": "int64",
         "type": "integer"
        },
        {
         "name": "Departure Delay in Minutes",
         "rawType": "int64",
         "type": "integer"
        },
        {
         "name": "Arrival Delay in Minutes",
         "rawType": "float64",
         "type": "float"
        }
       ],
       "conversionMethod": "pd.DataFrame",
       "ref": "ba72836a-2346-4293-91b7-b04a5d2bd4ee",
       "rows": [
        [
         "0",
         "satisfied",
         "Loyal Customer",
         "65",
         "Personal Travel",
         "Eco",
         "265",
         "0",
         "0",
         "0",
         "2",
         "2",
         "4",
         "2",
         "3",
         "3",
         "0",
         "3",
         "5",
         "3",
         "2",
         "0",
         "0.0"
        ],
        [
         "1",
         "satisfied",
         "Loyal Customer",
         "47",
         "Personal Travel",
         "Business",
         "2464",
         "0",
         "0",
         "0",
         "3",
         "0",
         "2",
         "2",
         "3",
         "4",
         "4",
         "4",
         "2",
         "3",
         "2",
         "310",
         "305.0"
        ],
        [
         "2",
         "satisfied",
         "Loyal Customer",
         "15",
         "Personal Travel",
         "Eco",
         "2138",
         "0",
         "0",
         "0",
         "3",
         "2",
         "0",
         "2",
         "2",
         "3",
         "3",
         "4",
         "4",
         "4",
         "2",
         "0",
         "0.0"
        ],
        [
         "3",
         "satisfied",
         "Loyal Customer",
         "60",
         "Personal Travel",
         "Eco",
         "623",
         "0",
         "0",
         "0",
         "3",
         "3",
         "4",
         "3",
         "1",
         "1",
         "0",
         "1",
         "4",
         "1",
         "3",
         "0",
         "0.0"
        ],
        [
         "4",
         "satisfied",
         "Loyal Customer",
         "70",
         "Personal Travel",
         "Eco",
         "354",
         "0",
         "0",
         "0",
         "3",
         "4",
         "3",
         "4",
         "2",
         "2",
         "0",
         "2",
         "4",
         "2",
         "5",
         "0",
         "0.0"
        ]
       ],
       "shape": {
        "columns": 22,
        "rows": 5
       }
      },
      "text/html": [
       "<div>\n",
       "<style scoped>\n",
       "    .dataframe tbody tr th:only-of-type {\n",
       "        vertical-align: middle;\n",
       "    }\n",
       "\n",
       "    .dataframe tbody tr th {\n",
       "        vertical-align: top;\n",
       "    }\n",
       "\n",
       "    .dataframe thead th {\n",
       "        text-align: right;\n",
       "    }\n",
       "</style>\n",
       "<table border=\"1\" class=\"dataframe\">\n",
       "  <thead>\n",
       "    <tr style=\"text-align: right;\">\n",
       "      <th></th>\n",
       "      <th>satisfaction</th>\n",
       "      <th>Customer Type</th>\n",
       "      <th>Age</th>\n",
       "      <th>Type of Travel</th>\n",
       "      <th>Class</th>\n",
       "      <th>Flight Distance</th>\n",
       "      <th>Seat comfort</th>\n",
       "      <th>Departure/Arrival time convenient</th>\n",
       "      <th>Food and drink</th>\n",
       "      <th>Gate location</th>\n",
       "      <th>...</th>\n",
       "      <th>Online support</th>\n",
       "      <th>Ease of Online booking</th>\n",
       "      <th>On-board service</th>\n",
       "      <th>Leg room service</th>\n",
       "      <th>Baggage handling</th>\n",
       "      <th>Checkin service</th>\n",
       "      <th>Cleanliness</th>\n",
       "      <th>Online boarding</th>\n",
       "      <th>Departure Delay in Minutes</th>\n",
       "      <th>Arrival Delay in Minutes</th>\n",
       "    </tr>\n",
       "  </thead>\n",
       "  <tbody>\n",
       "    <tr>\n",
       "      <th>0</th>\n",
       "      <td>satisfied</td>\n",
       "      <td>Loyal Customer</td>\n",
       "      <td>65</td>\n",
       "      <td>Personal Travel</td>\n",
       "      <td>Eco</td>\n",
       "      <td>265</td>\n",
       "      <td>0</td>\n",
       "      <td>0</td>\n",
       "      <td>0</td>\n",
       "      <td>2</td>\n",
       "      <td>...</td>\n",
       "      <td>2</td>\n",
       "      <td>3</td>\n",
       "      <td>3</td>\n",
       "      <td>0</td>\n",
       "      <td>3</td>\n",
       "      <td>5</td>\n",
       "      <td>3</td>\n",
       "      <td>2</td>\n",
       "      <td>0</td>\n",
       "      <td>0.0</td>\n",
       "    </tr>\n",
       "    <tr>\n",
       "      <th>1</th>\n",
       "      <td>satisfied</td>\n",
       "      <td>Loyal Customer</td>\n",
       "      <td>47</td>\n",
       "      <td>Personal Travel</td>\n",
       "      <td>Business</td>\n",
       "      <td>2464</td>\n",
       "      <td>0</td>\n",
       "      <td>0</td>\n",
       "      <td>0</td>\n",
       "      <td>3</td>\n",
       "      <td>...</td>\n",
       "      <td>2</td>\n",
       "      <td>3</td>\n",
       "      <td>4</td>\n",
       "      <td>4</td>\n",
       "      <td>4</td>\n",
       "      <td>2</td>\n",
       "      <td>3</td>\n",
       "      <td>2</td>\n",
       "      <td>310</td>\n",
       "      <td>305.0</td>\n",
       "    </tr>\n",
       "    <tr>\n",
       "      <th>2</th>\n",
       "      <td>satisfied</td>\n",
       "      <td>Loyal Customer</td>\n",
       "      <td>15</td>\n",
       "      <td>Personal Travel</td>\n",
       "      <td>Eco</td>\n",
       "      <td>2138</td>\n",
       "      <td>0</td>\n",
       "      <td>0</td>\n",
       "      <td>0</td>\n",
       "      <td>3</td>\n",
       "      <td>...</td>\n",
       "      <td>2</td>\n",
       "      <td>2</td>\n",
       "      <td>3</td>\n",
       "      <td>3</td>\n",
       "      <td>4</td>\n",
       "      <td>4</td>\n",
       "      <td>4</td>\n",
       "      <td>2</td>\n",
       "      <td>0</td>\n",
       "      <td>0.0</td>\n",
       "    </tr>\n",
       "    <tr>\n",
       "      <th>3</th>\n",
       "      <td>satisfied</td>\n",
       "      <td>Loyal Customer</td>\n",
       "      <td>60</td>\n",
       "      <td>Personal Travel</td>\n",
       "      <td>Eco</td>\n",
       "      <td>623</td>\n",
       "      <td>0</td>\n",
       "      <td>0</td>\n",
       "      <td>0</td>\n",
       "      <td>3</td>\n",
       "      <td>...</td>\n",
       "      <td>3</td>\n",
       "      <td>1</td>\n",
       "      <td>1</td>\n",
       "      <td>0</td>\n",
       "      <td>1</td>\n",
       "      <td>4</td>\n",
       "      <td>1</td>\n",
       "      <td>3</td>\n",
       "      <td>0</td>\n",
       "      <td>0.0</td>\n",
       "    </tr>\n",
       "    <tr>\n",
       "      <th>4</th>\n",
       "      <td>satisfied</td>\n",
       "      <td>Loyal Customer</td>\n",
       "      <td>70</td>\n",
       "      <td>Personal Travel</td>\n",
       "      <td>Eco</td>\n",
       "      <td>354</td>\n",
       "      <td>0</td>\n",
       "      <td>0</td>\n",
       "      <td>0</td>\n",
       "      <td>3</td>\n",
       "      <td>...</td>\n",
       "      <td>4</td>\n",
       "      <td>2</td>\n",
       "      <td>2</td>\n",
       "      <td>0</td>\n",
       "      <td>2</td>\n",
       "      <td>4</td>\n",
       "      <td>2</td>\n",
       "      <td>5</td>\n",
       "      <td>0</td>\n",
       "      <td>0.0</td>\n",
       "    </tr>\n",
       "  </tbody>\n",
       "</table>\n",
       "<p>5 rows × 22 columns</p>\n",
       "</div>"
      ],
      "text/plain": [
       "  satisfaction   Customer Type  Age   Type of Travel     Class  \\\n",
       "0    satisfied  Loyal Customer   65  Personal Travel       Eco   \n",
       "1    satisfied  Loyal Customer   47  Personal Travel  Business   \n",
       "2    satisfied  Loyal Customer   15  Personal Travel       Eco   \n",
       "3    satisfied  Loyal Customer   60  Personal Travel       Eco   \n",
       "4    satisfied  Loyal Customer   70  Personal Travel       Eco   \n",
       "\n",
       "   Flight Distance  Seat comfort  Departure/Arrival time convenient  \\\n",
       "0              265             0                                  0   \n",
       "1             2464             0                                  0   \n",
       "2             2138             0                                  0   \n",
       "3              623             0                                  0   \n",
       "4              354             0                                  0   \n",
       "\n",
       "   Food and drink  Gate location  ...  Online support  Ease of Online booking  \\\n",
       "0               0              2  ...               2                       3   \n",
       "1               0              3  ...               2                       3   \n",
       "2               0              3  ...               2                       2   \n",
       "3               0              3  ...               3                       1   \n",
       "4               0              3  ...               4                       2   \n",
       "\n",
       "   On-board service  Leg room service  Baggage handling  Checkin service  \\\n",
       "0                 3                 0                 3                5   \n",
       "1                 4                 4                 4                2   \n",
       "2                 3                 3                 4                4   \n",
       "3                 1                 0                 1                4   \n",
       "4                 2                 0                 2                4   \n",
       "\n",
       "   Cleanliness  Online boarding  Departure Delay in Minutes  \\\n",
       "0            3                2                           0   \n",
       "1            3                2                         310   \n",
       "2            4                2                           0   \n",
       "3            1                3                           0   \n",
       "4            2                5                           0   \n",
       "\n",
       "   Arrival Delay in Minutes  \n",
       "0                       0.0  \n",
       "1                     305.0  \n",
       "2                       0.0  \n",
       "3                       0.0  \n",
       "4                       0.0  \n",
       "\n",
       "[5 rows x 22 columns]"
      ]
     },
     "execution_count": 2,
     "metadata": {},
     "output_type": "execute_result"
    }
   ],
   "source": [
    "data = pd.read_csv('dataset/Invistico_Airline.csv')\n",
    "data.head()"
   ]
  },
  {
   "cell_type": "code",
   "execution_count": 3,
   "id": "5e80489b",
   "metadata": {},
   "outputs": [
    {
     "data": {
      "text/plain": [
       "(129880, 22)"
      ]
     },
     "execution_count": 3,
     "metadata": {},
     "output_type": "execute_result"
    }
   ],
   "source": [
    "data.shape"
   ]
  },
  {
   "cell_type": "code",
   "execution_count": 4,
   "id": "93fb774f",
   "metadata": {},
   "outputs": [],
   "source": [
    "# function to check if two decision trees are equal\n",
    "def are_trees_equal(tree1, tree2):\n",
    "    # Check that both trees are fitted\n",
    "    if not hasattr(tree1, 'tree_') or not hasattr(tree2, 'tree_'):\n",
    "        raise ValueError(\"Both trees must be fitted before comparison.\")\n",
    "\n",
    "    # Compare parameters\n",
    "    if tree1.get_params() != tree2.get_params():\n",
    "        return False\n",
    "\n",
    "    t1 = tree1.tree_\n",
    "    t2 = tree2.tree_\n",
    "\n",
    "    # Compare structure and splitting rules\n",
    "    attributes_to_check = [\n",
    "        'children_left', 'children_right',\n",
    "        'feature', 'threshold',\n",
    "        'impurity', 'n_node_samples', 'weighted_n_node_samples',\n",
    "        'value'\n",
    "    ]\n",
    "\n",
    "    for attr in attributes_to_check:\n",
    "        if not np.array_equal(getattr(t1, attr), getattr(t2, attr)):\n",
    "            return False\n",
    "\n",
    "    return True\n"
   ]
  },
  {
   "cell_type": "code",
   "execution_count": 5,
   "id": "30be79b1",
   "metadata": {},
   "outputs": [],
   "source": [
    "def getConvergenceSampleNum(min_subset_size, max_subset_size, repeat_num, rho, sample_size_step=1):\n",
    "    sample_size_replicablity_dict = {}\n",
    "    \n",
    "    X, y= a10.load_full_dataset(config.dataset_path, random_state=config.random_seed)\n",
    "    for sample_size in range(min_subset_size, max_subset_size + 1, sample_size_step):\n",
    "        #get dataset of size sample_size by sampling from the original dataset\n",
    "        replicable_tree_list = []\n",
    "        H = a10.build_candidate_trees(X, y,sample_size, max_depth=config.max_depth, num_trees=config.num_H, random_state=config.random_seed)    \n",
    "        for i in range(repeat_num):\n",
    "            print(f\"sample size: {sample_size}, repeat: {i}\")\n",
    "            tree = a10.replicable_learner(X, y, H, sample_size, random_seed=config.random_seed+i)\n",
    "            replicable_tree_list.append(tree)\n",
    "            \n",
    "        #check the probability if the trees in the replicable_tree_list are the same\n",
    "        same_tree_count = 0\n",
    "        for i in range(len(replicable_tree_list)):\n",
    "            for j in range(i + 1, len(replicable_tree_list)):\n",
    "                \n",
    "                if are_trees_equal(replicable_tree_list[i], replicable_tree_list[j]):\n",
    "                    # print(f\"tree {i} and tree {j} are the same\")\n",
    "                    same_tree_count += 1\n",
    "        prob = same_tree_count / (repeat_num * (repeat_num - 1) / 2)\n",
    "        sample_size_replicablity_dict[sample_size] = prob\n",
    "        if prob >= 1-rho:\n",
    "            print(f\"replicable at sample size: {sample_size}, prob: {prob}\")\n",
    "            return sample_size \n",
    "        \n",
    "    # return sample_size_replicablity_dict\n",
    "    print(f\"not replicable at sample size between {min_subset_size} and {max_subset_size}, prob: {prob}\")\n",
    "    return -1\n",
    "\n",
    "            \n",
    "        \n",
    "    "
   ]
  },
  {
   "cell_type": "code",
   "execution_count": 10,
   "id": "97f00cd6",
   "metadata": {},
   "outputs": [
    {
     "name": "stdout",
     "output_type": "stream",
     "text": [
      "theoretical sample size:  8954.993893610603\n"
     ]
    },
    {
     "name": "stderr",
     "output_type": "stream",
     "text": [
      "100%|██████████| 10/10 [00:00<00:00, 68.15it/s]\n"
     ]
    },
    {
     "name": "stdout",
     "output_type": "stream",
     "text": [
      "sample size: 50000, repeat: 0\n",
      "OPT error 0.21499999999999997 errors dict_values([0.23746, 0.23746, 0.23746, 0.23746, 0.23746, 0.23746, 0.21499999999999997, 0.23746, 0.23746, 0.23746])\n",
      "v: 0.229412249360853\n",
      "sample size: 50000, repeat: 1\n",
      "OPT error 0.21282 errors dict_values([0.23540000000000005, 0.23540000000000005, 0.23540000000000005, 0.23540000000000005, 0.23540000000000005, 0.23540000000000005, 0.21282, 0.23540000000000005, 0.23540000000000005, 0.23540000000000005])\n",
      "v: 0.21890782954054774\n",
      "sample size: 50000, repeat: 2\n",
      "OPT error 0.21721999999999997 errors dict_values([0.23919999999999997, 0.23919999999999997, 0.23919999999999997, 0.23919999999999997, 0.23919999999999997, 0.23919999999999997, 0.21721999999999997, 0.23919999999999997, 0.23919999999999997, 0.23919999999999997])\n",
      "v: 0.2716183325741609\n",
      "sample size: 50000, repeat: 3\n",
      "OPT error 0.21555999999999997 errors dict_values([0.23802, 0.23802, 0.23802, 0.23802, 0.23802, 0.23802, 0.21555999999999997, 0.23802, 0.23802, 0.23802])\n",
      "v: 0.2507163779583843\n",
      "sample size: 50000, repeat: 4\n",
      "OPT error 0.21272000000000002 errors dict_values([0.23519999999999996, 0.23519999999999996, 0.23519999999999996, 0.23519999999999996, 0.23519999999999996, 0.23519999999999996, 0.21272000000000002, 0.23519999999999996, 0.23519999999999996, 0.23519999999999996])\n",
      "v: 0.22402348913393805\n",
      "sample size: 50000, repeat: 5\n",
      "OPT error 0.21565999999999996 errors dict_values([0.23853999999999997, 0.23853999999999997, 0.23853999999999997, 0.23853999999999997, 0.23853999999999997, 0.23853999999999997, 0.21565999999999996, 0.23853999999999997, 0.23853999999999997, 0.23853999999999997])\n",
      "v: 0.26083127225395025\n",
      "sample size: 50000, repeat: 6\n",
      "OPT error 0.2118 errors dict_values([0.23497999999999997, 0.23497999999999997, 0.23497999999999997, 0.23497999999999997, 0.23497999999999997, 0.23497999999999997, 0.2118, 0.23497999999999997, 0.23497999999999997, 0.23497999999999997])\n",
      "v: 0.2802355625764479\n",
      "sample size: 50000, repeat: 7\n",
      "OPT error 0.21472000000000002 errors dict_values([0.23782000000000003, 0.23782000000000003, 0.23782000000000003, 0.23782000000000003, 0.23782000000000003, 0.23782000000000003, 0.21472000000000002, 0.23782000000000003, 0.23782000000000003, 0.23782000000000003])\n",
      "v: 0.22507980825374574\n",
      "sample size: 50000, repeat: 8\n",
      "OPT error 0.21682 errors dict_values([0.23868, 0.23868, 0.23868, 0.23868, 0.23868, 0.23868, 0.21682, 0.23868, 0.23868, 0.23868])\n",
      "v: 0.2783706926697921\n",
      "sample size: 50000, repeat: 9\n",
      "OPT error 0.21297999999999995 errors dict_values([0.23685999999999996, 0.23685999999999996, 0.23685999999999996, 0.23685999999999996, 0.23685999999999996, 0.23685999999999996, 0.21297999999999995, 0.23685999999999996, 0.23685999999999996, 0.23685999999999996])\n",
      "v: 0.24361547644097786\n"
     ]
    },
    {
     "name": "stderr",
     "output_type": "stream",
     "text": [
      "100%|██████████| 10/10 [00:00<00:00, 60.39it/s]"
     ]
    },
    {
     "name": "stdout",
     "output_type": "stream",
     "text": [
      "sample size: 51000, repeat: 0\n",
      "OPT error 0.21490196078431367 errors dict_values([0.23733333333333329, 0.23733333333333329, 0.23733333333333329, 0.23733333333333329, 0.23733333333333329, 0.23733333333333329, 0.21490196078431367, 0.23733333333333329, 0.23733333333333329, 0.23733333333333329])\n",
      "v: 0.2293142101451667\n",
      "sample size: 51000, repeat: 1\n"
     ]
    },
    {
     "name": "stderr",
     "output_type": "stream",
     "text": [
      "\n"
     ]
    },
    {
     "name": "stdout",
     "output_type": "stream",
     "text": [
      "OPT error 0.2131764705882353 errors dict_values([0.2356078431372549, 0.2356078431372549, 0.2356078431372549, 0.2356078431372549, 0.2356078431372549, 0.2356078431372549, 0.2131764705882353, 0.2356078431372549, 0.2356078431372549, 0.2356078431372549])\n",
      "v: 0.21926430012878304\n",
      "sample size: 51000, repeat: 2\n",
      "OPT error 0.21713725490196079 errors dict_values([0.2393725490196078, 0.2393725490196078, 0.2393725490196078, 0.2393725490196078, 0.2393725490196078, 0.2393725490196078, 0.21713725490196079, 0.2393725490196078, 0.2393725490196078, 0.2393725490196078])\n",
      "v: 0.2715355874761217\n",
      "sample size: 51000, repeat: 3\n",
      "OPT error 0.21592156862745093 errors dict_values([0.23831372549019603, 0.23831372549019603, 0.23831372549019603, 0.23831372549019603, 0.23831372549019603, 0.23831372549019603, 0.21592156862745093, 0.23831372549019603, 0.23831372549019603, 0.23831372549019603])\n",
      "v: 0.25107794658583527\n",
      "sample size: 51000, repeat: 4\n",
      "OPT error 0.2127450980392157 errors dict_values([0.23529411764705888, 0.23529411764705888, 0.23529411764705888, 0.23529411764705888, 0.23529411764705888, 0.23529411764705888, 0.2127450980392157, 0.23529411764705888, 0.23529411764705888, 0.23529411764705888])\n",
      "v: 0.22404858717315373\n",
      "sample size: 51000, repeat: 5\n",
      "OPT error 0.2159411764705882 errors dict_values([0.23882352941176466, 0.23882352941176466, 0.23882352941176466, 0.23882352941176466, 0.23882352941176466, 0.23882352941176466, 0.2159411764705882, 0.23882352941176466, 0.23882352941176466, 0.23882352941176466])\n",
      "v: 0.2611124487245385\n",
      "sample size: 51000, repeat: 6\n",
      "OPT error 0.21186274509803926 errors dict_values([0.23519607843137258, 0.23519607843137258, 0.23519607843137258, 0.23519607843137258, 0.23519607843137258, 0.23519607843137258, 0.21186274509803926, 0.23519607843137258, 0.23519607843137258, 0.23519607843137258])\n",
      "v: 0.28029830767448716\n",
      "sample size: 51000, repeat: 7\n",
      "OPT error 0.21515686274509804 errors dict_values([0.23821568627450984, 0.23821568627450984, 0.23821568627450984, 0.23821568627450984, 0.23821568627450984, 0.23821568627450984, 0.21515686274509804, 0.23821568627450984, 0.23821568627450984, 0.23821568627450984])\n",
      "v: 0.22551667099884376\n",
      "sample size: 51000, repeat: 8\n",
      "OPT error 0.21709803921568627 errors dict_values([0.23886274509803918, 0.23886274509803918, 0.23886274509803918, 0.23886274509803918, 0.23886274509803918, 0.23886274509803918, 0.21709803921568627, 0.23886274509803918, 0.23886274509803918, 0.23886274509803918])\n",
      "v: 0.27864873188547834\n",
      "sample size: 51000, repeat: 9\n",
      "OPT error 0.21288235294117652 errors dict_values([0.23668627450980395, 0.23668627450980395, 0.23668627450980395, 0.23668627450980395, 0.23668627450980395, 0.23668627450980395, 0.21288235294117652, 0.23668627450980395, 0.23668627450980395, 0.23668627450980395])\n",
      "v: 0.24351782938215444\n"
     ]
    },
    {
     "name": "stderr",
     "output_type": "stream",
     "text": [
      "100%|██████████| 10/10 [00:00<00:00, 68.40it/s]"
     ]
    },
    {
     "name": "stdout",
     "output_type": "stream",
     "text": [
      "sample size: 52000, repeat: 0\n",
      "OPT error 0.2146538461538462 errors dict_values([0.23721153846153842, 0.23721153846153842, 0.23721153846153842, 0.23721153846153842, 0.23721153846153842, 0.23721153846153842, 0.2146538461538462, 0.23721153846153842, 0.23721153846153842, 0.23721153846153842])\n",
      "v: 0.22906609551469923\n",
      "sample size: 52000, repeat: 1\n"
     ]
    },
    {
     "name": "stderr",
     "output_type": "stream",
     "text": [
      "\n"
     ]
    },
    {
     "name": "stdout",
     "output_type": "stream",
     "text": [
      "OPT error 0.21344230769230765 errors dict_values([0.23598076923076927, 0.23598076923076927, 0.23598076923076927, 0.23598076923076927, 0.23598076923076927, 0.23598076923076927, 0.21344230769230765, 0.23598076923076927, 0.23598076923076927, 0.23598076923076927])\n",
      "v: 0.2195301372328554\n",
      "sample size: 52000, repeat: 2\n",
      "OPT error 0.21686538461538463 errors dict_values([0.23907692307692308, 0.23907692307692308, 0.23907692307692308, 0.23907692307692308, 0.23907692307692308, 0.23907692307692308, 0.21686538461538463, 0.23907692307692308, 0.23907692307692308, 0.23907692307692308])\n",
      "v: 0.27126371718954556\n",
      "sample size: 52000, repeat: 3\n",
      "OPT error 0.21607692307692306 errors dict_values([0.23848076923076922, 0.23848076923076922, 0.23848076923076922, 0.23848076923076922, 0.23848076923076922, 0.23848076923076922, 0.21607692307692306, 0.23848076923076922, 0.23848076923076922, 0.23848076923076922])\n",
      "v: 0.2512333010353074\n",
      "sample size: 52000, repeat: 4\n",
      "OPT error 0.21296153846153842 errors dict_values([0.23550000000000004, 0.23550000000000004, 0.23550000000000004, 0.23550000000000004, 0.23550000000000004, 0.23550000000000004, 0.21296153846153842, 0.23550000000000004, 0.23550000000000004, 0.23550000000000004])\n",
      "v: 0.22426502759547645\n",
      "sample size: 52000, repeat: 5\n",
      "OPT error 0.21582692307692308 errors dict_values([0.23876923076923073, 0.23876923076923073, 0.23876923076923073, 0.23876923076923073, 0.23876923076923073, 0.23876923076923073, 0.21582692307692308, 0.23876923076923073, 0.23876923076923073, 0.23876923076923073])\n",
      "v: 0.2609981953308734\n",
      "sample size: 52000, repeat: 6\n",
      "OPT error 0.21205769230769234 errors dict_values([0.23532692307692304, 0.23532692307692304, 0.23532692307692304, 0.23532692307692304, 0.23532692307692304, 0.23532692307692304, 0.21205769230769234, 0.23532692307692304, 0.23532692307692304, 0.23532692307692304])\n",
      "v: 0.28049325488414023\n",
      "sample size: 52000, repeat: 7\n",
      "OPT error 0.2148461538461538 errors dict_values([0.23776923076923073, 0.23776923076923073, 0.23776923076923073, 0.23776923076923073, 0.23776923076923073, 0.23776923076923073, 0.2148461538461538, 0.23776923076923073, 0.23776923076923073, 0.23776923076923073])\n",
      "v: 0.22520596209989951\n",
      "sample size: 52000, repeat: 8\n",
      "OPT error 0.21698076923076925 errors dict_values([0.23869230769230765, 0.23869230769230765, 0.23869230769230765, 0.23869230769230765, 0.23869230769230765, 0.23869230769230765, 0.21698076923076925, 0.23869230769230765, 0.23869230769230765, 0.23869230769230765])\n",
      "v: 0.27853146190056133\n",
      "sample size: 52000, repeat: 9\n",
      "OPT error 0.21288461538461534 errors dict_values([0.2365384615384616, 0.2365384615384616, 0.2365384615384616, 0.2365384615384616, 0.2365384615384616, 0.2365384615384616, 0.21288461538461534, 0.2365384615384616, 0.2365384615384616, 0.2365384615384616])\n",
      "v: 0.24352009182559325\n"
     ]
    },
    {
     "name": "stderr",
     "output_type": "stream",
     "text": [
      "100%|██████████| 10/10 [00:00<00:00, 67.27it/s]"
     ]
    },
    {
     "name": "stdout",
     "output_type": "stream",
     "text": [
      "sample size: 53000, repeat: 0\n",
      "OPT error 0.21456603773584904 errors dict_values([0.23715094339622644, 0.23715094339622644, 0.23715094339622644, 0.23715094339622644, 0.23715094339622644, 0.23715094339622644, 0.21456603773584904, 0.23715094339622644, 0.23715094339622644, 0.23715094339622644])\n",
      "v: 0.22897828709670207\n",
      "sample size: 53000, repeat: 1\n",
      "OPT error 0.21411320754716978 errors dict_values([0.23667924528301887, 0.23667924528301887, 0.23667924528301887, 0.23667924528301887, 0.23667924528301887, 0.23667924528301887, 0.21411320754716978, 0.23667924528301887, 0.23667924528301887, 0.23667924528301887])\n",
      "v: 0.22020103708771752\n",
      "sample size: 53000, repeat: 2\n"
     ]
    },
    {
     "name": "stderr",
     "output_type": "stream",
     "text": [
      "\n"
     ]
    },
    {
     "name": "stdout",
     "output_type": "stream",
     "text": [
      "OPT error 0.21705660377358493 errors dict_values([0.23926415094339626, 0.23926415094339626, 0.23926415094339626, 0.23926415094339626, 0.23926415094339626, 0.23926415094339626, 0.21705660377358493, 0.23926415094339626, 0.23926415094339626, 0.23926415094339626])\n",
      "v: 0.27145493634774587\n",
      "sample size: 53000, repeat: 3\n",
      "OPT error 0.21647169811320754 errors dict_values([0.23892452830188682, 0.23892452830188682, 0.23892452830188682, 0.23892452830188682, 0.23892452830188682, 0.23892452830188682, 0.21647169811320754, 0.23892452830188682, 0.23892452830188682, 0.23892452830188682])\n",
      "v: 0.2516280760715919\n",
      "sample size: 53000, repeat: 4\n",
      "OPT error 0.2135283018867925 errors dict_values([0.23596226415094335, 0.23596226415094335, 0.23596226415094335, 0.23596226415094335, 0.23596226415094335, 0.23596226415094335, 0.2135283018867925, 0.23596226415094335, 0.23596226415094335, 0.23596226415094335])\n",
      "v: 0.22483179102073053\n",
      "sample size: 53000, repeat: 5\n",
      "OPT error 0.21577358490566034 errors dict_values([0.23856603773584906, 0.23856603773584906, 0.23856603773584906, 0.23856603773584906, 0.23856603773584906, 0.23856603773584906, 0.21577358490566034, 0.23856603773584906, 0.23856603773584906, 0.23856603773584906])\n",
      "v: 0.26094485715961063\n",
      "sample size: 53000, repeat: 6\n",
      "OPT error 0.21232075471698109 errors dict_values([0.23558490566037738, 0.23558490566037738, 0.23558490566037738, 0.23558490566037738, 0.23558490566037738, 0.23558490566037738, 0.21232075471698109, 0.23558490566037738, 0.23558490566037738, 0.23558490566037738])\n",
      "v: 0.280756317293429\n",
      "sample size: 53000, repeat: 7\n",
      "OPT error 0.21466037735849053 errors dict_values([0.23758490566037738, 0.23758490566037738, 0.23758490566037738, 0.23758490566037738, 0.23758490566037738, 0.23758490566037738, 0.21466037735849053, 0.23758490566037738, 0.23758490566037738, 0.23758490566037738])\n",
      "v: 0.22502018561223625\n",
      "sample size: 53000, repeat: 8\n",
      "OPT error 0.21711320754716978 errors dict_values([0.23883018867924533, 0.23883018867924533, 0.23883018867924533, 0.23883018867924533, 0.23883018867924533, 0.23883018867924533, 0.21711320754716978, 0.23883018867924533, 0.23883018867924533, 0.23883018867924533])\n",
      "v: 0.27866390021696186\n",
      "sample size: 53000, repeat: 9\n",
      "OPT error 0.2133207547169811 errors dict_values([0.2369056603773585, 0.2369056603773585, 0.2369056603773585, 0.2369056603773585, 0.2369056603773585, 0.2369056603773585, 0.2133207547169811, 0.2369056603773585, 0.2369056603773585, 0.2369056603773585])\n",
      "v: 0.243956231157959\n"
     ]
    },
    {
     "name": "stderr",
     "output_type": "stream",
     "text": [
      "100%|██████████| 10/10 [00:00<00:00, 67.29it/s]"
     ]
    },
    {
     "name": "stdout",
     "output_type": "stream",
     "text": [
      "sample size: 54000, repeat: 0\n",
      "OPT error 0.21429629629629632 errors dict_values([0.2367407407407407, 0.2367407407407407, 0.2367407407407407, 0.2367407407407407, 0.2367407407407407, 0.2367407407407407, 0.21429629629629632, 0.2367407407407407, 0.2367407407407407, 0.2367407407407407])\n",
      "v: 0.22870854565714935\n",
      "sample size: 54000, repeat: 1\n"
     ]
    },
    {
     "name": "stderr",
     "output_type": "stream",
     "text": [
      "\n"
     ]
    },
    {
     "name": "stdout",
     "output_type": "stream",
     "text": [
      "OPT error 0.2143518518518519 errors dict_values([0.23701851851851852, 0.23701851851851852, 0.23701851851851852, 0.23701851851851852, 0.23701851851851852, 0.23701851851851852, 0.2143518518518519, 0.23701851851851852, 0.23701851851851852, 0.23701851851851852])\n",
      "v: 0.22043968139239964\n",
      "sample size: 54000, repeat: 2\n",
      "OPT error 0.21718518518518515 errors dict_values([0.23942592592592593, 0.23942592592592593, 0.23942592592592593, 0.23942592592592593, 0.23942592592592593, 0.23942592592592593, 0.21718518518518515, 0.23942592592592593, 0.23942592592592593, 0.23942592592592593])\n",
      "v: 0.2715835177593461\n",
      "sample size: 54000, repeat: 3\n",
      "OPT error 0.21659259259259256 errors dict_values([0.2391481481481481, 0.2391481481481481, 0.2391481481481481, 0.2391481481481481, 0.2391481481481481, 0.2391481481481481, 0.21659259259259256, 0.2391481481481481, 0.2391481481481481, 0.2391481481481481])\n",
      "v: 0.2517489705509769\n",
      "sample size: 54000, repeat: 4\n",
      "OPT error 0.2136296296296296 errors dict_values([0.23596296296296293, 0.23596296296296293, 0.23596296296296293, 0.23596296296296293, 0.23596296296296293, 0.23596296296296293, 0.2136296296296296, 0.23596296296296293, 0.23596296296296293, 0.23596296296296293])\n",
      "v: 0.22493311876356764\n",
      "sample size: 54000, repeat: 5\n",
      "OPT error 0.21551851851851855 errors dict_values([0.23824074074074075, 0.23824074074074075, 0.23824074074074075, 0.23824074074074075, 0.23824074074074075, 0.23824074074074075, 0.21551851851851855, 0.23824074074074075, 0.23824074074074075, 0.23824074074074075])\n",
      "v: 0.26068979077246884\n",
      "sample size: 54000, repeat: 6\n",
      "OPT error 0.2126296296296296 errors dict_values([0.23598148148148146, 0.23598148148148146, 0.23598148148148146, 0.23598148148148146, 0.23598148148148146, 0.23598148148148146, 0.2126296296296296, 0.23598148148148146, 0.23598148148148146, 0.23598148148148146])\n",
      "v: 0.2810651922060775\n",
      "sample size: 54000, repeat: 7\n",
      "OPT error 0.2147592592592592 errors dict_values([0.23770370370370375, 0.23770370370370375, 0.23770370370370375, 0.23770370370370375, 0.23770370370370375, 0.23770370370370375, 0.2147592592592592, 0.23770370370370375, 0.23770370370370375, 0.23770370370370375])\n",
      "v: 0.22511906751300492\n",
      "sample size: 54000, repeat: 8\n",
      "OPT error 0.2166851851851852 errors dict_values([0.23842592592592593, 0.23842592592592593, 0.23842592592592593, 0.23842592592592593, 0.23842592592592593, 0.23842592592592593, 0.2166851851851852, 0.23842592592592593, 0.23842592592592593, 0.23842592592592593])\n",
      "v: 0.2782358778549773\n",
      "sample size: 54000, repeat: 9\n",
      "OPT error 0.2136296296296296 errors dict_values([0.23722222222222222, 0.23722222222222222, 0.23722222222222222, 0.23722222222222222, 0.23722222222222222, 0.23722222222222222, 0.2136296296296296, 0.23722222222222222, 0.23722222222222222, 0.23722222222222222])\n",
      "v: 0.24426510607060753\n"
     ]
    },
    {
     "name": "stderr",
     "output_type": "stream",
     "text": [
      "100%|██████████| 10/10 [00:00<00:00, 65.62it/s]"
     ]
    },
    {
     "name": "stdout",
     "output_type": "stream",
     "text": [
      "sample size: 55000, repeat: 0\n",
      "OPT error 0.2143454545454545 errors dict_values([0.23672727272727268, 0.23672727272727268, 0.23672727272727268, 0.23672727272727268, 0.23672727272727268, 0.23672727272727268, 0.2143454545454545, 0.23672727272727268, 0.23672727272727268, 0.23672727272727268])\n",
      "v: 0.22875770390630754\n",
      "sample size: 55000, repeat: 1\n"
     ]
    },
    {
     "name": "stderr",
     "output_type": "stream",
     "text": [
      "\n"
     ]
    },
    {
     "name": "stdout",
     "output_type": "stream",
     "text": [
      "OPT error 0.21410909090909092 errors dict_values([0.23694545454545457, 0.23694545454545457, 0.23694545454545457, 0.23694545454545457, 0.23694545454545457, 0.23694545454545457, 0.21410909090909092, 0.23694545454545457, 0.23694545454545457, 0.23694545454545457])\n",
      "v: 0.22019692044963865\n",
      "sample size: 55000, repeat: 2\n",
      "OPT error 0.2173272727272727 errors dict_values([0.23961818181818184, 0.23961818181818184, 0.23961818181818184, 0.23961818181818184, 0.23961818181818184, 0.23961818181818184, 0.2173272727272727, 0.23961818181818184, 0.23961818181818184, 0.23961818181818184])\n",
      "v: 0.27172560530143364\n",
      "sample size: 55000, repeat: 3\n",
      "OPT error 0.2163090909090909 errors dict_values([0.23883636363636362, 0.23883636363636362, 0.23883636363636362, 0.23883636363636362, 0.23883636363636362, 0.23883636363636362, 0.2163090909090909, 0.23883636363636362, 0.23883636363636362, 0.23883636363636362])\n",
      "v: 0.25146546886747523\n",
      "sample size: 55000, repeat: 4\n",
      "OPT error 0.21372727272727277 errors dict_values([0.2360545454545454, 0.2360545454545454, 0.2360545454545454, 0.2360545454545454, 0.2360545454545454, 0.2360545454545454, 0.21372727272727277, 0.2360545454545454, 0.2360545454545454, 0.2360545454545454])\n",
      "v: 0.2250307618612108\n",
      "sample size: 55000, repeat: 5\n",
      "OPT error 0.2152909090909091 errors dict_values([0.23821818181818177, 0.23821818181818177, 0.23821818181818177, 0.23821818181818177, 0.23821818181818177, 0.23821818181818177, 0.2152909090909091, 0.23821818181818177, 0.23821818181818177, 0.23821818181818177])\n",
      "v: 0.2604621813448594\n",
      "sample size: 55000, repeat: 6\n",
      "OPT error 0.21252727272727268 errors dict_values([0.23583636363636362, 0.23583636363636362, 0.23583636363636362, 0.23583636363636362, 0.23583636363636362, 0.23583636363636362, 0.21252727272727268, 0.23583636363636362, 0.23583636363636362, 0.23583636363636362])\n",
      "v: 0.28096283530372057\n",
      "sample size: 55000, repeat: 7\n",
      "OPT error 0.21445454545454545 errors dict_values([0.23736363636363633, 0.23736363636363633, 0.23736363636363633, 0.23736363636363633, 0.23736363636363633, 0.23736363636363633, 0.21445454545454545, 0.23736363636363633, 0.23736363636363633, 0.23736363636363633])\n",
      "v: 0.22481435370829117\n",
      "sample size: 55000, repeat: 8\n",
      "OPT error 0.21667272727272724 errors dict_values([0.2385636363636363, 0.2385636363636363, 0.2385636363636363, 0.2385636363636363, 0.2385636363636363, 0.2385636363636363, 0.21667272727272724, 0.2385636363636363, 0.2385636363636363, 0.2385636363636363])\n",
      "v: 0.2782234199425193\n",
      "sample size: 55000, repeat: 9\n",
      "OPT error 0.21394545454545455 errors dict_values([0.23743636363636367, 0.23743636363636367, 0.23743636363636367, 0.23743636363636367, 0.23743636363636367, 0.23743636363636367, 0.21394545454545455, 0.23743636363636367, 0.23743636363636367, 0.23743636363636367])\n",
      "v: 0.24458093098643247\n"
     ]
    },
    {
     "name": "stderr",
     "output_type": "stream",
     "text": [
      "100%|██████████| 10/10 [00:00<00:00, 56.02it/s]"
     ]
    },
    {
     "name": "stdout",
     "output_type": "stream",
     "text": [
      "sample size: 56000, repeat: 0\n"
     ]
    },
    {
     "name": "stderr",
     "output_type": "stream",
     "text": [
      "\n"
     ]
    },
    {
     "name": "stdout",
     "output_type": "stream",
     "text": [
      "OPT error 0.21441071428571423 errors dict_values([0.23687499999999995, 0.23687499999999995, 0.23687499999999995, 0.23687499999999995, 0.23687499999999995, 0.23687499999999995, 0.21441071428571423, 0.23687499999999995, 0.23687499999999995, 0.23687499999999995])\n",
      "v: 0.22882296364656726\n",
      "sample size: 56000, repeat: 1\n",
      "OPT error 0.21410714285714283 errors dict_values([0.23680357142857145, 0.23680357142857145, 0.23680357142857145, 0.23680357142857145, 0.23680357142857145, 0.23680357142857145, 0.21410714285714283, 0.23680357142857145, 0.23680357142857145, 0.23680357142857145])\n",
      "v: 0.22019497239769056\n",
      "sample size: 56000, repeat: 2\n",
      "OPT error 0.2169821428571429 errors dict_values([0.23939285714285718, 0.23939285714285718, 0.23939285714285718, 0.23939285714285718, 0.23939285714285718, 0.23939285714285718, 0.2169821428571429, 0.23939285714285718, 0.23939285714285718, 0.23939285714285718])\n",
      "v: 0.27138047543130384\n",
      "sample size: 56000, repeat: 3\n",
      "OPT error 0.21607142857142858 errors dict_values([0.23864285714285716, 0.23864285714285716, 0.23864285714285716, 0.23864285714285716, 0.23864285714285716, 0.23864285714285716, 0.21607142857142858, 0.23864285714285716, 0.23864285714285716, 0.23864285714285716])\n",
      "v: 0.2512278065298129\n",
      "sample size: 56000, repeat: 4\n",
      "OPT error 0.21350000000000002 errors dict_values([0.23587499999999995, 0.23587499999999995, 0.23587499999999995, 0.23587499999999995, 0.23587499999999995, 0.23587499999999995, 0.21350000000000002, 0.23587499999999995, 0.23587499999999995, 0.23587499999999995])\n",
      "v: 0.22480348913393805\n",
      "sample size: 56000, repeat: 5\n",
      "OPT error 0.21550000000000002 errors dict_values([0.23851785714285711, 0.23851785714285711, 0.23851785714285711, 0.23851785714285711, 0.23851785714285711, 0.23851785714285711, 0.21550000000000002, 0.23851785714285711, 0.23851785714285711, 0.23851785714285711])\n",
      "v: 0.2606712722539503\n",
      "sample size: 56000, repeat: 6\n",
      "OPT error 0.21264285714285713 errors dict_values([0.23594642857142856, 0.23594642857142856, 0.23594642857142856, 0.23594642857142856, 0.23594642857142856, 0.23594642857142856, 0.21264285714285713, 0.23594642857142856, 0.23594642857142856, 0.23594642857142856])\n",
      "v: 0.28107841971930503\n",
      "sample size: 56000, repeat: 7\n",
      "OPT error 0.21433928571428573 errors dict_values([0.23717857142857146, 0.23717857142857146, 0.23717857142857146, 0.23717857142857146, 0.23717857142857146, 0.23717857142857146, 0.21433928571428573, 0.23717857142857146, 0.23717857142857146, 0.23717857142857146])\n",
      "v: 0.22469909396803145\n",
      "sample size: 56000, repeat: 8\n",
      "OPT error 0.21662499999999996 errors dict_values([0.23844642857142861, 0.23844642857142861, 0.23844642857142861, 0.23844642857142861, 0.23844642857142861, 0.23844642857142861, 0.21662499999999996, 0.23844642857142861, 0.23844642857142861, 0.23844642857142861])\n",
      "v: 0.27817569266979203\n",
      "sample size: 56000, repeat: 9\n",
      "OPT error 0.21399999999999997 errors dict_values([0.23748214285714286, 0.23748214285714286, 0.23748214285714286, 0.23748214285714286, 0.23748214285714286, 0.23748214285714286, 0.21399999999999997, 0.23748214285714286, 0.23748214285714286, 0.23748214285714286])\n",
      "v: 0.24463547644097788\n"
     ]
    },
    {
     "name": "stderr",
     "output_type": "stream",
     "text": [
      "100%|██████████| 10/10 [00:00<00:00, 65.16it/s]"
     ]
    },
    {
     "name": "stdout",
     "output_type": "stream",
     "text": [
      "sample size: 57000, repeat: 0\n"
     ]
    },
    {
     "name": "stderr",
     "output_type": "stream",
     "text": [
      "\n"
     ]
    },
    {
     "name": "stdout",
     "output_type": "stream",
     "text": [
      "OPT error 0.2142982456140351 errors dict_values([0.23673684210526313, 0.23673684210526313, 0.23673684210526313, 0.23673684210526313, 0.23673684210526313, 0.23673684210526313, 0.2142982456140351, 0.23673684210526313, 0.23673684210526313, 0.23673684210526313])\n",
      "v: 0.22871049497488813\n",
      "sample size: 57000, repeat: 1\n",
      "OPT error 0.2136842105263158 errors dict_values([0.23635087719298242, 0.23635087719298242, 0.23635087719298242, 0.23635087719298242, 0.23635087719298242, 0.23635087719298242, 0.2136842105263158, 0.23635087719298242, 0.23635087719298242, 0.23635087719298242])\n",
      "v: 0.21977204006686354\n",
      "sample size: 57000, repeat: 2\n",
      "OPT error 0.21738596491228068 errors dict_values([0.23973684210526314, 0.23973684210526314, 0.23973684210526314, 0.23973684210526314, 0.23973684210526314, 0.23973684210526314, 0.21738596491228068, 0.23973684210526314, 0.23973684210526314, 0.23973684210526314])\n",
      "v: 0.2717842974864416\n",
      "sample size: 57000, repeat: 3\n",
      "OPT error 0.21592982456140353 errors dict_values([0.23842105263157898, 0.23842105263157898, 0.23842105263157898, 0.23842105263157898, 0.23842105263157898, 0.23842105263157898, 0.21592982456140353, 0.23842105263157898, 0.23842105263157898, 0.23842105263157898])\n",
      "v: 0.25108620251978786\n",
      "sample size: 57000, repeat: 4\n",
      "OPT error 0.21307017543859652 errors dict_values([0.2354385964912281, 0.2354385964912281, 0.2354385964912281, 0.2354385964912281, 0.2354385964912281, 0.2354385964912281, 0.21307017543859652, 0.2354385964912281, 0.2354385964912281, 0.2354385964912281])\n",
      "v: 0.22437366457253455\n",
      "sample size: 57000, repeat: 5\n",
      "OPT error 0.2157192982456141 errors dict_values([0.2386666666666667, 0.2386666666666667, 0.2386666666666667, 0.2386666666666667, 0.2386666666666667, 0.2386666666666667, 0.2157192982456141, 0.2386666666666667, 0.2386666666666667, 0.2386666666666667])\n",
      "v: 0.2608905704995644\n",
      "sample size: 57000, repeat: 6\n",
      "OPT error 0.21284210526315794 errors dict_values([0.23615789473684212, 0.23615789473684212, 0.23615789473684212, 0.23615789473684212, 0.23615789473684212, 0.23615789473684212, 0.21284210526315794, 0.23615789473684212, 0.23615789473684212, 0.23615789473684212])\n",
      "v: 0.28127766783960584\n",
      "sample size: 57000, repeat: 7\n",
      "OPT error 0.21438596491228068 errors dict_values([0.23715789473684212, 0.23715789473684212, 0.23715789473684212, 0.23715789473684212, 0.23715789473684212, 0.23715789473684212, 0.21438596491228068, 0.23715789473684212, 0.23715789473684212, 0.23715789473684212])\n",
      "v: 0.2247457731660264\n",
      "sample size: 57000, repeat: 8\n",
      "OPT error 0.21694736842105267 errors dict_values([0.238719298245614, 0.238719298245614, 0.238719298245614, 0.238719298245614, 0.238719298245614, 0.238719298245614, 0.21694736842105267, 0.238719298245614, 0.238719298245614, 0.238719298245614])\n",
      "v: 0.27849806109084474\n",
      "sample size: 57000, repeat: 9\n",
      "OPT error 0.21359649122807023 errors dict_values([0.2369649122807017, 0.2369649122807017, 0.2369649122807017, 0.2369649122807017, 0.2369649122807017, 0.2369649122807017, 0.21359649122807023, 0.2369649122807017, 0.2369649122807017, 0.2369649122807017])\n",
      "v: 0.24423196766904814\n"
     ]
    },
    {
     "name": "stderr",
     "output_type": "stream",
     "text": [
      "100%|██████████| 10/10 [00:00<00:00, 64.33it/s]\n"
     ]
    },
    {
     "name": "stdout",
     "output_type": "stream",
     "text": [
      "sample size: 58000, repeat: 0\n",
      "OPT error 0.21377586206896548 errors dict_values([0.23627586206896556, 0.23627586206896556, 0.23627586206896556, 0.23627586206896556, 0.23627586206896556, 0.23627586206896556, 0.21377586206896548, 0.23627586206896556, 0.23627586206896556, 0.23627586206896556])\n",
      "v: 0.2281881114298185\n",
      "sample size: 58000, repeat: 1\n",
      "OPT error 0.21393103448275863 errors dict_values([0.2365172413793103, 0.2365172413793103, 0.2365172413793103, 0.2365172413793103, 0.2365172413793103, 0.2365172413793103, 0.21393103448275863, 0.2365172413793103, 0.2365172413793103, 0.2365172413793103])\n",
      "v: 0.22001886402330637\n",
      "sample size: 58000, repeat: 2\n",
      "OPT error 0.21705172413793106 errors dict_values([0.23944827586206896, 0.23944827586206896, 0.23944827586206896, 0.23944827586206896, 0.23944827586206896, 0.23944827586206896, 0.21705172413793106, 0.23944827586206896, 0.23944827586206896, 0.23944827586206896])\n",
      "v: 0.271450056712092\n",
      "sample size: 58000, repeat: 3\n",
      "OPT error 0.21574137931034487 errors dict_values([0.23841379310344823, 0.23841379310344823, 0.23841379310344823, 0.23841379310344823, 0.23841379310344823, 0.23841379310344823, 0.21574137931034487, 0.23841379310344823, 0.23841379310344823, 0.23841379310344823])\n",
      "v: 0.2508977572687292\n",
      "sample size: 58000, repeat: 4\n",
      "OPT error 0.21327586206896554 errors dict_values([0.23587931034482756, 0.23587931034482756, 0.23587931034482756, 0.23587931034482756, 0.23587931034482756, 0.23587931034482756, 0.21327586206896554, 0.23587931034482756, 0.23587931034482756, 0.23587931034482756])\n",
      "v: 0.22457935120290357\n",
      "sample size: 58000, repeat: 5\n",
      "OPT error 0.2155172413793104 errors dict_values([0.23839655172413798, 0.23839655172413798, 0.23839655172413798, 0.23839655172413798, 0.23839655172413798, 0.23839655172413798, 0.2155172413793104, 0.23839655172413798, 0.23839655172413798, 0.23839655172413798])\n",
      "v: 0.2606885136332607\n",
      "sample size: 58000, repeat: 6\n",
      "OPT error 0.21260344827586208 errors dict_values([0.236, 0.236, 0.236, 0.236, 0.236, 0.236, 0.21260344827586208, 0.236, 0.236, 0.236])\n",
      "v: 0.28103901085231\n",
      "sample size: 58000, repeat: 7\n",
      "OPT error 0.214551724137931 errors dict_values([0.23715517241379314, 0.23715517241379314, 0.23715517241379314, 0.23715517241379314, 0.23715517241379314, 0.23715517241379314, 0.214551724137931, 0.23715517241379314, 0.23715517241379314, 0.23715517241379314])\n",
      "v: 0.22491153239167672\n",
      "sample size: 58000, repeat: 8\n",
      "OPT error 0.216551724137931 errors dict_values([0.2386034482758621, 0.2386034482758621, 0.2386034482758621, 0.2386034482758621, 0.2386034482758621, 0.2386034482758621, 0.216551724137931, 0.2386034482758621, 0.2386034482758621, 0.2386034482758621])\n",
      "v: 0.2781024168077231\n",
      "sample size: 58000, repeat: 9\n",
      "OPT error 0.21393103448275863 errors dict_values([0.23732758620689653, 0.23732758620689653, 0.23732758620689653, 0.23732758620689653, 0.23732758620689653, 0.23732758620689653, 0.21393103448275863, 0.23732758620689653, 0.23732758620689653, 0.23732758620689653])\n",
      "v: 0.24456651092373655\n"
     ]
    },
    {
     "name": "stderr",
     "output_type": "stream",
     "text": [
      "100%|██████████| 10/10 [00:00<00:00, 64.42it/s]"
     ]
    },
    {
     "name": "stdout",
     "output_type": "stream",
     "text": [
      "sample size: 59000, repeat: 0\n"
     ]
    },
    {
     "name": "stderr",
     "output_type": "stream",
     "text": [
      "\n"
     ]
    },
    {
     "name": "stdout",
     "output_type": "stream",
     "text": [
      "OPT error 0.21364406779661016 errors dict_values([0.23625423728813555, 0.23625423728813555, 0.23625423728813555, 0.23625423728813555, 0.23625423728813555, 0.23625423728813555, 0.21364406779661016, 0.23625423728813555, 0.23625423728813555, 0.23625423728813555])\n",
      "v: 0.2280563171574632\n",
      "sample size: 59000, repeat: 1\n",
      "OPT error 0.2137457627118644 errors dict_values([0.23650847457627122, 0.23650847457627122, 0.23650847457627122, 0.23650847457627122, 0.23650847457627122, 0.23650847457627122, 0.2137457627118644, 0.23650847457627122, 0.23650847457627122, 0.23650847457627122])\n",
      "v: 0.21983359225241214\n",
      "sample size: 59000, repeat: 2\n",
      "OPT error 0.2169152542372882 errors dict_values([0.23954237288135594, 0.23954237288135594, 0.23954237288135594, 0.23954237288135594, 0.23954237288135594, 0.23954237288135594, 0.2169152542372882, 0.23954237288135594, 0.23954237288135594, 0.23954237288135594])\n",
      "v: 0.2713135868114491\n",
      "sample size: 59000, repeat: 3\n",
      "OPT error 0.2159491525423729 errors dict_values([0.23864406779661018, 0.23864406779661018, 0.23864406779661018, 0.23864406779661018, 0.23864406779661018, 0.23864406779661018, 0.2159491525423729, 0.23864406779661018, 0.23864406779661018, 0.23864406779661018])\n",
      "v: 0.25110553050075723\n",
      "sample size: 59000, repeat: 4\n",
      "OPT error 0.2135423728813559 errors dict_values([0.2361186440677966, 0.2361186440677966, 0.2361186440677966, 0.2361186440677966, 0.2361186440677966, 0.2361186440677966, 0.2135423728813559, 0.2361186440677966, 0.2361186440677966, 0.2361186440677966])\n",
      "v: 0.22484586201529394\n",
      "sample size: 59000, repeat: 5\n",
      "OPT error 0.2154745762711865 errors dict_values([0.23840677966101698, 0.23840677966101698, 0.23840677966101698, 0.23840677966101698, 0.23840677966101698, 0.23840677966101698, 0.2154745762711865, 0.23840677966101698, 0.23840677966101698, 0.23840677966101698])\n",
      "v: 0.2606458485251368\n",
      "sample size: 59000, repeat: 6\n",
      "OPT error 0.2131525423728814 errors dict_values([0.23654237288135593, 0.23654237288135593, 0.23654237288135593, 0.23654237288135593, 0.23654237288135593, 0.23654237288135593, 0.2131525423728814, 0.23654237288135593, 0.23654237288135593, 0.23654237288135593])\n",
      "v: 0.2815881049493293\n",
      "sample size: 59000, repeat: 7\n",
      "OPT error 0.21457627118644063 errors dict_values([0.23720338983050848, 0.23720338983050848, 0.23720338983050848, 0.23720338983050848, 0.23720338983050848, 0.23720338983050848, 0.21457627118644063, 0.23720338983050848, 0.23720338983050848, 0.23720338983050848])\n",
      "v: 0.22493607944018634\n",
      "sample size: 59000, repeat: 8\n",
      "OPT error 0.21622033898305082 errors dict_values([0.23837288135593215, 0.23837288135593215, 0.23837288135593215, 0.23837288135593215, 0.23837288135593215, 0.23837288135593215, 0.21622033898305082, 0.23837288135593215, 0.23837288135593215, 0.23837288135593215])\n",
      "v: 0.2777710316528429\n",
      "sample size: 59000, repeat: 9\n",
      "OPT error 0.21408474576271186 errors dict_values([0.23733898305084744, 0.23733898305084744, 0.23733898305084744, 0.23733898305084744, 0.23733898305084744, 0.23733898305084744, 0.21408474576271186, 0.23733898305084744, 0.23733898305084744, 0.23733898305084744])\n",
      "v: 0.24472022220368977\n"
     ]
    },
    {
     "name": "stderr",
     "output_type": "stream",
     "text": [
      "100%|██████████| 10/10 [00:00<00:00, 60.98it/s]"
     ]
    },
    {
     "name": "stdout",
     "output_type": "stream",
     "text": [
      "sample size: 60000, repeat: 0\n"
     ]
    },
    {
     "name": "stderr",
     "output_type": "stream",
     "text": [
      "\n"
     ]
    },
    {
     "name": "stdout",
     "output_type": "stream",
     "text": [
      "OPT error 0.21376666666666666 errors dict_values([0.2364666666666667, 0.2364666666666667, 0.2364666666666667, 0.2364666666666667, 0.2364666666666667, 0.2364666666666667, 0.21376666666666666, 0.2364666666666667, 0.2364666666666667, 0.2364666666666667])\n",
      "v: 0.2281789160275197\n",
      "sample size: 60000, repeat: 1\n",
      "OPT error 0.21348333333333336 errors dict_values([0.2360833333333333, 0.2360833333333333, 0.2360833333333333, 0.2360833333333333, 0.2360833333333333, 0.2360833333333333, 0.21348333333333336, 0.2360833333333333, 0.2360833333333333, 0.2360833333333333])\n",
      "v: 0.2195711628738811\n",
      "sample size: 60000, repeat: 2\n",
      "OPT error 0.21696666666666664 errors dict_values([0.23965000000000003, 0.23965000000000003, 0.23965000000000003, 0.23965000000000003, 0.23965000000000003, 0.23965000000000003, 0.21696666666666664, 0.23965000000000003, 0.23965000000000003, 0.23965000000000003])\n",
      "v: 0.2713649992408276\n",
      "sample size: 60000, repeat: 3\n",
      "OPT error 0.21606666666666663 errors dict_values([0.23876666666666668, 0.23876666666666668, 0.23876666666666668, 0.23876666666666668, 0.23876666666666668, 0.23876666666666668, 0.21606666666666663, 0.23876666666666668, 0.23876666666666668, 0.23876666666666668])\n",
      "v: 0.25122304462505096\n",
      "sample size: 60000, repeat: 4\n",
      "OPT error 0.21326666666666672 errors dict_values([0.23576666666666668, 0.23576666666666668, 0.23576666666666668, 0.23576666666666668, 0.23576666666666668, 0.23576666666666668, 0.21326666666666672, 0.23576666666666668, 0.23576666666666668, 0.23576666666666668])\n",
      "v: 0.22457015580060474\n",
      "sample size: 60000, repeat: 5\n",
      "OPT error 0.21519999999999995 errors dict_values([0.23816666666666664, 0.23816666666666664, 0.23816666666666664, 0.23816666666666664, 0.23816666666666664, 0.23816666666666664, 0.21519999999999995, 0.23816666666666664, 0.23816666666666664, 0.23816666666666664])\n",
      "v: 0.26037127225395024\n",
      "sample size: 60000, repeat: 6\n",
      "OPT error 0.21323333333333339 errors dict_values([0.23660000000000003, 0.23660000000000003, 0.23660000000000003, 0.23660000000000003, 0.23660000000000003, 0.23660000000000003, 0.21323333333333339, 0.23660000000000003, 0.23660000000000003, 0.23660000000000003])\n",
      "v: 0.2816688959097813\n",
      "sample size: 60000, repeat: 7\n",
      "OPT error 0.21483333333333332 errors dict_values([0.23741666666666672, 0.23741666666666672, 0.23741666666666672, 0.23741666666666672, 0.23741666666666672, 0.23741666666666672, 0.21483333333333332, 0.23741666666666672, 0.23741666666666672, 0.23741666666666672])\n",
      "v: 0.22519314158707904\n",
      "sample size: 60000, repeat: 8\n",
      "OPT error 0.2159333333333333 errors dict_values([0.2382333333333333, 0.2382333333333333, 0.2382333333333333, 0.2382333333333333, 0.2382333333333333, 0.2382333333333333, 0.2159333333333333, 0.2382333333333333, 0.2382333333333333, 0.2382333333333333])\n",
      "v: 0.2774840260031254\n",
      "sample size: 60000, repeat: 9\n",
      "OPT error 0.21383333333333332 errors dict_values([0.23724999999999996, 0.23724999999999996, 0.23724999999999996, 0.23724999999999996, 0.23724999999999996, 0.23724999999999996, 0.21383333333333332, 0.23724999999999996, 0.23724999999999996, 0.23724999999999996])\n",
      "v: 0.24446880977431124\n",
      "not replicable at sample size between 50000 and 60000, prob: 0.4666666666666667\n"
     ]
    }
   ],
   "source": [
    "print(\"theoretical sample size: \", config.m_up_bound)\n",
    "ans_dict = getConvergenceSampleNum(min_subset_size=50000, max_subset_size=60000, repeat_num=10, rho=config.rho, sample_size_step=1000)"
   ]
  },
  {
   "cell_type": "code",
   "execution_count": 7,
   "id": "e0cae453",
   "metadata": {},
   "outputs": [
    {
     "data": {
      "text/plain": [
       "-1"
      ]
     },
     "execution_count": 7,
     "metadata": {},
     "output_type": "execute_result"
    }
   ],
   "source": [
    "ans_dict"
   ]
  },
  {
   "cell_type": "code",
   "execution_count": null,
   "id": "3561776b",
   "metadata": {},
   "outputs": [],
   "source": []
  }
 ],
 "metadata": {
  "kernelspec": {
   "display_name": "myenv",
   "language": "python",
   "name": "python3"
  },
  "language_info": {
   "codemirror_mode": {
    "name": "ipython",
    "version": 3
   },
   "file_extension": ".py",
   "mimetype": "text/x-python",
   "name": "python",
   "nbconvert_exporter": "python",
   "pygments_lexer": "ipython3",
   "version": "3.13.2"
  }
 },
 "nbformat": 4,
 "nbformat_minor": 5
}
