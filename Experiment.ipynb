{
 "cells": [
  {
   "cell_type": "markdown",
   "id": "a9624279",
   "metadata": {},
   "source": [
    "Reference paper: stability is stable \n",
    "Experiment: vary the value of rho and see the minimum sample size required for replicability\n",
    "\n",
    "func getConvergenceSampleNum(hyperparams)\n",
    "    For sample_num range(min_subsets_size, max_subsets_size, step):\n",
    "        For range(repeat_num):\n",
    "            random draw a subset of the dataset, whose size = sample_num\n",
    "            Use algorithm 10 to get a model\n",
    "        Check whether the models we get are 'replicable' to each other, accoding to the hyperparams. (see definition in page 14 of the paper)\n",
    "        if converged, return current sample_num\n",
    "\n",
    "func experiment(): \n",
    "# vary the rho and see minumum sample size required for replicability. \n",
    "# To make it simple, we can fix the value of other hyperparamers, such as alpha and beta.\n",
    "    for rho in range(min_rho, max_rho, step):\n",
    "        sample_num = getConvergenceSampleNum(rho)\n",
    "        theoretical_sample_num = getTheoreticalSampleNum(rho) # compute according to algorithm 10 in the paper\n",
    "        print(\"Hyperparams: \", hyperparams, \"Sample size: \", sample_num)\n",
    "    plot(hyperparams, theoretical_sample_num) # draw the curve, where x-axis is the hyperparams and y-axis is the sample size\n",
    "    plot(hyperparams, sample_num) # draw the curve, where x-axis is the hyperparams and y-axis is the sample size"
   ]
  },
  {
   "cell_type": "code",
   "execution_count": 1,
   "id": "78f39992",
   "metadata": {},
   "outputs": [
    {
     "name": "stdout",
     "output_type": "stream",
     "text": [
      "##### Config Variables #####\n",
      "np = <module 'numpy' from '/opt/anaconda3/envs/learn/lib/python3.12/site-packages/numpy/__init__.py'>\n",
      "dataset_path = ./dataset/Invistico_Airline.csv\n",
      "model_path = ./models/\n",
      "max_depth = 3\n",
      "random_seed = 42\n",
      "selected_features = ['Class', 'Seat comfort', 'Food and drink', 'Cleanliness', 'satisfaction']\n",
      "rho = 0.9\n",
      "alpha = 0.3\n",
      "beta = 0.2\n",
      "num_H = 10\n",
      "m = 100\n",
      "m_up_bound = 31.537459194175696\n",
      "tau_up_bound = 0.11725951011387799\n",
      "tau = 1.1725951011387799e-05\n",
      "############################\n"
     ]
    }
   ],
   "source": [
    "import pandas as pd\n",
    "import numpy as np\n",
    "import config\n",
    "import Algorithm10 as a10\n",
    "from sklearn.tree import export_text"
   ]
  },
  {
   "cell_type": "code",
   "execution_count": 2,
   "id": "a6be6126",
   "metadata": {},
   "outputs": [
    {
     "data": {
      "application/vnd.microsoft.datawrangler.viewer.v0+json": {
       "columns": [
        {
         "name": "index",
         "rawType": "int64",
         "type": "integer"
        },
        {
         "name": "satisfaction",
         "rawType": "object",
         "type": "string"
        },
        {
         "name": "Customer Type",
         "rawType": "object",
         "type": "string"
        },
        {
         "name": "Age",
         "rawType": "int64",
         "type": "integer"
        },
        {
         "name": "Type of Travel",
         "rawType": "object",
         "type": "string"
        },
        {
         "name": "Class",
         "rawType": "object",
         "type": "string"
        },
        {
         "name": "Flight Distance",
         "rawType": "int64",
         "type": "integer"
        },
        {
         "name": "Seat comfort",
         "rawType": "int64",
         "type": "integer"
        },
        {
         "name": "Departure/Arrival time convenient",
         "rawType": "int64",
         "type": "integer"
        },
        {
         "name": "Food and drink",
         "rawType": "int64",
         "type": "integer"
        },
        {
         "name": "Gate location",
         "rawType": "int64",
         "type": "integer"
        },
        {
         "name": "Inflight wifi service",
         "rawType": "int64",
         "type": "integer"
        },
        {
         "name": "Inflight entertainment",
         "rawType": "int64",
         "type": "integer"
        },
        {
         "name": "Online support",
         "rawType": "int64",
         "type": "integer"
        },
        {
         "name": "Ease of Online booking",
         "rawType": "int64",
         "type": "integer"
        },
        {
         "name": "On-board service",
         "rawType": "int64",
         "type": "integer"
        },
        {
         "name": "Leg room service",
         "rawType": "int64",
         "type": "integer"
        },
        {
         "name": "Baggage handling",
         "rawType": "int64",
         "type": "integer"
        },
        {
         "name": "Checkin service",
         "rawType": "int64",
         "type": "integer"
        },
        {
         "name": "Cleanliness",
         "rawType": "int64",
         "type": "integer"
        },
        {
         "name": "Online boarding",
         "rawType": "int64",
         "type": "integer"
        },
        {
         "name": "Departure Delay in Minutes",
         "rawType": "int64",
         "type": "integer"
        },
        {
         "name": "Arrival Delay in Minutes",
         "rawType": "float64",
         "type": "float"
        }
       ],
       "conversionMethod": "pd.DataFrame",
       "ref": "15407c47-6476-48cb-914d-2ad3585e0124",
       "rows": [
        [
         "0",
         "satisfied",
         "Loyal Customer",
         "65",
         "Personal Travel",
         "Eco",
         "265",
         "0",
         "0",
         "0",
         "2",
         "2",
         "4",
         "2",
         "3",
         "3",
         "0",
         "3",
         "5",
         "3",
         "2",
         "0",
         "0.0"
        ],
        [
         "1",
         "satisfied",
         "Loyal Customer",
         "47",
         "Personal Travel",
         "Business",
         "2464",
         "0",
         "0",
         "0",
         "3",
         "0",
         "2",
         "2",
         "3",
         "4",
         "4",
         "4",
         "2",
         "3",
         "2",
         "310",
         "305.0"
        ],
        [
         "2",
         "satisfied",
         "Loyal Customer",
         "15",
         "Personal Travel",
         "Eco",
         "2138",
         "0",
         "0",
         "0",
         "3",
         "2",
         "0",
         "2",
         "2",
         "3",
         "3",
         "4",
         "4",
         "4",
         "2",
         "0",
         "0.0"
        ],
        [
         "3",
         "satisfied",
         "Loyal Customer",
         "60",
         "Personal Travel",
         "Eco",
         "623",
         "0",
         "0",
         "0",
         "3",
         "3",
         "4",
         "3",
         "1",
         "1",
         "0",
         "1",
         "4",
         "1",
         "3",
         "0",
         "0.0"
        ],
        [
         "4",
         "satisfied",
         "Loyal Customer",
         "70",
         "Personal Travel",
         "Eco",
         "354",
         "0",
         "0",
         "0",
         "3",
         "4",
         "3",
         "4",
         "2",
         "2",
         "0",
         "2",
         "4",
         "2",
         "5",
         "0",
         "0.0"
        ]
       ],
       "shape": {
        "columns": 22,
        "rows": 5
       }
      },
      "text/html": [
       "<div>\n",
       "<style scoped>\n",
       "    .dataframe tbody tr th:only-of-type {\n",
       "        vertical-align: middle;\n",
       "    }\n",
       "\n",
       "    .dataframe tbody tr th {\n",
       "        vertical-align: top;\n",
       "    }\n",
       "\n",
       "    .dataframe thead th {\n",
       "        text-align: right;\n",
       "    }\n",
       "</style>\n",
       "<table border=\"1\" class=\"dataframe\">\n",
       "  <thead>\n",
       "    <tr style=\"text-align: right;\">\n",
       "      <th></th>\n",
       "      <th>satisfaction</th>\n",
       "      <th>Customer Type</th>\n",
       "      <th>Age</th>\n",
       "      <th>Type of Travel</th>\n",
       "      <th>Class</th>\n",
       "      <th>Flight Distance</th>\n",
       "      <th>Seat comfort</th>\n",
       "      <th>Departure/Arrival time convenient</th>\n",
       "      <th>Food and drink</th>\n",
       "      <th>Gate location</th>\n",
       "      <th>...</th>\n",
       "      <th>Online support</th>\n",
       "      <th>Ease of Online booking</th>\n",
       "      <th>On-board service</th>\n",
       "      <th>Leg room service</th>\n",
       "      <th>Baggage handling</th>\n",
       "      <th>Checkin service</th>\n",
       "      <th>Cleanliness</th>\n",
       "      <th>Online boarding</th>\n",
       "      <th>Departure Delay in Minutes</th>\n",
       "      <th>Arrival Delay in Minutes</th>\n",
       "    </tr>\n",
       "  </thead>\n",
       "  <tbody>\n",
       "    <tr>\n",
       "      <th>0</th>\n",
       "      <td>satisfied</td>\n",
       "      <td>Loyal Customer</td>\n",
       "      <td>65</td>\n",
       "      <td>Personal Travel</td>\n",
       "      <td>Eco</td>\n",
       "      <td>265</td>\n",
       "      <td>0</td>\n",
       "      <td>0</td>\n",
       "      <td>0</td>\n",
       "      <td>2</td>\n",
       "      <td>...</td>\n",
       "      <td>2</td>\n",
       "      <td>3</td>\n",
       "      <td>3</td>\n",
       "      <td>0</td>\n",
       "      <td>3</td>\n",
       "      <td>5</td>\n",
       "      <td>3</td>\n",
       "      <td>2</td>\n",
       "      <td>0</td>\n",
       "      <td>0.0</td>\n",
       "    </tr>\n",
       "    <tr>\n",
       "      <th>1</th>\n",
       "      <td>satisfied</td>\n",
       "      <td>Loyal Customer</td>\n",
       "      <td>47</td>\n",
       "      <td>Personal Travel</td>\n",
       "      <td>Business</td>\n",
       "      <td>2464</td>\n",
       "      <td>0</td>\n",
       "      <td>0</td>\n",
       "      <td>0</td>\n",
       "      <td>3</td>\n",
       "      <td>...</td>\n",
       "      <td>2</td>\n",
       "      <td>3</td>\n",
       "      <td>4</td>\n",
       "      <td>4</td>\n",
       "      <td>4</td>\n",
       "      <td>2</td>\n",
       "      <td>3</td>\n",
       "      <td>2</td>\n",
       "      <td>310</td>\n",
       "      <td>305.0</td>\n",
       "    </tr>\n",
       "    <tr>\n",
       "      <th>2</th>\n",
       "      <td>satisfied</td>\n",
       "      <td>Loyal Customer</td>\n",
       "      <td>15</td>\n",
       "      <td>Personal Travel</td>\n",
       "      <td>Eco</td>\n",
       "      <td>2138</td>\n",
       "      <td>0</td>\n",
       "      <td>0</td>\n",
       "      <td>0</td>\n",
       "      <td>3</td>\n",
       "      <td>...</td>\n",
       "      <td>2</td>\n",
       "      <td>2</td>\n",
       "      <td>3</td>\n",
       "      <td>3</td>\n",
       "      <td>4</td>\n",
       "      <td>4</td>\n",
       "      <td>4</td>\n",
       "      <td>2</td>\n",
       "      <td>0</td>\n",
       "      <td>0.0</td>\n",
       "    </tr>\n",
       "    <tr>\n",
       "      <th>3</th>\n",
       "      <td>satisfied</td>\n",
       "      <td>Loyal Customer</td>\n",
       "      <td>60</td>\n",
       "      <td>Personal Travel</td>\n",
       "      <td>Eco</td>\n",
       "      <td>623</td>\n",
       "      <td>0</td>\n",
       "      <td>0</td>\n",
       "      <td>0</td>\n",
       "      <td>3</td>\n",
       "      <td>...</td>\n",
       "      <td>3</td>\n",
       "      <td>1</td>\n",
       "      <td>1</td>\n",
       "      <td>0</td>\n",
       "      <td>1</td>\n",
       "      <td>4</td>\n",
       "      <td>1</td>\n",
       "      <td>3</td>\n",
       "      <td>0</td>\n",
       "      <td>0.0</td>\n",
       "    </tr>\n",
       "    <tr>\n",
       "      <th>4</th>\n",
       "      <td>satisfied</td>\n",
       "      <td>Loyal Customer</td>\n",
       "      <td>70</td>\n",
       "      <td>Personal Travel</td>\n",
       "      <td>Eco</td>\n",
       "      <td>354</td>\n",
       "      <td>0</td>\n",
       "      <td>0</td>\n",
       "      <td>0</td>\n",
       "      <td>3</td>\n",
       "      <td>...</td>\n",
       "      <td>4</td>\n",
       "      <td>2</td>\n",
       "      <td>2</td>\n",
       "      <td>0</td>\n",
       "      <td>2</td>\n",
       "      <td>4</td>\n",
       "      <td>2</td>\n",
       "      <td>5</td>\n",
       "      <td>0</td>\n",
       "      <td>0.0</td>\n",
       "    </tr>\n",
       "  </tbody>\n",
       "</table>\n",
       "<p>5 rows × 22 columns</p>\n",
       "</div>"
      ],
      "text/plain": [
       "  satisfaction   Customer Type  Age   Type of Travel     Class  \\\n",
       "0    satisfied  Loyal Customer   65  Personal Travel       Eco   \n",
       "1    satisfied  Loyal Customer   47  Personal Travel  Business   \n",
       "2    satisfied  Loyal Customer   15  Personal Travel       Eco   \n",
       "3    satisfied  Loyal Customer   60  Personal Travel       Eco   \n",
       "4    satisfied  Loyal Customer   70  Personal Travel       Eco   \n",
       "\n",
       "   Flight Distance  Seat comfort  Departure/Arrival time convenient  \\\n",
       "0              265             0                                  0   \n",
       "1             2464             0                                  0   \n",
       "2             2138             0                                  0   \n",
       "3              623             0                                  0   \n",
       "4              354             0                                  0   \n",
       "\n",
       "   Food and drink  Gate location  ...  Online support  Ease of Online booking  \\\n",
       "0               0              2  ...               2                       3   \n",
       "1               0              3  ...               2                       3   \n",
       "2               0              3  ...               2                       2   \n",
       "3               0              3  ...               3                       1   \n",
       "4               0              3  ...               4                       2   \n",
       "\n",
       "   On-board service  Leg room service  Baggage handling  Checkin service  \\\n",
       "0                 3                 0                 3                5   \n",
       "1                 4                 4                 4                2   \n",
       "2                 3                 3                 4                4   \n",
       "3                 1                 0                 1                4   \n",
       "4                 2                 0                 2                4   \n",
       "\n",
       "   Cleanliness  Online boarding  Departure Delay in Minutes  \\\n",
       "0            3                2                           0   \n",
       "1            3                2                         310   \n",
       "2            4                2                           0   \n",
       "3            1                3                           0   \n",
       "4            2                5                           0   \n",
       "\n",
       "   Arrival Delay in Minutes  \n",
       "0                       0.0  \n",
       "1                     305.0  \n",
       "2                       0.0  \n",
       "3                       0.0  \n",
       "4                       0.0  \n",
       "\n",
       "[5 rows x 22 columns]"
      ]
     },
     "execution_count": 2,
     "metadata": {},
     "output_type": "execute_result"
    }
   ],
   "source": [
    "data = pd.read_csv('dataset/Invistico_Airline.csv')\n",
    "data.head()"
   ]
  },
  {
   "cell_type": "code",
   "execution_count": 3,
   "id": "5e80489b",
   "metadata": {},
   "outputs": [
    {
     "data": {
      "text/plain": [
       "(129880, 22)"
      ]
     },
     "execution_count": 3,
     "metadata": {},
     "output_type": "execute_result"
    }
   ],
   "source": [
    "data.shape"
   ]
  },
  {
   "cell_type": "code",
   "execution_count": 4,
   "id": "93fb774f",
   "metadata": {},
   "outputs": [],
   "source": [
    "# function to check if two decision trees are equal\n",
    "def are_trees_equal(tree1, tree2):\n",
    "    # Check that both trees are fitted\n",
    "    if not hasattr(tree1, 'tree_') or not hasattr(tree2, 'tree_'):\n",
    "        raise ValueError(\"Both trees must be fitted before comparison.\")\n",
    "\n",
    "    # Compare parameters\n",
    "    if tree1.get_params() != tree2.get_params():\n",
    "        return False\n",
    "\n",
    "    t1 = tree1.tree_\n",
    "    t2 = tree2.tree_\n",
    "\n",
    "    # Compare structure and splitting rules\n",
    "    attributes_to_check = [\n",
    "        'children_left', 'children_right',\n",
    "        'feature', 'threshold',\n",
    "        'impurity', 'n_node_samples', 'weighted_n_node_samples',\n",
    "        'value'\n",
    "    ]\n",
    "\n",
    "    for attr in attributes_to_check:\n",
    "        if not np.array_equal(getattr(t1, attr), getattr(t2, attr)):\n",
    "            return False\n",
    "\n",
    "    return True\n"
   ]
  },
  {
   "cell_type": "code",
   "execution_count": 5,
   "id": "30be79b1",
   "metadata": {},
   "outputs": [],
   "source": [
    "def getConvergenceSampleNum(min_subset_size, max_subset_size, repeat_num, rho, sample_size_step=1):\n",
    "    sample_size_replicablity_dict = {}\n",
    "    \n",
    "    X, y= a10.load_full_dataset(config.dataset_path, random_state=config.random_seed)\n",
    "    for sample_size in range(min_subset_size, max_subset_size + 1, sample_size_step):\n",
    "        #get dataset of size sample_size by sampling from the original dataset\n",
    "        replicable_tree_list = []\n",
    "        H = a10.build_candidate_trees(X, y,sample_size, max_depth=config.max_depth, num_trees=config.num_H, random_state=config.random_seed)    \n",
    "        for i in range(repeat_num):\n",
    "            print(f\"sample size: {sample_size}, repeat: {i}\")\n",
    "            tree = a10.replicable_learner(X, y, H, sample_size, random_seed=config.random_seed+i)\n",
    "            replicable_tree_list.append(tree)\n",
    "            \n",
    "        #check the probability if the trees in the replicable_tree_list are the same\n",
    "        same_tree_count = 0\n",
    "        for i in range(len(replicable_tree_list)):\n",
    "            for j in range(i + 1, len(replicable_tree_list)):\n",
    "                \n",
    "                if are_trees_equal(replicable_tree_list[i], replicable_tree_list[j]):\n",
    "                    # print(f\"tree {i} and tree {j} are the same\")\n",
    "                    same_tree_count += 1\n",
    "        prob = same_tree_count / (repeat_num * (repeat_num - 1) / 2)\n",
    "        sample_size_replicablity_dict[sample_size] = prob\n",
    "        if prob >= 1-rho:\n",
    "            print(f\"replicable at sample size: {sample_size}, prob: {prob}\")\n",
    "            return sample_size \n",
    "        \n",
    "    # return sample_size_replicablity_dict\n",
    "    print(f\"not replicable at sample size between {min_subset_size} and {max_subset_size}, prob: {prob}\")\n",
    "    return -1\n",
    "\n",
    "            \n",
    "        \n",
    "    "
   ]
  },
  {
   "cell_type": "code",
   "execution_count": 13,
   "id": "97f00cd6",
   "metadata": {},
   "outputs": [
    {
     "name": "stdout",
     "output_type": "stream",
     "text": [
      "theoretical sample size:  31.537459194175696\n"
     ]
    },
    {
     "name": "stderr",
     "output_type": "stream",
     "text": [
      "100%|██████████| 10/10 [00:00<00:00, 167.40it/s]"
     ]
    },
    {
     "name": "stdout",
     "output_type": "stream",
     "text": [
      "sample size: 10, repeat: 0\n"
     ]
    },
    {
     "name": "stderr",
     "output_type": "stream",
     "text": [
      "\n"
     ]
    },
    {
     "name": "stdout",
     "output_type": "stream",
     "text": [
      "OPT error 0.19999999999999996 errors dict_values([0.19999999999999996, 0.5, 0.5, 0.4, 0.30000000000000004, 0.7, 0.4, 0.5, 0.4, 0.5])\n",
      "v: 0.26142859029269766\n",
      "sample size: 10, repeat: 1\n",
      "OPT error 0.0 errors dict_values([0.4, 0.0, 0.19999999999999996, 0.7, 0.19999999999999996, 0.5, 0.09999999999999998, 0.30000000000000004, 0.5, 0.30000000000000004])\n",
      "v: 0.0037002121061974124\n",
      "sample size: 10, repeat: 2\n",
      "OPT error 0.0 errors dict_values([0.19999999999999996, 0.4, 0.0, 0.09999999999999998, 0.19999999999999996, 0.19999999999999996, 0.30000000000000004, 0.5, 0.19999999999999996, 0.4])\n",
      "v: 0.039245789718678016\n",
      "sample size: 10, repeat: 3\n",
      "OPT error 0.0 errors dict_values([0.19999999999999996, 0.8, 0.4, 0.0, 0.5, 0.30000000000000004, 0.19999999999999996, 0.5, 0.6, 0.4])\n",
      "v: 0.02612535442814468\n",
      "sample size: 10, repeat: 4\n",
      "OPT error 0.0 errors dict_values([0.09999999999999998, 0.19999999999999996, 0.30000000000000004, 0.4, 0.0, 0.7, 0.30000000000000004, 0.30000000000000004, 0.19999999999999996, 0.30000000000000004])\n",
      "v: 0.007339177947496413\n",
      "sample size: 10, repeat: 5\n",
      "OPT error 0.09999999999999998 errors dict_values([0.7, 0.5, 0.4, 0.6, 0.30000000000000004, 0.09999999999999998, 0.6, 0.30000000000000004, 0.19999999999999996, 0.30000000000000004])\n",
      "v: 0.13380071917045622\n",
      "sample size: 10, repeat: 6\n",
      "OPT error 0.0 errors dict_values([0.5, 0.6, 0.4, 0.5, 0.30000000000000004, 0.5, 0.0, 0.6, 0.30000000000000004, 0.30000000000000004])\n",
      "v: 0.05265548556166697\n",
      "sample size: 10, repeat: 7\n",
      "OPT error 0.09999999999999998 errors dict_values([0.5, 0.4, 0.6, 0.5, 0.4, 0.4, 0.5, 0.09999999999999998, 0.5, 0.4])\n",
      "v: 0.10642172272596757\n",
      "sample size: 10, repeat: 8\n",
      "OPT error 0.19999999999999996 errors dict_values([0.4, 0.6, 0.4, 0.5, 0.4, 0.6, 0.30000000000000004, 0.6, 0.19999999999999996, 0.5])\n",
      "v: 0.2477920131842438\n",
      "sample size: 10, repeat: 9\n",
      "OPT error 0.0 errors dict_values([0.30000000000000004, 0.7, 0.19999999999999996, 0.4, 0.30000000000000004, 0.30000000000000004, 0.5, 0.19999999999999996, 0.5, 0.0])\n",
      "v: 0.023391371088950494\n"
     ]
    },
    {
     "name": "stderr",
     "output_type": "stream",
     "text": [
      "100%|██████████| 10/10 [00:00<00:00, 143.18it/s]\n"
     ]
    },
    {
     "name": "stdout",
     "output_type": "stream",
     "text": [
      "sample size: 20, repeat: 0\n",
      "OPT error 0.09999999999999998 errors dict_values([0.09999999999999998, 0.5, 0.5, 0.35, 0.44999999999999996, 0.30000000000000004, 0.25, 0.25, 0.5, 0.35])\n",
      "v: 0.16142859029269768\n",
      "sample size: 20, repeat: 1\n",
      "OPT error 0.050000000000000044 errors dict_values([0.5, 0.050000000000000044, 0.25, 0.44999999999999996, 0.55, 0.44999999999999996, 0.25, 0.30000000000000004, 0.5, 0.25])\n",
      "v: 0.05370021210619746\n",
      "sample size: 20, repeat: 2\n",
      "OPT error 0.050000000000000044 errors dict_values([0.35, 0.35, 0.050000000000000044, 0.25, 0.44999999999999996, 0.35, 0.050000000000000044, 0.09999999999999998, 0.30000000000000004, 0.25])\n",
      "v: 0.08924578971867805\n",
      "sample size: 20, repeat: 3\n",
      "OPT error 0.0 errors dict_values([0.30000000000000004, 0.4, 0.35, 0.0, 0.30000000000000004, 0.4, 0.35, 0.30000000000000004, 0.44999999999999996, 0.35])\n",
      "v: 0.02612535442814468\n",
      "sample size: 20, repeat: 4\n",
      "OPT error 0.09999999999999998 errors dict_values([0.4, 0.30000000000000004, 0.4, 0.35, 0.09999999999999998, 0.6, 0.44999999999999996, 0.5, 0.19999999999999996, 0.4])\n",
      "v: 0.1073391779474964\n",
      "sample size: 20, repeat: 5\n",
      "OPT error 0.050000000000000044 errors dict_values([0.55, 0.44999999999999996, 0.4, 0.4, 0.44999999999999996, 0.050000000000000044, 0.25, 0.35, 0.35, 0.19999999999999996])\n",
      "v: 0.08380071917045626\n",
      "sample size: 20, repeat: 6\n",
      "OPT error 0.050000000000000044 errors dict_values([0.55, 0.4, 0.25, 0.35, 0.44999999999999996, 0.25, 0.050000000000000044, 0.4, 0.19999999999999996, 0.30000000000000004])\n",
      "v: 0.10265548556166701\n",
      "sample size: 20, repeat: 7\n",
      "OPT error 0.09999999999999998 errors dict_values([0.4, 0.5, 0.5, 0.44999999999999996, 0.44999999999999996, 0.15000000000000002, 0.15000000000000002, 0.09999999999999998, 0.5, 0.30000000000000004])\n",
      "v: 0.10642172272596757\n",
      "sample size: 20, repeat: 8\n",
      "OPT error 0.25 errors dict_values([0.35, 0.5, 0.5, 0.25, 0.25, 0.55, 0.35, 0.44999999999999996, 0.25, 0.65])\n",
      "v: 0.29779201318424386\n",
      "sample size: 20, repeat: 9\n",
      "OPT error 0.09999999999999998 errors dict_values([0.30000000000000004, 0.35, 0.15000000000000002, 0.44999999999999996, 0.35, 0.30000000000000004, 0.30000000000000004, 0.30000000000000004, 0.44999999999999996, 0.09999999999999998])\n",
      "v: 0.12339137108895049\n"
     ]
    },
    {
     "name": "stderr",
     "output_type": "stream",
     "text": [
      "100%|██████████| 10/10 [00:00<00:00, 111.46it/s]\n"
     ]
    },
    {
     "name": "stdout",
     "output_type": "stream",
     "text": [
      "sample size: 30, repeat: 0\n",
      "OPT error 0.1333333333333333 errors dict_values([0.1333333333333333, 0.2666666666666667, 0.2666666666666667, 0.5, 0.4, 0.3666666666666667, 0.30000000000000004, 0.2666666666666667, 0.3666666666666667, 0.30000000000000004])\n",
      "v: 0.194761923626031\n",
      "sample size: 30, repeat: 1\n",
      "OPT error 0.1333333333333333 errors dict_values([0.43333333333333335, 0.1333333333333333, 0.1333333333333333, 0.4666666666666667, 0.4666666666666667, 0.33333333333333337, 0.16666666666666663, 0.23333333333333328, 0.33333333333333337, 0.2666666666666667])\n",
      "v: 0.13703354543953072\n",
      "sample size: 30, repeat: 2\n",
      "OPT error 0.06666666666666665 errors dict_values([0.5666666666666667, 0.06666666666666665, 0.06666666666666665, 0.3666666666666667, 0.5, 0.33333333333333337, 0.09999999999999998, 0.09999999999999998, 0.2666666666666667, 0.33333333333333337])\n",
      "v: 0.10591245638534466\n",
      "sample size: 30, repeat: 3\n",
      "OPT error 0.1333333333333333 errors dict_values([0.43333333333333335, 0.33333333333333337, 0.33333333333333337, 0.1333333333333333, 0.33333333333333337, 0.3666666666666667, 0.33333333333333337, 0.33333333333333337, 0.4, 0.33333333333333337])\n",
      "v: 0.15945868776147798\n",
      "sample size: 30, repeat: 4\n",
      "OPT error 0.033333333333333326 errors dict_values([0.2666666666666667, 0.33333333333333337, 0.33333333333333337, 0.5, 0.033333333333333326, 0.4666666666666667, 0.33333333333333337, 0.3666666666666667, 0.33333333333333337, 0.30000000000000004])\n",
      "v: 0.040672511280829736\n",
      "sample size: 30, repeat: 5\n",
      "OPT error 0.06666666666666665 errors dict_values([0.4666666666666667, 0.19999999999999996, 0.23333333333333328, 0.30000000000000004, 0.4666666666666667, 0.06666666666666665, 0.2666666666666667, 0.33333333333333337, 0.4, 0.30000000000000004])\n",
      "v: 0.10046738583712288\n",
      "sample size: 30, repeat: 6\n",
      "OPT error 0.1333333333333333 errors dict_values([0.43333333333333335, 0.1333333333333333, 0.2666666666666667, 0.43333333333333335, 0.33333333333333337, 0.30000000000000004, 0.1333333333333333, 0.19999999999999996, 0.1333333333333333, 0.30000000000000004])\n",
      "v: 0.18598881889500027\n",
      "sample size: 30, repeat: 7\n",
      "OPT error 0.1333333333333333 errors dict_values([0.4, 0.1333333333333333, 0.16666666666666663, 0.3666666666666667, 0.33333333333333337, 0.23333333333333328, 0.1333333333333333, 0.1333333333333333, 0.4, 0.33333333333333337])\n",
      "v: 0.1397550560593009\n",
      "sample size: 30, repeat: 8\n",
      "OPT error 0.23333333333333328 errors dict_values([0.3666666666666667, 0.30000000000000004, 0.33333333333333337, 0.4, 0.4666666666666667, 0.4, 0.2666666666666667, 0.3666666666666667, 0.23333333333333328, 0.33333333333333337])\n",
      "v: 0.28112534651757715\n",
      "sample size: 30, repeat: 9\n",
      "OPT error 0.09999999999999998 errors dict_values([0.43333333333333335, 0.30000000000000004, 0.30000000000000004, 0.33333333333333337, 0.43333333333333335, 0.2666666666666667, 0.30000000000000004, 0.2666666666666667, 0.5, 0.09999999999999998])\n",
      "v: 0.12339137108895049\n"
     ]
    },
    {
     "name": "stderr",
     "output_type": "stream",
     "text": [
      "100%|██████████| 10/10 [00:00<00:00, 160.87it/s]\n"
     ]
    },
    {
     "name": "stdout",
     "output_type": "stream",
     "text": [
      "sample size: 40, repeat: 0\n",
      "OPT error 0.17500000000000004 errors dict_values([0.17500000000000004, 0.35, 0.17500000000000004, 0.5, 0.375, 0.35, 0.25, 0.25, 0.4, 0.275])\n",
      "v: 0.23642859029269775\n",
      "sample size: 40, repeat: 1\n",
      "OPT error 0.19999999999999996 errors dict_values([0.525, 0.19999999999999996, 0.19999999999999996, 0.35, 0.275, 0.25, 0.19999999999999996, 0.30000000000000004, 0.32499999999999996, 0.22499999999999998])\n",
      "v: 0.20370021210619738\n",
      "sample size: 40, repeat: 2\n",
      "OPT error 0.050000000000000044 errors dict_values([0.6, 0.19999999999999996, 0.050000000000000044, 0.35, 0.44999999999999996, 0.22499999999999998, 0.07499999999999996, 0.19999999999999996, 0.22499999999999998, 0.30000000000000004])\n",
      "v: 0.08924578971867805\n",
      "sample size: 40, repeat: 3\n",
      "OPT error 0.19999999999999996 errors dict_values([0.6, 0.375, 0.35, 0.19999999999999996, 0.35, 0.35, 0.30000000000000004, 0.30000000000000004, 0.42500000000000004, 0.275])\n",
      "v: 0.22612535442814463\n",
      "sample size: 40, repeat: 4\n",
      "OPT error 0.125 errors dict_values([0.42500000000000004, 0.32499999999999996, 0.30000000000000004, 0.35, 0.125, 0.275, 0.275, 0.35, 0.35, 0.275])\n",
      "v: 0.13233917794749642\n",
      "sample size: 40, repeat: 5\n",
      "OPT error 0.19999999999999996 errors dict_values([0.525, 0.32499999999999996, 0.30000000000000004, 0.375, 0.32499999999999996, 0.19999999999999996, 0.32499999999999996, 0.35, 0.4, 0.275])\n",
      "v: 0.23380071917045617\n",
      "sample size: 40, repeat: 6\n",
      "OPT error 0.125 errors dict_values([0.44999999999999996, 0.275, 0.15000000000000002, 0.35, 0.375, 0.25, 0.125, 0.25, 0.30000000000000004, 0.275])\n",
      "v: 0.17765548556166696\n",
      "sample size: 40, repeat: 7\n",
      "OPT error 0.125 errors dict_values([0.525, 0.35, 0.125, 0.475, 0.30000000000000004, 0.25, 0.17500000000000004, 0.125, 0.35, 0.30000000000000004])\n",
      "v: 0.13142172272596758\n",
      "sample size: 40, repeat: 8\n",
      "OPT error 0.275 errors dict_values([0.44999999999999996, 0.375, 0.44999999999999996, 0.30000000000000004, 0.42500000000000004, 0.44999999999999996, 0.30000000000000004, 0.30000000000000004, 0.275, 0.32499999999999996])\n",
      "v: 0.3227920131842439\n",
      "sample size: 40, repeat: 9\n",
      "OPT error 0.09999999999999998 errors dict_values([0.42500000000000004, 0.30000000000000004, 0.22499999999999998, 0.35, 0.30000000000000004, 0.32499999999999996, 0.275, 0.32499999999999996, 0.25, 0.09999999999999998])\n",
      "v: 0.12339137108895049\n"
     ]
    },
    {
     "name": "stderr",
     "output_type": "stream",
     "text": [
      "100%|██████████| 10/10 [00:00<00:00, 141.99it/s]"
     ]
    },
    {
     "name": "stdout",
     "output_type": "stream",
     "text": [
      "sample size: 50, repeat: 0\n",
      "OPT error 0.21999999999999997 errors dict_values([0.28, 0.28, 0.33999999999999997, 0.21999999999999997, 0.30000000000000004, 0.33999999999999997, 0.26, 0.24, 0.4, 0.28])\n",
      "v: 0.2814285902926977\n",
      "sample size: 50, repeat: 1\n",
      "OPT error 0.16000000000000003 errors dict_values([0.4, 0.16000000000000003, 0.30000000000000004, 0.19999999999999996, 0.30000000000000004, 0.21999999999999997, 0.18000000000000005, 0.18000000000000005, 0.36, 0.24])\n",
      "v: 0.16370021210619745\n",
      "sample size: 50, repeat: 2\n",
      "OPT error 0.09999999999999998 errors dict_values([0.48, 0.09999999999999998, 0.16000000000000003, 0.19999999999999996, 0.31999999999999995, 0.24, 0.09999999999999998, 0.09999999999999998, 0.36, 0.30000000000000004])\n",
      "v: 0.139245789718678\n",
      "sample size: 50, repeat: 3\n",
      "OPT error 0.19999999999999996 errors dict_values([0.31999999999999995, 0.30000000000000004, 0.4, 0.19999999999999996, 0.31999999999999995, 0.36, 0.28, 0.33999999999999997, 0.4, 0.30000000000000004])\n",
      "v: 0.22612535442814463\n",
      "sample size: 50, repeat: 4\n",
      "OPT error 0.19999999999999996 errors dict_values([0.42000000000000004, 0.26, 0.36, 0.24, 0.19999999999999996, 0.24, 0.26, 0.28, 0.30000000000000004, 0.31999999999999995])\n",
      "v: 0.20733917794749637\n",
      "sample size: 50, repeat: 5\n",
      "OPT error 0.14 errors dict_values([0.43999999999999995, 0.26, 0.4, 0.26, 0.31999999999999995, 0.14, 0.31999999999999995, 0.26, 0.4, 0.24])\n",
      "v: 0.17380071917045622\n",
      "sample size: 50, repeat: 6\n",
      "OPT error 0.18000000000000005 errors dict_values([0.38, 0.19999999999999996, 0.30000000000000004, 0.24, 0.33999999999999997, 0.21999999999999997, 0.18000000000000005, 0.19999999999999996, 0.33999999999999997, 0.30000000000000004])\n",
      "v: 0.232655485561667\n",
      "sample size: 50, repeat: 7\n",
      "OPT error 0.09999999999999998 errors dict_values([0.45999999999999996, 0.14, 0.31999999999999995, 0.14, 0.33999999999999997, 0.18000000000000005, 0.16000000000000003, 0.09999999999999998, 0.43999999999999995, 0.30000000000000004])\n",
      "v: 0.10642172272596757\n",
      "sample size: 50, repeat: 8\n",
      "OPT error 0.26 errors dict_values([0.38, 0.33999999999999997, 0.36, 0.30000000000000004, 0.45999999999999996, 0.42000000000000004, 0.30000000000000004, 0.43999999999999995, 0.26, 0.36])\n",
      "v: 0.3077920131842439\n",
      "sample size: 50, repeat: 9\n"
     ]
    },
    {
     "name": "stderr",
     "output_type": "stream",
     "text": [
      "\n"
     ]
    },
    {
     "name": "stdout",
     "output_type": "stream",
     "text": [
      "OPT error 0.14 errors dict_values([0.38, 0.28, 0.31999999999999995, 0.21999999999999997, 0.33999999999999997, 0.26, 0.26, 0.21999999999999997, 0.31999999999999995, 0.14])\n",
      "v: 0.16339137108895052\n"
     ]
    },
    {
     "name": "stderr",
     "output_type": "stream",
     "text": [
      "100%|██████████| 10/10 [00:00<00:00, 110.03it/s]\n"
     ]
    },
    {
     "name": "stdout",
     "output_type": "stream",
     "text": [
      "sample size: 60, repeat: 0\n",
      "OPT error 0.2666666666666667 errors dict_values([0.2833333333333333, 0.2833333333333333, 0.2833333333333333, 0.2666666666666667, 0.4, 0.35, 0.2833333333333333, 0.2666666666666667, 0.35, 0.33333333333333337])\n",
      "v: 0.3280952569593644\n",
      "sample size: 60, repeat: 1\n",
      "OPT error 0.18333333333333335 errors dict_values([0.3666666666666667, 0.18333333333333335, 0.18333333333333335, 0.25, 0.33333333333333337, 0.3833333333333333, 0.18333333333333335, 0.19999999999999996, 0.3666666666666667, 0.23333333333333328])\n",
      "v: 0.18703354543953077\n",
      "sample size: 60, repeat: 2\n",
      "OPT error 0.1333333333333333 errors dict_values([0.4666666666666667, 0.15000000000000002, 0.1333333333333333, 0.31666666666666665, 0.30000000000000004, 0.23333333333333328, 0.1333333333333333, 0.18333333333333335, 0.2833333333333333, 0.33333333333333337])\n",
      "v: 0.1725791230520113\n",
      "sample size: 60, repeat: 3\n",
      "OPT error 0.16666666666666663 errors dict_values([0.33333333333333337, 0.30000000000000004, 0.30000000000000004, 0.16666666666666663, 0.25, 0.3833333333333333, 0.30000000000000004, 0.3833333333333333, 0.43333333333333335, 0.25])\n",
      "v: 0.1927920210948113\n",
      "sample size: 60, repeat: 4\n",
      "OPT error 0.16666666666666663 errors dict_values([0.43333333333333335, 0.23333333333333328, 0.25, 0.25, 0.16666666666666663, 0.3666666666666667, 0.25, 0.23333333333333328, 0.31666666666666665, 0.19999999999999996])\n",
      "v: 0.17400584461416305\n",
      "sample size: 60, repeat: 5\n",
      "OPT error 0.16666666666666663 errors dict_values([0.44999999999999996, 0.23333333333333328, 0.23333333333333328, 0.23333333333333328, 0.23333333333333328, 0.16666666666666663, 0.23333333333333328, 0.2666666666666667, 0.35, 0.16666666666666663])\n",
      "v: 0.20046738583712284\n",
      "sample size: 60, repeat: 6\n",
      "OPT error 0.16666666666666663 errors dict_values([0.4, 0.21666666666666667, 0.16666666666666663, 0.2833333333333333, 0.23333333333333328, 0.2833333333333333, 0.16666666666666663, 0.19999999999999996, 0.3666666666666667, 0.25])\n",
      "v: 0.2193221522283336\n",
      "sample size: 60, repeat: 7\n",
      "OPT error 0.1333333333333333 errors dict_values([0.43333333333333335, 0.15000000000000002, 0.16666666666666663, 0.16666666666666663, 0.19999999999999996, 0.30000000000000004, 0.16666666666666663, 0.1333333333333333, 0.4, 0.18333333333333335])\n",
      "v: 0.1397550560593009\n",
      "sample size: 60, repeat: 8\n",
      "OPT error 0.2833333333333333 errors dict_values([0.35, 0.31666666666666665, 0.2833333333333333, 0.35, 0.3666666666666667, 0.3666666666666667, 0.2833333333333333, 0.43333333333333335, 0.33333333333333337, 0.4])\n",
      "v: 0.3311253465175772\n",
      "sample size: 60, repeat: 9\n",
      "OPT error 0.1333333333333333 errors dict_values([0.3666666666666667, 0.25, 0.21666666666666667, 0.25, 0.2666666666666667, 0.2666666666666667, 0.21666666666666667, 0.21666666666666667, 0.25, 0.1333333333333333])\n",
      "v: 0.1567247044222838\n"
     ]
    },
    {
     "name": "stderr",
     "output_type": "stream",
     "text": [
      "100%|██████████| 10/10 [00:00<00:00, 169.79it/s]\n"
     ]
    },
    {
     "name": "stdout",
     "output_type": "stream",
     "text": [
      "sample size: 70, repeat: 0\n",
      "OPT error 0.22857142857142854 errors dict_values([0.27142857142857146, 0.2857142857142857, 0.30000000000000004, 0.22857142857142854, 0.2857142857142857, 0.2857142857142857, 0.30000000000000004, 0.24285714285714288, 0.37142857142857144, 0.2857142857142857])\n",
      "v: 0.29000001886412624\n",
      "sample size: 70, repeat: 1\n",
      "OPT error 0.18571428571428572 errors dict_values([0.3142857142857143, 0.18571428571428572, 0.18571428571428572, 0.2571428571428571, 0.19999999999999996, 0.2857142857142857, 0.18571428571428572, 0.19999999999999996, 0.3142857142857143, 0.2571428571428571])\n",
      "v: 0.18941449782048314\n",
      "sample size: 70, repeat: 2\n",
      "OPT error 0.15714285714285714 errors dict_values([0.34285714285714286, 0.17142857142857137, 0.15714285714285714, 0.2857142857142857, 0.30000000000000004, 0.19999999999999996, 0.15714285714285714, 0.2142857142857143, 0.2142857142857143, 0.3142857142857143])\n",
      "v: 0.19638864686153515\n",
      "sample size: 70, repeat: 3\n",
      "OPT error 0.18571428571428572 errors dict_values([0.30000000000000004, 0.27142857142857146, 0.27142857142857146, 0.18571428571428572, 0.2571428571428571, 0.30000000000000004, 0.27142857142857146, 0.24285714285714288, 0.2857142857142857, 0.2571428571428571])\n",
      "v: 0.2118396401424304\n",
      "sample size: 70, repeat: 4\n",
      "OPT error 0.17142857142857137 errors dict_values([0.2571428571428571, 0.22857142857142854, 0.24285714285714288, 0.22857142857142854, 0.17142857142857137, 0.2857142857142857, 0.24285714285714288, 0.17142857142857137, 0.3285714285714286, 0.18571428571428572])\n",
      "v: 0.1787677493760678\n",
      "sample size: 70, repeat: 5\n",
      "OPT error 0.15714285714285714 errors dict_values([0.3142857142857143, 0.2142857142857143, 0.2142857142857143, 0.22857142857142854, 0.17142857142857137, 0.15714285714285714, 0.2142857142857143, 0.19999999999999996, 0.30000000000000004, 0.18571428571428572])\n",
      "v: 0.19094357631331335\n",
      "sample size: 70, repeat: 6\n",
      "OPT error 0.15714285714285714 errors dict_values([0.27142857142857146, 0.19999999999999996, 0.15714285714285714, 0.27142857142857146, 0.22857142857142854, 0.17142857142857137, 0.15714285714285714, 0.22857142857142854, 0.3142857142857143, 0.24285714285714288])\n",
      "v: 0.2097983427045241\n",
      "sample size: 70, repeat: 7\n",
      "OPT error 0.11428571428571432 errors dict_values([0.3571428571428571, 0.19999999999999996, 0.2142857142857143, 0.17142857142857137, 0.15714285714285714, 0.2571428571428571, 0.2142857142857143, 0.11428571428571432, 0.4, 0.17142857142857137])\n",
      "v: 0.12070743701168192\n",
      "sample size: 70, repeat: 8\n",
      "OPT error 0.27142857142857146 errors dict_values([0.3285714285714286, 0.30000000000000004, 0.27142857142857146, 0.34285714285714286, 0.3571428571428571, 0.3142857142857143, 0.27142857142857146, 0.3142857142857143, 0.2857142857142857, 0.4])\n",
      "v: 0.31922058461281533\n",
      "sample size: 70, repeat: 9\n",
      "OPT error 0.11428571428571432 errors dict_values([0.34285714285714286, 0.22857142857142854, 0.19999999999999996, 0.2142857142857143, 0.15714285714285714, 0.19999999999999996, 0.19999999999999996, 0.12857142857142856, 0.2571428571428571, 0.11428571428571432])\n",
      "v: 0.13767708537466483\n",
      "replicable at sample size: 70, prob: 0.13333333333333333\n"
     ]
    }
   ],
   "source": [
    "print(\"theoretical sample size: \", config.m_up_bound)\n",
    "ans_dict = getConvergenceSampleNum(min_subset_size=10, max_subset_size=100, repeat_num=10, rho=config.rho, sample_size_step=10)"
   ]
  },
  {
   "cell_type": "code",
   "execution_count": 14,
   "id": "e0cae453",
   "metadata": {},
   "outputs": [
    {
     "data": {
      "text/plain": [
       "70"
      ]
     },
     "execution_count": 14,
     "metadata": {},
     "output_type": "execute_result"
    }
   ],
   "source": [
    "ans_dict"
   ]
  },
  {
   "cell_type": "code",
   "execution_count": null,
   "id": "3561776b",
   "metadata": {},
   "outputs": [],
   "source": []
  }
 ],
 "metadata": {
  "kernelspec": {
   "display_name": "learn",
   "language": "python",
   "name": "python3"
  },
  "language_info": {
   "codemirror_mode": {
    "name": "ipython",
    "version": 3
   },
   "file_extension": ".py",
   "mimetype": "text/x-python",
   "name": "python",
   "nbconvert_exporter": "python",
   "pygments_lexer": "ipython3",
   "version": "3.12.4"
  }
 },
 "nbformat": 4,
 "nbformat_minor": 5
}
