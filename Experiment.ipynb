{
 "cells": [
  {
   "cell_type": "markdown",
   "id": "a9624279",
   "metadata": {},
   "source": [
    "Reference paper: stability is stable \n",
    "Experiment: vary the value of rho and see the minimum sample size required for replicability\n",
    "\n",
    "func getConvergenceSampleNum(hyperparams)\n",
    "    For sample_num range(min_subsets_size, max_subsets_size, step):\n",
    "        For range(repeat_num):\n",
    "            random draw a subset of the dataset, whose size = sample_num\n",
    "            Use algorithm 10 to get a model\n",
    "        Check whether the models we get are 'replicable' to each other, accoding to the hyperparams. (see definition in page 14 of the paper)\n",
    "        if converged, return current sample_num\n",
    "\n",
    "func experiment(): \n",
    "# vary the rho and see minumum sample size required for replicability. \n",
    "# To make it simple, we can fix the value of other hyperparamers, such as alpha and beta.\n",
    "    for rho in range(min_rho, max_rho, step):\n",
    "        sample_num = getConvergenceSampleNum(rho)\n",
    "        theoretical_sample_num = getTheoreticalSampleNum(rho) # compute according to algorithm 10 in the paper\n",
    "        print(\"Hyperparams: \", hyperparams, \"Sample size: \", sample_num)\n",
    "    plot(hyperparams, theoretical_sample_num) # draw the curve, where x-axis is the hyperparams and y-axis is the sample size\n",
    "    plot(hyperparams, sample_num) # draw the curve, where x-axis is the hyperparams and y-axis is the sample size"
   ]
  },
  {
   "cell_type": "code",
   "execution_count": null,
   "id": "78f39992",
   "metadata": {},
   "outputs": [],
   "source": [
    "import pandas as pd\n",
    "import numpy as np\n",
    "import config\n",
    "import Algorithm10 as a10\n",
    "from sklearn.tree import export_text"
   ]
  },
  {
   "cell_type": "code",
   "execution_count": null,
   "id": "a6be6126",
   "metadata": {},
   "outputs": [],
   "source": [
    "data = pd.read_csv('dataset/Invistico_Airline.csv')\n",
    "data.head()"
   ]
  },
  {
   "cell_type": "code",
   "execution_count": null,
   "id": "5e80489b",
   "metadata": {},
   "outputs": [],
   "source": [
    "data.shape"
   ]
  },
  {
   "cell_type": "code",
   "execution_count": null,
   "id": "74c2430d",
   "metadata": {},
   "outputs": [],
   "source": [
    "def are_trees_equal(tree1, tree2):\n",
    "    # Check that both trees are fitted\n",
    "    if not hasattr(tree1, 'tree_') or not hasattr(tree2, 'tree_'):\n",
    "        raise ValueError(\"Both trees must be fitted before comparison.\")\n",
    "\n",
    "    # Compare parameters\n",
    "    if tree1.get_params() != tree2.get_params():\n",
    "        return False\n",
    "\n",
    "    t1 = tree1.tree_\n",
    "    t2 = tree2.tree_\n",
    "\n",
    "    # Compare structure and splitting rules\n",
    "    attributes_to_check = [\n",
    "        'children_left', 'children_right',\n",
    "        'feature', 'threshold',\n",
    "        'impurity', 'n_node_samples', 'weighted_n_node_samples',\n",
    "        'value'\n",
    "    ]\n",
    "\n",
    "    for attr in attributes_to_check:\n",
    "        if not np.array_equal(getattr(t1, attr), getattr(t2, attr)):\n",
    "            return False\n",
    "\n",
    "    return True"
   ]
  },
  {
   "cell_type": "code",
   "execution_count": null,
   "id": "21ab8348",
   "metadata": {},
   "outputs": [],
   "source": [
    "X, y = a10.load_full_dataset(config.dataset_path, random_state=config.random_seed)\n",
    "H = a10.build_candidate_trees(X, y,sample_size = 100000, max_depth=config.max_depth, num_trees=config.num_H, random_state=config.random_seed)    \n",
    "\n",
    "for sample_size in range(10000, 20000 + 1, 500):\n",
    "    qualifying_trees_list = []\n",
    "    for i in range(2):\n",
    "        res_trees = a10.replicable_learner(X, y, H, sample_size=sample_size, random_seed=config.random_seed+i)\n",
    "        qualifying_trees_list.append(res_trees)\n",
    "    #compare the percentage of tree that are equal in the two lists\n",
    "    equal_trees = 0\n",
    "    print(\"\\nSample size: \", sample_size)\n",
    "    print(\"Number of trees in the first list: \", len(qualifying_trees_list[0]))\n",
    "    print(\"Number of trees in the second list: \", len(qualifying_trees_list[1]))\n",
    "    smaller_list = min(len(qualifying_trees_list[0]), len(qualifying_trees_list[1]))\n",
    "    for i in range(len(qualifying_trees_list[0])):\n",
    "        for j in range(len(qualifying_trees_list[1])):\n",
    "            if are_trees_equal(qualifying_trees_list[0][i], qualifying_trees_list[1][j]):\n",
    "                equal_trees += 1\n",
    "                continue\n",
    "    print(\"Number of equal trees: \", equal_trees)"
   ]
  },
  {
   "cell_type": "code",
   "execution_count": null,
   "id": "30be79b1",
   "metadata": {},
   "outputs": [],
   "source": [
    "def getConvergenceSampleNum(min_subset_size, max_subset_size, repeat_num, rho, sample_size_step=1):\n",
    "    sample_size_replicablity_dict = {}\n",
    "    \n",
    "    X, y= a10.load_full_dataset(config.dataset_path, random_state=config.random_seed)\n",
    "    for sample_size in range(min_subset_size, max_subset_size + 1, sample_size_step):\n",
    "        #get dataset of size sample_size by sampling from the original dataset\n",
    "        replicable_tree_list = []\n",
    "        H = a10.build_candidate_trees(X, y,sample_size, max_depth=config.max_depth, num_trees=config.num_H, random_state=config.random_seed)    \n",
    "        for i in range(repeat_num):\n",
    "            print(f\"sample size: {sample_size}, repeat: {i}\")\n",
    "            res_trees = a10.replicable_learner(X, y, H, sample_size, random_seed=config.random_seed+i)\n",
    "            #print(f\"number of res_trees: {len(res_trees)}\")\n",
    "            # check whether the candidate trees below v are same to each other\n",
    "            #for a in range(len(res_trees)):\n",
    "            #    for b in range(a + 1, len(res_trees)):\n",
    "            #        if are_trees_equal(res_trees[a], res_trees[b]):\n",
    "            #            print(f\"tree {a} and tree {b} are the same\")\n",
    "            #        else:\n",
    "            #            print(f\"tree {a} and tree {b} are different\")\n",
    "            #            print(\"tree a\",export_text(res_trees[a]),\"tree b\",export_text(res_trees[b]))\n",
    "            tree = res_trees[0]\n",
    "            replicable_tree_list.append(tree)\n",
    "            \n",
    "        #check the probability if the trees in the replicable_tree_list are the same\n",
    "        same_tree_count = 0\n",
    "        for i in range(len(replicable_tree_list)):\n",
    "            for j in range(i + 1, len(replicable_tree_list)):\n",
    "                \n",
    "                if are_trees_equal(replicable_tree_list[i], replicable_tree_list[j]):\n",
    "                    # print(f\"tree {i} and tree {j} are the same\")\n",
    "                    same_tree_count += 1\n",
    "        prob = same_tree_count / (repeat_num * (repeat_num - 1) / 2)\n",
    "        sample_size_replicablity_dict[sample_size] = prob\n",
    "        # if prob >= 1-rho:\n",
    "        #     print(f\"replicable at sample size: {sample_size}, prob: {prob}\")\n",
    "        #     return sample_size \n",
    "    return sample_size_replicablity_dict\n",
    "        \n",
    "    # # return sample_size_replicablity_dict\n",
    "    # print(f\"not replicable at sample size between {min_subset_size} and {max_subset_size}, prob: {prob}\")\n",
    "    # return -1\n",
    "\n",
    "            \n",
    "        \n",
    "    "
   ]
  },
  {
   "cell_type": "code",
   "execution_count": null,
   "id": "97f00cd6",
   "metadata": {},
   "outputs": [],
   "source": [
    "print(\"theoretical sample size: \", config.get_m_up_bound(config.num_H, config.rho, config.alpha, config.beta))\n",
    "ans_dict = getConvergenceSampleNum(min_subset_size=100, max_subset_size=2000, repeat_num=10, rho=config.rho, sample_size_step=100)\n",
    "for key, value in ans_dict.items():\n",
    "    print(f\"sample size: {key}, prob: {value}\")\n",
    "    if value >= 1 - config.rho:\n",
    "        print(f\"replicable at sample size: {key}, prob: {value}\")\n",
    "        break"
   ]
  },
  {
   "cell_type": "code",
   "execution_count": null,
   "id": "e0cae453",
   "metadata": {},
   "outputs": [],
   "source": [
    "print(ans_dict)"
   ]
  },
  {
   "cell_type": "code",
   "execution_count": null,
   "id": "3561776b",
   "metadata": {},
   "outputs": [],
   "source": [
    "print(config.rho)\n",
    "config.rho = 0.5\n",
    "print(np.log(np.log(100)))\n",
    "print(np.exp(np.exp(3)),np.exp(3))"
   ]
  }
 ],
 "metadata": {
  "kernelspec": {
   "display_name": "torch",
   "language": "python",
   "name": "python3"
  },
  "language_info": {
   "codemirror_mode": {
    "name": "ipython",
    "version": 3
   },
   "file_extension": ".py",
   "mimetype": "text/x-python",
   "name": "python",
   "nbconvert_exporter": "python",
   "pygments_lexer": "ipython3",
   "version": "3.9.19"
  }
 },
 "nbformat": 4,
 "nbformat_minor": 5
}
