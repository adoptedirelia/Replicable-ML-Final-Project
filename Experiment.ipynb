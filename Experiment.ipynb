{
 "cells": [
  {
   "cell_type": "markdown",
   "id": "a9624279",
   "metadata": {},
   "source": [
    "Reference paper: stability is stable \n",
    "Experiment: vary the value of rho and see the minimum sample size required for replicability\n",
    "\n",
    "func getConvergenceSampleNum(hyperparams)\n",
    "    For sample_num range(min_subsets_size, max_subsets_size, step):\n",
    "        For range(repeat_num):\n",
    "            random draw a subset of the dataset, whose size = sample_num\n",
    "            Use algorithm 10 to get a model\n",
    "        Check whether the models we get are 'replicable' to each other, accoding to the hyperparams. (see definition in page 14 of the paper)\n",
    "        if converged, return current sample_num\n",
    "\n",
    "func experiment(): \n",
    "# vary the rho and see minumum sample size required for replicability. \n",
    "# To make it simple, we can fix the value of other hyperparamers, such as alpha and beta.\n",
    "    for rho in range(min_rho, max_rho, step):\n",
    "        sample_num = getConvergenceSampleNum(rho)\n",
    "        theoretical_sample_num = getTheoreticalSampleNum(rho) # compute according to algorithm 10 in the paper\n",
    "        print(\"Hyperparams: \", hyperparams, \"Sample size: \", sample_num)\n",
    "    plot(hyperparams, theoretical_sample_num) # draw the curve, where x-axis is the hyperparams and y-axis is the sample size\n",
    "    plot(hyperparams, sample_num) # draw the curve, where x-axis is the hyperparams and y-axis is the sample size"
   ]
  },
  {
   "cell_type": "code",
   "execution_count": 1,
   "id": "78f39992",
   "metadata": {},
   "outputs": [
    {
     "name": "stdout",
     "output_type": "stream",
     "text": [
      "##### Config Variables #####\n",
      "np = <module 'numpy' from '/opt/anaconda3/envs/learn/lib/python3.12/site-packages/numpy/__init__.py'>\n",
      "dataset_path = ./dataset/Invistico_Airline.csv\n",
      "model_path = ./models/\n",
      "max_depth = 3\n",
      "random_seed = 42\n",
      "selected_features = ['Class', 'Seat comfort', 'Food and drink', 'Cleanliness', 'satisfaction']\n",
      "rho = 0.85\n",
      "alpha = 0.3\n",
      "beta = 0.2\n",
      "num_H = 10\n",
      "m_up_bound = 43.091814768179134\n",
      "tau_up_bound = 0.1107450928853292\n",
      "tau = 0.011074509288532921\n",
      "m = 100\n",
      "############################\n"
     ]
    }
   ],
   "source": [
    "import pandas as pd\n",
    "import numpy as np\n",
    "import config\n",
    "import Algorithm10 as a10\n",
    "from sklearn.tree import export_text"
   ]
  },
  {
   "cell_type": "code",
   "execution_count": 2,
   "id": "a6be6126",
   "metadata": {},
   "outputs": [
    {
     "data": {
      "application/vnd.microsoft.datawrangler.viewer.v0+json": {
       "columns": [
        {
         "name": "index",
         "rawType": "int64",
         "type": "integer"
        },
        {
         "name": "satisfaction",
         "rawType": "object",
         "type": "string"
        },
        {
         "name": "Customer Type",
         "rawType": "object",
         "type": "string"
        },
        {
         "name": "Age",
         "rawType": "int64",
         "type": "integer"
        },
        {
         "name": "Type of Travel",
         "rawType": "object",
         "type": "string"
        },
        {
         "name": "Class",
         "rawType": "object",
         "type": "string"
        },
        {
         "name": "Flight Distance",
         "rawType": "int64",
         "type": "integer"
        },
        {
         "name": "Seat comfort",
         "rawType": "int64",
         "type": "integer"
        },
        {
         "name": "Departure/Arrival time convenient",
         "rawType": "int64",
         "type": "integer"
        },
        {
         "name": "Food and drink",
         "rawType": "int64",
         "type": "integer"
        },
        {
         "name": "Gate location",
         "rawType": "int64",
         "type": "integer"
        },
        {
         "name": "Inflight wifi service",
         "rawType": "int64",
         "type": "integer"
        },
        {
         "name": "Inflight entertainment",
         "rawType": "int64",
         "type": "integer"
        },
        {
         "name": "Online support",
         "rawType": "int64",
         "type": "integer"
        },
        {
         "name": "Ease of Online booking",
         "rawType": "int64",
         "type": "integer"
        },
        {
         "name": "On-board service",
         "rawType": "int64",
         "type": "integer"
        },
        {
         "name": "Leg room service",
         "rawType": "int64",
         "type": "integer"
        },
        {
         "name": "Baggage handling",
         "rawType": "int64",
         "type": "integer"
        },
        {
         "name": "Checkin service",
         "rawType": "int64",
         "type": "integer"
        },
        {
         "name": "Cleanliness",
         "rawType": "int64",
         "type": "integer"
        },
        {
         "name": "Online boarding",
         "rawType": "int64",
         "type": "integer"
        },
        {
         "name": "Departure Delay in Minutes",
         "rawType": "int64",
         "type": "integer"
        },
        {
         "name": "Arrival Delay in Minutes",
         "rawType": "float64",
         "type": "float"
        }
       ],
       "conversionMethod": "pd.DataFrame",
       "ref": "d368b689-fc8f-499a-b66d-32d54176c420",
       "rows": [
        [
         "0",
         "satisfied",
         "Loyal Customer",
         "65",
         "Personal Travel",
         "Eco",
         "265",
         "0",
         "0",
         "0",
         "2",
         "2",
         "4",
         "2",
         "3",
         "3",
         "0",
         "3",
         "5",
         "3",
         "2",
         "0",
         "0.0"
        ],
        [
         "1",
         "satisfied",
         "Loyal Customer",
         "47",
         "Personal Travel",
         "Business",
         "2464",
         "0",
         "0",
         "0",
         "3",
         "0",
         "2",
         "2",
         "3",
         "4",
         "4",
         "4",
         "2",
         "3",
         "2",
         "310",
         "305.0"
        ],
        [
         "2",
         "satisfied",
         "Loyal Customer",
         "15",
         "Personal Travel",
         "Eco",
         "2138",
         "0",
         "0",
         "0",
         "3",
         "2",
         "0",
         "2",
         "2",
         "3",
         "3",
         "4",
         "4",
         "4",
         "2",
         "0",
         "0.0"
        ],
        [
         "3",
         "satisfied",
         "Loyal Customer",
         "60",
         "Personal Travel",
         "Eco",
         "623",
         "0",
         "0",
         "0",
         "3",
         "3",
         "4",
         "3",
         "1",
         "1",
         "0",
         "1",
         "4",
         "1",
         "3",
         "0",
         "0.0"
        ],
        [
         "4",
         "satisfied",
         "Loyal Customer",
         "70",
         "Personal Travel",
         "Eco",
         "354",
         "0",
         "0",
         "0",
         "3",
         "4",
         "3",
         "4",
         "2",
         "2",
         "0",
         "2",
         "4",
         "2",
         "5",
         "0",
         "0.0"
        ]
       ],
       "shape": {
        "columns": 22,
        "rows": 5
       }
      },
      "text/html": [
       "<div>\n",
       "<style scoped>\n",
       "    .dataframe tbody tr th:only-of-type {\n",
       "        vertical-align: middle;\n",
       "    }\n",
       "\n",
       "    .dataframe tbody tr th {\n",
       "        vertical-align: top;\n",
       "    }\n",
       "\n",
       "    .dataframe thead th {\n",
       "        text-align: right;\n",
       "    }\n",
       "</style>\n",
       "<table border=\"1\" class=\"dataframe\">\n",
       "  <thead>\n",
       "    <tr style=\"text-align: right;\">\n",
       "      <th></th>\n",
       "      <th>satisfaction</th>\n",
       "      <th>Customer Type</th>\n",
       "      <th>Age</th>\n",
       "      <th>Type of Travel</th>\n",
       "      <th>Class</th>\n",
       "      <th>Flight Distance</th>\n",
       "      <th>Seat comfort</th>\n",
       "      <th>Departure/Arrival time convenient</th>\n",
       "      <th>Food and drink</th>\n",
       "      <th>Gate location</th>\n",
       "      <th>...</th>\n",
       "      <th>Online support</th>\n",
       "      <th>Ease of Online booking</th>\n",
       "      <th>On-board service</th>\n",
       "      <th>Leg room service</th>\n",
       "      <th>Baggage handling</th>\n",
       "      <th>Checkin service</th>\n",
       "      <th>Cleanliness</th>\n",
       "      <th>Online boarding</th>\n",
       "      <th>Departure Delay in Minutes</th>\n",
       "      <th>Arrival Delay in Minutes</th>\n",
       "    </tr>\n",
       "  </thead>\n",
       "  <tbody>\n",
       "    <tr>\n",
       "      <th>0</th>\n",
       "      <td>satisfied</td>\n",
       "      <td>Loyal Customer</td>\n",
       "      <td>65</td>\n",
       "      <td>Personal Travel</td>\n",
       "      <td>Eco</td>\n",
       "      <td>265</td>\n",
       "      <td>0</td>\n",
       "      <td>0</td>\n",
       "      <td>0</td>\n",
       "      <td>2</td>\n",
       "      <td>...</td>\n",
       "      <td>2</td>\n",
       "      <td>3</td>\n",
       "      <td>3</td>\n",
       "      <td>0</td>\n",
       "      <td>3</td>\n",
       "      <td>5</td>\n",
       "      <td>3</td>\n",
       "      <td>2</td>\n",
       "      <td>0</td>\n",
       "      <td>0.0</td>\n",
       "    </tr>\n",
       "    <tr>\n",
       "      <th>1</th>\n",
       "      <td>satisfied</td>\n",
       "      <td>Loyal Customer</td>\n",
       "      <td>47</td>\n",
       "      <td>Personal Travel</td>\n",
       "      <td>Business</td>\n",
       "      <td>2464</td>\n",
       "      <td>0</td>\n",
       "      <td>0</td>\n",
       "      <td>0</td>\n",
       "      <td>3</td>\n",
       "      <td>...</td>\n",
       "      <td>2</td>\n",
       "      <td>3</td>\n",
       "      <td>4</td>\n",
       "      <td>4</td>\n",
       "      <td>4</td>\n",
       "      <td>2</td>\n",
       "      <td>3</td>\n",
       "      <td>2</td>\n",
       "      <td>310</td>\n",
       "      <td>305.0</td>\n",
       "    </tr>\n",
       "    <tr>\n",
       "      <th>2</th>\n",
       "      <td>satisfied</td>\n",
       "      <td>Loyal Customer</td>\n",
       "      <td>15</td>\n",
       "      <td>Personal Travel</td>\n",
       "      <td>Eco</td>\n",
       "      <td>2138</td>\n",
       "      <td>0</td>\n",
       "      <td>0</td>\n",
       "      <td>0</td>\n",
       "      <td>3</td>\n",
       "      <td>...</td>\n",
       "      <td>2</td>\n",
       "      <td>2</td>\n",
       "      <td>3</td>\n",
       "      <td>3</td>\n",
       "      <td>4</td>\n",
       "      <td>4</td>\n",
       "      <td>4</td>\n",
       "      <td>2</td>\n",
       "      <td>0</td>\n",
       "      <td>0.0</td>\n",
       "    </tr>\n",
       "    <tr>\n",
       "      <th>3</th>\n",
       "      <td>satisfied</td>\n",
       "      <td>Loyal Customer</td>\n",
       "      <td>60</td>\n",
       "      <td>Personal Travel</td>\n",
       "      <td>Eco</td>\n",
       "      <td>623</td>\n",
       "      <td>0</td>\n",
       "      <td>0</td>\n",
       "      <td>0</td>\n",
       "      <td>3</td>\n",
       "      <td>...</td>\n",
       "      <td>3</td>\n",
       "      <td>1</td>\n",
       "      <td>1</td>\n",
       "      <td>0</td>\n",
       "      <td>1</td>\n",
       "      <td>4</td>\n",
       "      <td>1</td>\n",
       "      <td>3</td>\n",
       "      <td>0</td>\n",
       "      <td>0.0</td>\n",
       "    </tr>\n",
       "    <tr>\n",
       "      <th>4</th>\n",
       "      <td>satisfied</td>\n",
       "      <td>Loyal Customer</td>\n",
       "      <td>70</td>\n",
       "      <td>Personal Travel</td>\n",
       "      <td>Eco</td>\n",
       "      <td>354</td>\n",
       "      <td>0</td>\n",
       "      <td>0</td>\n",
       "      <td>0</td>\n",
       "      <td>3</td>\n",
       "      <td>...</td>\n",
       "      <td>4</td>\n",
       "      <td>2</td>\n",
       "      <td>2</td>\n",
       "      <td>0</td>\n",
       "      <td>2</td>\n",
       "      <td>4</td>\n",
       "      <td>2</td>\n",
       "      <td>5</td>\n",
       "      <td>0</td>\n",
       "      <td>0.0</td>\n",
       "    </tr>\n",
       "  </tbody>\n",
       "</table>\n",
       "<p>5 rows × 22 columns</p>\n",
       "</div>"
      ],
      "text/plain": [
       "  satisfaction   Customer Type  Age   Type of Travel     Class  \\\n",
       "0    satisfied  Loyal Customer   65  Personal Travel       Eco   \n",
       "1    satisfied  Loyal Customer   47  Personal Travel  Business   \n",
       "2    satisfied  Loyal Customer   15  Personal Travel       Eco   \n",
       "3    satisfied  Loyal Customer   60  Personal Travel       Eco   \n",
       "4    satisfied  Loyal Customer   70  Personal Travel       Eco   \n",
       "\n",
       "   Flight Distance  Seat comfort  Departure/Arrival time convenient  \\\n",
       "0              265             0                                  0   \n",
       "1             2464             0                                  0   \n",
       "2             2138             0                                  0   \n",
       "3              623             0                                  0   \n",
       "4              354             0                                  0   \n",
       "\n",
       "   Food and drink  Gate location  ...  Online support  Ease of Online booking  \\\n",
       "0               0              2  ...               2                       3   \n",
       "1               0              3  ...               2                       3   \n",
       "2               0              3  ...               2                       2   \n",
       "3               0              3  ...               3                       1   \n",
       "4               0              3  ...               4                       2   \n",
       "\n",
       "   On-board service  Leg room service  Baggage handling  Checkin service  \\\n",
       "0                 3                 0                 3                5   \n",
       "1                 4                 4                 4                2   \n",
       "2                 3                 3                 4                4   \n",
       "3                 1                 0                 1                4   \n",
       "4                 2                 0                 2                4   \n",
       "\n",
       "   Cleanliness  Online boarding  Departure Delay in Minutes  \\\n",
       "0            3                2                           0   \n",
       "1            3                2                         310   \n",
       "2            4                2                           0   \n",
       "3            1                3                           0   \n",
       "4            2                5                           0   \n",
       "\n",
       "   Arrival Delay in Minutes  \n",
       "0                       0.0  \n",
       "1                     305.0  \n",
       "2                       0.0  \n",
       "3                       0.0  \n",
       "4                       0.0  \n",
       "\n",
       "[5 rows x 22 columns]"
      ]
     },
     "execution_count": 2,
     "metadata": {},
     "output_type": "execute_result"
    }
   ],
   "source": [
    "data = pd.read_csv('dataset/Invistico_Airline.csv')\n",
    "data.head()"
   ]
  },
  {
   "cell_type": "code",
   "execution_count": 3,
   "id": "5e80489b",
   "metadata": {},
   "outputs": [
    {
     "data": {
      "text/plain": [
       "(129880, 22)"
      ]
     },
     "execution_count": 3,
     "metadata": {},
     "output_type": "execute_result"
    }
   ],
   "source": [
    "data.shape"
   ]
  },
  {
   "cell_type": "code",
   "execution_count": 4,
   "id": "93fb774f",
   "metadata": {},
   "outputs": [],
   "source": [
    "# function to check if two decision trees are equal\n",
    "def are_trees_equal(tree1, tree2):\n",
    "    # Check that both trees are fitted\n",
    "    if not hasattr(tree1, 'tree_') or not hasattr(tree2, 'tree_'):\n",
    "        raise ValueError(\"Both trees must be fitted before comparison.\")\n",
    "\n",
    "    # Compare parameters\n",
    "    if tree1.get_params() != tree2.get_params():\n",
    "        return False\n",
    "\n",
    "    t1 = tree1.tree_\n",
    "    t2 = tree2.tree_\n",
    "\n",
    "    # Compare structure and splitting rules\n",
    "    attributes_to_check = [\n",
    "        'children_left', 'children_right',\n",
    "        'feature', 'threshold',\n",
    "        'impurity', 'n_node_samples', 'weighted_n_node_samples',\n",
    "        'value'\n",
    "    ]\n",
    "\n",
    "    for attr in attributes_to_check:\n",
    "        if not np.array_equal(getattr(t1, attr), getattr(t2, attr)):\n",
    "            return False\n",
    "\n",
    "    return True\n"
   ]
  },
  {
   "cell_type": "code",
   "execution_count": 5,
   "id": "30be79b1",
   "metadata": {},
   "outputs": [],
   "source": [
    "def getConvergenceSampleNum(min_subset_size, max_subset_size, repeat_num, rho, sample_size_step=1):\n",
    "    sample_size_replicablity_dict = {}\n",
    "    \n",
    "    X, y= a10.load_full_dataset(config.dataset_path, random_state=config.random_seed)\n",
    "    for sample_size in range(min_subset_size, max_subset_size + 1, sample_size_step):\n",
    "        #get dataset of size sample_size by sampling from the original dataset\n",
    "        replicable_tree_list = []\n",
    "        H = a10.build_candidate_trees(X, y,sample_size, max_depth=config.max_depth, num_trees=config.num_H, random_state=config.random_seed)    \n",
    "        for i in range(repeat_num):\n",
    "            print(f\"sample size: {sample_size}, repeat: {i}\")\n",
    "            tree = a10.replicable_learner(X, y, H, sample_size, random_seed=config.random_seed+i)\n",
    "            replicable_tree_list.append(tree)\n",
    "            \n",
    "        #check the probability if the trees in the replicable_tree_list are the same\n",
    "        same_tree_count = 0\n",
    "        for i in range(len(replicable_tree_list)):\n",
    "            for j in range(i + 1, len(replicable_tree_list)):\n",
    "                \n",
    "                if are_trees_equal(replicable_tree_list[i], replicable_tree_list[j]):\n",
    "                    # print(f\"tree {i} and tree {j} are the same\")\n",
    "                    same_tree_count += 1\n",
    "        prob = same_tree_count / (repeat_num * (repeat_num - 1) / 2)\n",
    "        sample_size_replicablity_dict[sample_size] = prob\n",
    "        if prob >= 1-rho:\n",
    "            print(f\"replicable at sample size: {sample_size}, prob: {prob}\")\n",
    "            return sample_size \n",
    "        \n",
    "    # return sample_size_replicablity_dict\n",
    "    print(f\"not replicable at sample size between {min_subset_size} and {max_subset_size}, prob: {prob}\")\n",
    "    return -1\n",
    "\n",
    "            \n",
    "        \n",
    "    "
   ]
  },
  {
   "cell_type": "code",
   "execution_count": 6,
   "id": "97f00cd6",
   "metadata": {},
   "outputs": [
    {
     "name": "stdout",
     "output_type": "stream",
     "text": [
      "theoretical sample size:  43.091814768179134\n"
     ]
    },
    {
     "name": "stderr",
     "output_type": "stream",
     "text": [
      "100%|██████████| 10/10 [00:00<00:00, 149.35it/s]"
     ]
    },
    {
     "name": "stdout",
     "output_type": "stream",
     "text": [
      "sample size: 10, repeat: 0\n",
      "OPT error 0.19999999999999996 errors dict_values([0.19999999999999996, 0.5, 0.5, 0.4, 0.30000000000000004, 0.7, 0.4, 0.5, 0.4, 0.5])\n",
      "v: 0.20761117865681808\n",
      "sample size: 10, repeat: 1\n",
      "OPT error 0.0 errors dict_values([0.4, 0.0, 0.19999999999999996, 0.7, 0.19999999999999996, 0.5, 0.09999999999999998, 0.30000000000000004, 0.5, 0.30000000000000004])\n",
      "v: 0.006174341076352328\n",
      "sample size: 10, repeat: 2\n",
      "OPT error 0.0 errors dict_values([0.19999999999999996, 0.4, 0.0, 0.09999999999999998, 0.19999999999999996, 0.19999999999999996, 0.30000000000000004, 0.5, 0.19999999999999996, 0.4])\n",
      "v: 0.04338351607479349\n",
      "sample size: 10, repeat: 3\n",
      "OPT error 0.0 errors dict_values([0.19999999999999996, 0.8, 0.4, 0.0, 0.5, 0.30000000000000004, 0.19999999999999996, 0.5, 0.6, 0.4])\n",
      "v: 0.03316268181755807\n",
      "sample size: 10, repeat: 4\n"
     ]
    },
    {
     "name": "stderr",
     "output_type": "stream",
     "text": [
      "\n"
     ]
    },
    {
     "name": "stdout",
     "output_type": "stream",
     "text": [
      "OPT error 0.0 errors dict_values([0.09999999999999998, 0.19999999999999996, 0.30000000000000004, 0.4, 0.0, 0.7, 0.30000000000000004, 0.30000000000000004, 0.19999999999999996, 0.30000000000000004])\n",
      "v: 0.009877533969091901\n",
      "sample size: 10, repeat: 5\n",
      "OPT error 0.09999999999999998 errors dict_values([0.7, 0.5, 0.4, 0.6, 0.30000000000000004, 0.09999999999999998, 0.6, 0.30000000000000004, 0.19999999999999996, 0.30000000000000004])\n",
      "v: 0.1283146877893961\n",
      "sample size: 10, repeat: 6\n",
      "OPT error 0.0 errors dict_values([0.5, 0.6, 0.4, 0.5, 0.30000000000000004, 0.5, 0.0, 0.6, 0.30000000000000004, 0.30000000000000004])\n",
      "v: 0.049932139882341145\n",
      "sample size: 10, repeat: 7\n",
      "OPT error 0.09999999999999998 errors dict_values([0.5, 0.4, 0.6, 0.5, 0.4, 0.4, 0.5, 0.09999999999999998, 0.5, 0.4])\n",
      "v: 0.10720377147521373\n",
      "sample size: 10, repeat: 8\n",
      "OPT error 0.19999999999999996 errors dict_values([0.4, 0.6, 0.4, 0.5, 0.4, 0.6, 0.30000000000000004, 0.6, 0.19999999999999996, 0.5])\n",
      "v: 0.24149951776868242\n",
      "sample size: 10, repeat: 9\n",
      "OPT error 0.0 errors dict_values([0.30000000000000004, 0.7, 0.19999999999999996, 0.4, 0.30000000000000004, 0.30000000000000004, 0.5, 0.19999999999999996, 0.5, 0.0])\n",
      "v: 0.020353460851573177\n"
     ]
    },
    {
     "name": "stderr",
     "output_type": "stream",
     "text": [
      "100%|██████████| 10/10 [00:00<00:00, 168.56it/s]\n"
     ]
    },
    {
     "name": "stdout",
     "output_type": "stream",
     "text": [
      "sample size: 20, repeat: 0\n",
      "OPT error 0.09999999999999998 errors dict_values([0.09999999999999998, 0.5, 0.5, 0.35, 0.44999999999999996, 0.30000000000000004, 0.25, 0.25, 0.5, 0.35])\n",
      "v: 0.10761117865681812\n",
      "sample size: 20, repeat: 1\n",
      "OPT error 0.050000000000000044 errors dict_values([0.5, 0.050000000000000044, 0.25, 0.44999999999999996, 0.55, 0.44999999999999996, 0.25, 0.30000000000000004, 0.5, 0.25])\n",
      "v: 0.05617434107635237\n",
      "sample size: 20, repeat: 2\n",
      "OPT error 0.050000000000000044 errors dict_values([0.35, 0.35, 0.050000000000000044, 0.25, 0.44999999999999996, 0.35, 0.050000000000000044, 0.09999999999999998, 0.30000000000000004, 0.25])\n",
      "v: 0.09338351607479353\n",
      "sample size: 20, repeat: 3\n",
      "OPT error 0.0 errors dict_values([0.30000000000000004, 0.4, 0.35, 0.0, 0.30000000000000004, 0.4, 0.35, 0.30000000000000004, 0.44999999999999996, 0.35])\n",
      "v: 0.03316268181755807\n",
      "sample size: 20, repeat: 4\n",
      "OPT error 0.09999999999999998 errors dict_values([0.4, 0.30000000000000004, 0.4, 0.35, 0.09999999999999998, 0.6, 0.44999999999999996, 0.5, 0.19999999999999996, 0.4])\n",
      "v: 0.10987753396909189\n",
      "sample size: 20, repeat: 5\n",
      "OPT error 0.050000000000000044 errors dict_values([0.55, 0.44999999999999996, 0.4, 0.4, 0.44999999999999996, 0.050000000000000044, 0.25, 0.35, 0.35, 0.19999999999999996])\n",
      "v: 0.07831468778939615\n",
      "sample size: 20, repeat: 6\n",
      "OPT error 0.050000000000000044 errors dict_values([0.55, 0.4, 0.25, 0.35, 0.44999999999999996, 0.25, 0.050000000000000044, 0.4, 0.19999999999999996, 0.30000000000000004])\n",
      "v: 0.09993213988234119\n",
      "sample size: 20, repeat: 7\n",
      "OPT error 0.09999999999999998 errors dict_values([0.4, 0.5, 0.5, 0.44999999999999996, 0.44999999999999996, 0.15000000000000002, 0.15000000000000002, 0.09999999999999998, 0.5, 0.30000000000000004])\n",
      "v: 0.10720377147521373\n",
      "sample size: 20, repeat: 8\n",
      "OPT error 0.25 errors dict_values([0.35, 0.5, 0.5, 0.25, 0.25, 0.55, 0.35, 0.44999999999999996, 0.25, 0.65])\n",
      "v: 0.29149951776868244\n",
      "sample size: 20, repeat: 9\n",
      "OPT error 0.09999999999999998 errors dict_values([0.30000000000000004, 0.35, 0.15000000000000002, 0.44999999999999996, 0.35, 0.30000000000000004, 0.30000000000000004, 0.30000000000000004, 0.44999999999999996, 0.09999999999999998])\n",
      "v: 0.12035346085157315\n"
     ]
    },
    {
     "name": "stderr",
     "output_type": "stream",
     "text": [
      "100%|██████████| 10/10 [00:00<00:00, 179.56it/s]\n"
     ]
    },
    {
     "name": "stdout",
     "output_type": "stream",
     "text": [
      "sample size: 30, repeat: 0\n",
      "OPT error 0.1333333333333333 errors dict_values([0.1333333333333333, 0.2666666666666667, 0.2666666666666667, 0.5, 0.4, 0.3666666666666667, 0.30000000000000004, 0.2666666666666667, 0.3666666666666667, 0.30000000000000004])\n",
      "v: 0.14094451199015143\n",
      "sample size: 30, repeat: 1\n",
      "OPT error 0.1333333333333333 errors dict_values([0.43333333333333335, 0.1333333333333333, 0.1333333333333333, 0.4666666666666667, 0.4666666666666667, 0.33333333333333337, 0.16666666666666663, 0.23333333333333328, 0.33333333333333337, 0.2666666666666667])\n",
      "v: 0.13950767440968564\n",
      "sample size: 30, repeat: 2\n",
      "OPT error 0.06666666666666665 errors dict_values([0.5666666666666667, 0.06666666666666665, 0.06666666666666665, 0.3666666666666667, 0.5, 0.33333333333333337, 0.09999999999999998, 0.09999999999999998, 0.2666666666666667, 0.33333333333333337])\n",
      "v: 0.11005018274146014\n",
      "sample size: 30, repeat: 3\n",
      "OPT error 0.1333333333333333 errors dict_values([0.43333333333333335, 0.33333333333333337, 0.33333333333333337, 0.1333333333333333, 0.33333333333333337, 0.3666666666666667, 0.33333333333333337, 0.33333333333333337, 0.4, 0.33333333333333337])\n",
      "v: 0.16649601515089138\n",
      "sample size: 30, repeat: 4\n",
      "OPT error 0.033333333333333326 errors dict_values([0.2666666666666667, 0.33333333333333337, 0.33333333333333337, 0.5, 0.033333333333333326, 0.4666666666666667, 0.33333333333333337, 0.3666666666666667, 0.33333333333333337, 0.30000000000000004])\n",
      "v: 0.043210867302425224\n",
      "sample size: 30, repeat: 5\n",
      "OPT error 0.06666666666666665 errors dict_values([0.4666666666666667, 0.19999999999999996, 0.23333333333333328, 0.30000000000000004, 0.4666666666666667, 0.06666666666666665, 0.2666666666666667, 0.33333333333333337, 0.4, 0.30000000000000004])\n",
      "v: 0.09498135445606276\n",
      "sample size: 30, repeat: 6\n",
      "OPT error 0.1333333333333333 errors dict_values([0.43333333333333335, 0.1333333333333333, 0.2666666666666667, 0.43333333333333335, 0.33333333333333337, 0.30000000000000004, 0.1333333333333333, 0.19999999999999996, 0.1333333333333333, 0.30000000000000004])\n",
      "v: 0.18326547321567443\n",
      "sample size: 30, repeat: 7\n",
      "OPT error 0.1333333333333333 errors dict_values([0.4, 0.1333333333333333, 0.16666666666666663, 0.3666666666666667, 0.33333333333333337, 0.23333333333333328, 0.1333333333333333, 0.1333333333333333, 0.4, 0.33333333333333337])\n",
      "v: 0.14053710480854706\n",
      "sample size: 30, repeat: 8\n",
      "OPT error 0.23333333333333328 errors dict_values([0.3666666666666667, 0.30000000000000004, 0.33333333333333337, 0.4, 0.4666666666666667, 0.4, 0.2666666666666667, 0.3666666666666667, 0.23333333333333328, 0.33333333333333337])\n",
      "v: 0.2748328511020157\n",
      "sample size: 30, repeat: 9\n",
      "OPT error 0.09999999999999998 errors dict_values([0.43333333333333335, 0.30000000000000004, 0.30000000000000004, 0.33333333333333337, 0.43333333333333335, 0.2666666666666667, 0.30000000000000004, 0.2666666666666667, 0.5, 0.09999999999999998])\n",
      "v: 0.12035346085157315\n"
     ]
    },
    {
     "name": "stderr",
     "output_type": "stream",
     "text": [
      "100%|██████████| 10/10 [00:00<00:00, 184.44it/s]\n"
     ]
    },
    {
     "name": "stdout",
     "output_type": "stream",
     "text": [
      "sample size: 40, repeat: 0\n",
      "OPT error 0.17500000000000004 errors dict_values([0.17500000000000004, 0.35, 0.17500000000000004, 0.5, 0.375, 0.35, 0.25, 0.25, 0.4, 0.275])\n",
      "v: 0.18261117865681817\n",
      "sample size: 40, repeat: 1\n",
      "OPT error 0.19999999999999996 errors dict_values([0.525, 0.19999999999999996, 0.19999999999999996, 0.35, 0.275, 0.25, 0.19999999999999996, 0.30000000000000004, 0.32499999999999996, 0.22499999999999998])\n",
      "v: 0.2061743410763523\n",
      "sample size: 40, repeat: 2\n",
      "OPT error 0.050000000000000044 errors dict_values([0.6, 0.19999999999999996, 0.050000000000000044, 0.35, 0.44999999999999996, 0.22499999999999998, 0.07499999999999996, 0.19999999999999996, 0.22499999999999998, 0.30000000000000004])\n",
      "v: 0.09338351607479353\n",
      "sample size: 40, repeat: 3\n",
      "OPT error 0.19999999999999996 errors dict_values([0.6, 0.375, 0.35, 0.19999999999999996, 0.35, 0.35, 0.30000000000000004, 0.30000000000000004, 0.42500000000000004, 0.275])\n",
      "v: 0.23316268181755803\n",
      "sample size: 40, repeat: 4\n",
      "OPT error 0.125 errors dict_values([0.42500000000000004, 0.32499999999999996, 0.30000000000000004, 0.35, 0.125, 0.275, 0.275, 0.35, 0.35, 0.275])\n",
      "v: 0.1348775339690919\n",
      "sample size: 40, repeat: 5\n",
      "OPT error 0.19999999999999996 errors dict_values([0.525, 0.32499999999999996, 0.30000000000000004, 0.375, 0.32499999999999996, 0.19999999999999996, 0.32499999999999996, 0.35, 0.4, 0.275])\n",
      "v: 0.22831468778939606\n",
      "sample size: 40, repeat: 6\n",
      "OPT error 0.125 errors dict_values([0.44999999999999996, 0.275, 0.15000000000000002, 0.35, 0.375, 0.25, 0.125, 0.25, 0.30000000000000004, 0.275])\n",
      "v: 0.17493213988234113\n",
      "sample size: 40, repeat: 7\n",
      "OPT error 0.125 errors dict_values([0.525, 0.35, 0.125, 0.475, 0.30000000000000004, 0.25, 0.17500000000000004, 0.125, 0.35, 0.30000000000000004])\n",
      "v: 0.13220377147521375\n",
      "sample size: 40, repeat: 8\n",
      "OPT error 0.275 errors dict_values([0.44999999999999996, 0.375, 0.44999999999999996, 0.30000000000000004, 0.42500000000000004, 0.44999999999999996, 0.30000000000000004, 0.30000000000000004, 0.275, 0.32499999999999996])\n",
      "v: 0.31649951776868246\n",
      "sample size: 40, repeat: 9\n",
      "OPT error 0.09999999999999998 errors dict_values([0.42500000000000004, 0.30000000000000004, 0.22499999999999998, 0.35, 0.30000000000000004, 0.32499999999999996, 0.275, 0.32499999999999996, 0.25, 0.09999999999999998])\n",
      "v: 0.12035346085157315\n"
     ]
    },
    {
     "name": "stderr",
     "output_type": "stream",
     "text": [
      "100%|██████████| 10/10 [00:00<00:00, 172.90it/s]\n"
     ]
    },
    {
     "name": "stdout",
     "output_type": "stream",
     "text": [
      "sample size: 50, repeat: 0\n",
      "OPT error 0.21999999999999997 errors dict_values([0.28, 0.28, 0.33999999999999997, 0.21999999999999997, 0.30000000000000004, 0.33999999999999997, 0.26, 0.24, 0.4, 0.28])\n",
      "v: 0.2276111786568181\n",
      "sample size: 50, repeat: 1\n",
      "OPT error 0.16000000000000003 errors dict_values([0.4, 0.16000000000000003, 0.30000000000000004, 0.19999999999999996, 0.30000000000000004, 0.21999999999999997, 0.18000000000000005, 0.18000000000000005, 0.36, 0.24])\n",
      "v: 0.16617434107635237\n",
      "sample size: 50, repeat: 2\n",
      "OPT error 0.09999999999999998 errors dict_values([0.48, 0.09999999999999998, 0.16000000000000003, 0.19999999999999996, 0.31999999999999995, 0.24, 0.09999999999999998, 0.09999999999999998, 0.36, 0.30000000000000004])\n",
      "v: 0.14338351607479347\n",
      "sample size: 50, repeat: 3\n",
      "OPT error 0.19999999999999996 errors dict_values([0.31999999999999995, 0.30000000000000004, 0.4, 0.19999999999999996, 0.31999999999999995, 0.36, 0.28, 0.33999999999999997, 0.4, 0.30000000000000004])\n",
      "v: 0.23316268181755803\n",
      "sample size: 50, repeat: 4\n",
      "OPT error 0.19999999999999996 errors dict_values([0.42000000000000004, 0.26, 0.36, 0.24, 0.19999999999999996, 0.24, 0.26, 0.28, 0.30000000000000004, 0.31999999999999995])\n",
      "v: 0.20987753396909187\n",
      "sample size: 50, repeat: 5\n",
      "OPT error 0.14 errors dict_values([0.43999999999999995, 0.26, 0.4, 0.26, 0.31999999999999995, 0.14, 0.31999999999999995, 0.26, 0.4, 0.24])\n",
      "v: 0.16831468778939612\n",
      "sample size: 50, repeat: 6\n",
      "OPT error 0.18000000000000005 errors dict_values([0.38, 0.19999999999999996, 0.30000000000000004, 0.24, 0.33999999999999997, 0.21999999999999997, 0.18000000000000005, 0.19999999999999996, 0.33999999999999997, 0.30000000000000004])\n",
      "v: 0.22993213988234118\n",
      "sample size: 50, repeat: 7\n",
      "OPT error 0.09999999999999998 errors dict_values([0.45999999999999996, 0.14, 0.31999999999999995, 0.14, 0.33999999999999997, 0.18000000000000005, 0.16000000000000003, 0.09999999999999998, 0.43999999999999995, 0.30000000000000004])\n",
      "v: 0.10720377147521373\n",
      "sample size: 50, repeat: 8\n",
      "OPT error 0.26 errors dict_values([0.38, 0.33999999999999997, 0.36, 0.30000000000000004, 0.45999999999999996, 0.42000000000000004, 0.30000000000000004, 0.43999999999999995, 0.26, 0.36])\n",
      "v: 0.30149951776868245\n",
      "sample size: 50, repeat: 9\n",
      "OPT error 0.14 errors dict_values([0.38, 0.28, 0.31999999999999995, 0.21999999999999997, 0.33999999999999997, 0.26, 0.26, 0.21999999999999997, 0.31999999999999995, 0.14])\n",
      "v: 0.1603534608515732\n"
     ]
    },
    {
     "name": "stderr",
     "output_type": "stream",
     "text": [
      "100%|██████████| 10/10 [00:00<00:00, 183.41it/s]\n"
     ]
    },
    {
     "name": "stdout",
     "output_type": "stream",
     "text": [
      "sample size: 60, repeat: 0\n",
      "OPT error 0.2666666666666667 errors dict_values([0.2833333333333333, 0.2833333333333333, 0.2833333333333333, 0.2666666666666667, 0.4, 0.35, 0.2833333333333333, 0.2666666666666667, 0.35, 0.33333333333333337])\n",
      "v: 0.27427784532348487\n",
      "sample size: 60, repeat: 1\n",
      "OPT error 0.18333333333333335 errors dict_values([0.3666666666666667, 0.18333333333333335, 0.18333333333333335, 0.25, 0.33333333333333337, 0.3833333333333333, 0.18333333333333335, 0.19999999999999996, 0.3666666666666667, 0.23333333333333328])\n",
      "v: 0.1895076744096857\n",
      "sample size: 60, repeat: 2\n",
      "OPT error 0.1333333333333333 errors dict_values([0.4666666666666667, 0.15000000000000002, 0.1333333333333333, 0.31666666666666665, 0.30000000000000004, 0.23333333333333328, 0.1333333333333333, 0.18333333333333335, 0.2833333333333333, 0.33333333333333337])\n",
      "v: 0.1767168494081268\n",
      "sample size: 60, repeat: 3\n",
      "OPT error 0.16666666666666663 errors dict_values([0.33333333333333337, 0.30000000000000004, 0.30000000000000004, 0.16666666666666663, 0.25, 0.3833333333333333, 0.30000000000000004, 0.3833333333333333, 0.43333333333333335, 0.25])\n",
      "v: 0.1998293484842247\n",
      "sample size: 60, repeat: 4\n",
      "OPT error 0.16666666666666663 errors dict_values([0.43333333333333335, 0.23333333333333328, 0.25, 0.25, 0.16666666666666663, 0.3666666666666667, 0.25, 0.23333333333333328, 0.31666666666666665, 0.19999999999999996])\n",
      "v: 0.17654420063575854\n",
      "sample size: 60, repeat: 5\n",
      "OPT error 0.16666666666666663 errors dict_values([0.44999999999999996, 0.23333333333333328, 0.23333333333333328, 0.23333333333333328, 0.23333333333333328, 0.16666666666666663, 0.23333333333333328, 0.2666666666666667, 0.35, 0.16666666666666663])\n",
      "v: 0.19498135445606274\n",
      "sample size: 60, repeat: 6\n",
      "OPT error 0.16666666666666663 errors dict_values([0.4, 0.21666666666666667, 0.16666666666666663, 0.2833333333333333, 0.23333333333333328, 0.2833333333333333, 0.16666666666666663, 0.19999999999999996, 0.3666666666666667, 0.25])\n",
      "v: 0.21659880654900776\n",
      "sample size: 60, repeat: 7\n",
      "OPT error 0.1333333333333333 errors dict_values([0.43333333333333335, 0.15000000000000002, 0.16666666666666663, 0.16666666666666663, 0.19999999999999996, 0.30000000000000004, 0.16666666666666663, 0.1333333333333333, 0.4, 0.18333333333333335])\n",
      "v: 0.14053710480854706\n",
      "sample size: 60, repeat: 8\n",
      "OPT error 0.2833333333333333 errors dict_values([0.35, 0.31666666666666665, 0.2833333333333333, 0.35, 0.3666666666666667, 0.3666666666666667, 0.2833333333333333, 0.43333333333333335, 0.33333333333333337, 0.4])\n",
      "v: 0.32483285110201576\n",
      "sample size: 60, repeat: 9\n",
      "OPT error 0.1333333333333333 errors dict_values([0.3666666666666667, 0.25, 0.21666666666666667, 0.25, 0.2666666666666667, 0.2666666666666667, 0.21666666666666667, 0.21666666666666667, 0.25, 0.1333333333333333])\n",
      "v: 0.1536867941849065\n"
     ]
    },
    {
     "name": "stderr",
     "output_type": "stream",
     "text": [
      "100%|██████████| 10/10 [00:00<00:00, 177.18it/s]\n"
     ]
    },
    {
     "name": "stdout",
     "output_type": "stream",
     "text": [
      "sample size: 70, repeat: 0\n",
      "OPT error 0.22857142857142854 errors dict_values([0.27142857142857146, 0.2857142857142857, 0.30000000000000004, 0.22857142857142854, 0.2857142857142857, 0.2857142857142857, 0.30000000000000004, 0.24285714285714288, 0.37142857142857144, 0.2857142857142857])\n",
      "v: 0.23618260722824666\n",
      "sample size: 70, repeat: 1\n",
      "OPT error 0.18571428571428572 errors dict_values([0.3142857142857143, 0.18571428571428572, 0.18571428571428572, 0.2571428571428571, 0.19999999999999996, 0.2857142857142857, 0.18571428571428572, 0.19999999999999996, 0.3142857142857143, 0.2571428571428571])\n",
      "v: 0.19188862679063806\n",
      "sample size: 70, repeat: 2\n",
      "OPT error 0.15714285714285714 errors dict_values([0.34285714285714286, 0.17142857142857137, 0.15714285714285714, 0.2857142857142857, 0.30000000000000004, 0.19999999999999996, 0.15714285714285714, 0.2142857142857143, 0.2142857142857143, 0.3142857142857143])\n",
      "v: 0.20052637321765063\n",
      "sample size: 70, repeat: 3\n",
      "OPT error 0.18571428571428572 errors dict_values([0.30000000000000004, 0.27142857142857146, 0.27142857142857146, 0.18571428571428572, 0.2571428571428571, 0.30000000000000004, 0.27142857142857146, 0.24285714285714288, 0.2857142857142857, 0.2571428571428571])\n",
      "v: 0.2188769675318438\n",
      "sample size: 70, repeat: 4\n",
      "OPT error 0.17142857142857137 errors dict_values([0.2571428571428571, 0.22857142857142854, 0.24285714285714288, 0.22857142857142854, 0.17142857142857137, 0.2857142857142857, 0.24285714285714288, 0.17142857142857137, 0.3285714285714286, 0.18571428571428572])\n",
      "v: 0.1813061053976633\n",
      "sample size: 70, repeat: 5\n",
      "OPT error 0.15714285714285714 errors dict_values([0.3142857142857143, 0.2142857142857143, 0.2142857142857143, 0.22857142857142854, 0.17142857142857137, 0.15714285714285714, 0.2142857142857143, 0.19999999999999996, 0.30000000000000004, 0.18571428571428572])\n",
      "v: 0.18545754493225325\n",
      "sample size: 70, repeat: 6\n",
      "OPT error 0.15714285714285714 errors dict_values([0.27142857142857146, 0.19999999999999996, 0.15714285714285714, 0.27142857142857146, 0.22857142857142854, 0.17142857142857137, 0.15714285714285714, 0.22857142857142854, 0.3142857142857143, 0.24285714285714288])\n",
      "v: 0.20707499702519827\n",
      "sample size: 70, repeat: 7\n",
      "OPT error 0.11428571428571432 errors dict_values([0.3571428571428571, 0.19999999999999996, 0.2142857142857143, 0.17142857142857137, 0.15714285714285714, 0.2571428571428571, 0.2142857142857143, 0.11428571428571432, 0.4, 0.17142857142857137])\n",
      "v: 0.12148948576092808\n",
      "sample size: 70, repeat: 8\n",
      "OPT error 0.27142857142857146 errors dict_values([0.3285714285714286, 0.30000000000000004, 0.27142857142857146, 0.34285714285714286, 0.3571428571428571, 0.3142857142857143, 0.27142857142857146, 0.3142857142857143, 0.2857142857142857, 0.4])\n",
      "v: 0.3129280891972539\n",
      "sample size: 70, repeat: 9\n",
      "OPT error 0.11428571428571432 errors dict_values([0.34285714285714286, 0.22857142857142854, 0.19999999999999996, 0.2142857142857143, 0.15714285714285714, 0.19999999999999996, 0.19999999999999996, 0.12857142857142856, 0.2571428571428571, 0.11428571428571432])\n",
      "v: 0.13463917513728751\n"
     ]
    },
    {
     "name": "stderr",
     "output_type": "stream",
     "text": [
      "100%|██████████| 10/10 [00:00<00:00, 187.91it/s]"
     ]
    },
    {
     "name": "stdout",
     "output_type": "stream",
     "text": [
      "sample size: 80, repeat: 0\n"
     ]
    },
    {
     "name": "stderr",
     "output_type": "stream",
     "text": [
      "\n"
     ]
    },
    {
     "name": "stdout",
     "output_type": "stream",
     "text": [
      "OPT error 0.23750000000000004 errors dict_values([0.2875, 0.3125, 0.3375, 0.25, 0.23750000000000004, 0.32499999999999996, 0.3125, 0.25, 0.30000000000000004, 0.2875])\n",
      "v: 0.24511117865681817\n",
      "sample size: 80, repeat: 1\n",
      "OPT error 0.21250000000000002 errors dict_values([0.36250000000000004, 0.25, 0.36250000000000004, 0.25, 0.25, 0.30000000000000004, 0.21250000000000002, 0.21250000000000002, 0.32499999999999996, 0.30000000000000004])\n",
      "v: 0.21867434107635236\n",
      "sample size: 80, repeat: 2\n",
      "OPT error 0.15000000000000002 errors dict_values([0.35, 0.22499999999999998, 0.19999999999999996, 0.25, 0.30000000000000004, 0.22499999999999998, 0.15000000000000002, 0.22499999999999998, 0.375, 0.275])\n",
      "v: 0.1933835160747935\n",
      "sample size: 80, repeat: 3\n",
      "OPT error 0.1875 errors dict_values([0.275, 0.36250000000000004, 0.3125, 0.1875, 0.23750000000000004, 0.26249999999999996, 0.26249999999999996, 0.21250000000000002, 0.26249999999999996, 0.32499999999999996])\n",
      "v: 0.22066268181755808\n",
      "sample size: 80, repeat: 4\n",
      "OPT error 0.1875 errors dict_values([0.26249999999999996, 0.30000000000000004, 0.30000000000000004, 0.22499999999999998, 0.1875, 0.25, 0.26249999999999996, 0.19999999999999996, 0.275, 0.23750000000000004])\n",
      "v: 0.1973775339690919\n",
      "sample size: 80, repeat: 5\n",
      "OPT error 0.17500000000000004 errors dict_values([0.35, 0.2875, 0.3375, 0.26249999999999996, 0.23750000000000004, 0.17500000000000004, 0.23750000000000004, 0.22499999999999998, 0.32499999999999996, 0.275])\n",
      "v: 0.20331468778939615\n",
      "sample size: 80, repeat: 6\n",
      "OPT error 0.16249999999999998 errors dict_values([0.26249999999999996, 0.275, 0.30000000000000004, 0.26249999999999996, 0.25, 0.1875, 0.16249999999999998, 0.21250000000000002, 0.32499999999999996, 0.30000000000000004])\n",
      "v: 0.2124321398823411\n",
      "sample size: 80, repeat: 7\n",
      "OPT error 0.11250000000000004 errors dict_values([0.36250000000000004, 0.2875, 0.38749999999999996, 0.13749999999999996, 0.15000000000000002, 0.19999999999999996, 0.22499999999999998, 0.11250000000000004, 0.32499999999999996, 0.19999999999999996])\n",
      "v: 0.1197037714752138\n",
      "sample size: 80, repeat: 8\n",
      "OPT error 0.26249999999999996 errors dict_values([0.30000000000000004, 0.35, 0.3125, 0.30000000000000004, 0.2875, 0.4, 0.2875, 0.26249999999999996, 0.2875, 0.3375])\n",
      "v: 0.3039995177686824\n",
      "sample size: 80, repeat: 9\n",
      "OPT error 0.11250000000000004 errors dict_values([0.32499999999999996, 0.21250000000000002, 0.21250000000000002, 0.1875, 0.125, 0.19999999999999996, 0.19999999999999996, 0.15000000000000002, 0.32499999999999996, 0.11250000000000004])\n",
      "v: 0.13285346085157324\n",
      "replicable at sample size: 80, prob: 0.17777777777777778\n"
     ]
    }
   ],
   "source": [
    "print(\"theoretical sample size: \", config.m_up_bound)\n",
    "ans_dict = getConvergenceSampleNum(min_subset_size=10, max_subset_size=100, repeat_num=10, rho=config.rho, sample_size_step=10)"
   ]
  },
  {
   "cell_type": "code",
   "execution_count": 7,
   "id": "e0cae453",
   "metadata": {},
   "outputs": [
    {
     "data": {
      "text/plain": [
       "80"
      ]
     },
     "execution_count": 7,
     "metadata": {},
     "output_type": "execute_result"
    }
   ],
   "source": [
    "ans_dict"
   ]
  },
  {
   "cell_type": "code",
   "execution_count": null,
   "id": "3561776b",
   "metadata": {},
   "outputs": [],
   "source": []
  }
 ],
 "metadata": {
  "kernelspec": {
   "display_name": "learn",
   "language": "python",
   "name": "python3"
  },
  "language_info": {
   "codemirror_mode": {
    "name": "ipython",
    "version": 3
   },
   "file_extension": ".py",
   "mimetype": "text/x-python",
   "name": "python",
   "nbconvert_exporter": "python",
   "pygments_lexer": "ipython3",
   "version": "3.12.4"
  }
 },
 "nbformat": 4,
 "nbformat_minor": 5
}
