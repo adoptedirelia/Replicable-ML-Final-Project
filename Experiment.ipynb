{
 "cells": [
  {
   "cell_type": "markdown",
   "id": "a9624279",
   "metadata": {},
   "source": [
    "Reference paper: stability is stable \n",
    "Experiment: vary the value of rho and see the minimum sample size required for replicability\n",
    "\n",
    "func getConvergenceSampleNum(hyperparams)\n",
    "    For sample_num range(min_subsets_size, max_subsets_size, step):\n",
    "        For range(repeat_num):\n",
    "            random draw a subset of the dataset, whose size = sample_num\n",
    "            Use algorithm 10 to get a model\n",
    "        Check whether the models we get are 'replicable' to each other, accoding to the hyperparams. (see definition in page 14 of the paper)\n",
    "        if converged, return current sample_num\n",
    "\n",
    "func experiment(): \n",
    "# vary the rho and see minumum sample size required for replicability. \n",
    "# To make it simple, we can fix the value of other hyperparamers, such as alpha and beta.\n",
    "    for rho in range(min_rho, max_rho, step):\n",
    "        sample_num = getConvergenceSampleNum(rho)\n",
    "        theoretical_sample_num = getTheoreticalSampleNum(rho) # compute according to algorithm 10 in the paper\n",
    "        print(\"Hyperparams: \", hyperparams, \"Sample size: \", sample_num)\n",
    "    plot(hyperparams, theoretical_sample_num) # draw the curve, where x-axis is the hyperparams and y-axis is the sample size\n",
    "    plot(hyperparams, sample_num) # draw the curve, where x-axis is the hyperparams and y-axis is the sample size"
   ]
  },
  {
   "cell_type": "code",
   "execution_count": 1,
   "id": "78f39992",
   "metadata": {},
   "outputs": [
    {
     "name": "stdout",
     "output_type": "stream",
     "text": [
      "##### Config Variables #####\n",
      "np = <module 'numpy' from '/opt/anaconda3/envs/learn/lib/python3.12/site-packages/numpy/__init__.py'>\n",
      "dataset_path = ./dataset/Invistico_Airline.csv\n",
      "model_path = ./models/\n",
      "max_depth = 3\n",
      "random_seed = 42\n",
      "selected_features = ['Class', 'Seat comfort', 'Food and drink', 'Cleanliness', 'satisfaction']\n",
      "rho = 0.3\n",
      "alpha = 0.3\n",
      "beta = 0.1\n",
      "num_H = 10\n",
      "m = 100\n",
      "m_up_bound = 9040.567619605657\n",
      "tau_up_bound = 0.03908650337129266\n",
      "tau = 3.908650337129266e-06\n",
      "############################\n"
     ]
    }
   ],
   "source": [
    "import pandas as pd\n",
    "import numpy as np\n",
    "import config\n",
    "import Algorithm10 as a10\n"
   ]
  },
  {
   "cell_type": "code",
   "execution_count": 2,
   "id": "a6be6126",
   "metadata": {},
   "outputs": [
    {
     "data": {
      "application/vnd.microsoft.datawrangler.viewer.v0+json": {
       "columns": [
        {
         "name": "index",
         "rawType": "int64",
         "type": "integer"
        },
        {
         "name": "satisfaction",
         "rawType": "object",
         "type": "string"
        },
        {
         "name": "Customer Type",
         "rawType": "object",
         "type": "string"
        },
        {
         "name": "Age",
         "rawType": "int64",
         "type": "integer"
        },
        {
         "name": "Type of Travel",
         "rawType": "object",
         "type": "string"
        },
        {
         "name": "Class",
         "rawType": "object",
         "type": "string"
        },
        {
         "name": "Flight Distance",
         "rawType": "int64",
         "type": "integer"
        },
        {
         "name": "Seat comfort",
         "rawType": "int64",
         "type": "integer"
        },
        {
         "name": "Departure/Arrival time convenient",
         "rawType": "int64",
         "type": "integer"
        },
        {
         "name": "Food and drink",
         "rawType": "int64",
         "type": "integer"
        },
        {
         "name": "Gate location",
         "rawType": "int64",
         "type": "integer"
        },
        {
         "name": "Inflight wifi service",
         "rawType": "int64",
         "type": "integer"
        },
        {
         "name": "Inflight entertainment",
         "rawType": "int64",
         "type": "integer"
        },
        {
         "name": "Online support",
         "rawType": "int64",
         "type": "integer"
        },
        {
         "name": "Ease of Online booking",
         "rawType": "int64",
         "type": "integer"
        },
        {
         "name": "On-board service",
         "rawType": "int64",
         "type": "integer"
        },
        {
         "name": "Leg room service",
         "rawType": "int64",
         "type": "integer"
        },
        {
         "name": "Baggage handling",
         "rawType": "int64",
         "type": "integer"
        },
        {
         "name": "Checkin service",
         "rawType": "int64",
         "type": "integer"
        },
        {
         "name": "Cleanliness",
         "rawType": "int64",
         "type": "integer"
        },
        {
         "name": "Online boarding",
         "rawType": "int64",
         "type": "integer"
        },
        {
         "name": "Departure Delay in Minutes",
         "rawType": "int64",
         "type": "integer"
        },
        {
         "name": "Arrival Delay in Minutes",
         "rawType": "float64",
         "type": "float"
        }
       ],
       "conversionMethod": "pd.DataFrame",
       "ref": "d89cb189-4647-47df-bece-345992dc779b",
       "rows": [
        [
         "0",
         "satisfied",
         "Loyal Customer",
         "65",
         "Personal Travel",
         "Eco",
         "265",
         "0",
         "0",
         "0",
         "2",
         "2",
         "4",
         "2",
         "3",
         "3",
         "0",
         "3",
         "5",
         "3",
         "2",
         "0",
         "0.0"
        ],
        [
         "1",
         "satisfied",
         "Loyal Customer",
         "47",
         "Personal Travel",
         "Business",
         "2464",
         "0",
         "0",
         "0",
         "3",
         "0",
         "2",
         "2",
         "3",
         "4",
         "4",
         "4",
         "2",
         "3",
         "2",
         "310",
         "305.0"
        ],
        [
         "2",
         "satisfied",
         "Loyal Customer",
         "15",
         "Personal Travel",
         "Eco",
         "2138",
         "0",
         "0",
         "0",
         "3",
         "2",
         "0",
         "2",
         "2",
         "3",
         "3",
         "4",
         "4",
         "4",
         "2",
         "0",
         "0.0"
        ],
        [
         "3",
         "satisfied",
         "Loyal Customer",
         "60",
         "Personal Travel",
         "Eco",
         "623",
         "0",
         "0",
         "0",
         "3",
         "3",
         "4",
         "3",
         "1",
         "1",
         "0",
         "1",
         "4",
         "1",
         "3",
         "0",
         "0.0"
        ],
        [
         "4",
         "satisfied",
         "Loyal Customer",
         "70",
         "Personal Travel",
         "Eco",
         "354",
         "0",
         "0",
         "0",
         "3",
         "4",
         "3",
         "4",
         "2",
         "2",
         "0",
         "2",
         "4",
         "2",
         "5",
         "0",
         "0.0"
        ]
       ],
       "shape": {
        "columns": 22,
        "rows": 5
       }
      },
      "text/html": [
       "<div>\n",
       "<style scoped>\n",
       "    .dataframe tbody tr th:only-of-type {\n",
       "        vertical-align: middle;\n",
       "    }\n",
       "\n",
       "    .dataframe tbody tr th {\n",
       "        vertical-align: top;\n",
       "    }\n",
       "\n",
       "    .dataframe thead th {\n",
       "        text-align: right;\n",
       "    }\n",
       "</style>\n",
       "<table border=\"1\" class=\"dataframe\">\n",
       "  <thead>\n",
       "    <tr style=\"text-align: right;\">\n",
       "      <th></th>\n",
       "      <th>satisfaction</th>\n",
       "      <th>Customer Type</th>\n",
       "      <th>Age</th>\n",
       "      <th>Type of Travel</th>\n",
       "      <th>Class</th>\n",
       "      <th>Flight Distance</th>\n",
       "      <th>Seat comfort</th>\n",
       "      <th>Departure/Arrival time convenient</th>\n",
       "      <th>Food and drink</th>\n",
       "      <th>Gate location</th>\n",
       "      <th>...</th>\n",
       "      <th>Online support</th>\n",
       "      <th>Ease of Online booking</th>\n",
       "      <th>On-board service</th>\n",
       "      <th>Leg room service</th>\n",
       "      <th>Baggage handling</th>\n",
       "      <th>Checkin service</th>\n",
       "      <th>Cleanliness</th>\n",
       "      <th>Online boarding</th>\n",
       "      <th>Departure Delay in Minutes</th>\n",
       "      <th>Arrival Delay in Minutes</th>\n",
       "    </tr>\n",
       "  </thead>\n",
       "  <tbody>\n",
       "    <tr>\n",
       "      <th>0</th>\n",
       "      <td>satisfied</td>\n",
       "      <td>Loyal Customer</td>\n",
       "      <td>65</td>\n",
       "      <td>Personal Travel</td>\n",
       "      <td>Eco</td>\n",
       "      <td>265</td>\n",
       "      <td>0</td>\n",
       "      <td>0</td>\n",
       "      <td>0</td>\n",
       "      <td>2</td>\n",
       "      <td>...</td>\n",
       "      <td>2</td>\n",
       "      <td>3</td>\n",
       "      <td>3</td>\n",
       "      <td>0</td>\n",
       "      <td>3</td>\n",
       "      <td>5</td>\n",
       "      <td>3</td>\n",
       "      <td>2</td>\n",
       "      <td>0</td>\n",
       "      <td>0.0</td>\n",
       "    </tr>\n",
       "    <tr>\n",
       "      <th>1</th>\n",
       "      <td>satisfied</td>\n",
       "      <td>Loyal Customer</td>\n",
       "      <td>47</td>\n",
       "      <td>Personal Travel</td>\n",
       "      <td>Business</td>\n",
       "      <td>2464</td>\n",
       "      <td>0</td>\n",
       "      <td>0</td>\n",
       "      <td>0</td>\n",
       "      <td>3</td>\n",
       "      <td>...</td>\n",
       "      <td>2</td>\n",
       "      <td>3</td>\n",
       "      <td>4</td>\n",
       "      <td>4</td>\n",
       "      <td>4</td>\n",
       "      <td>2</td>\n",
       "      <td>3</td>\n",
       "      <td>2</td>\n",
       "      <td>310</td>\n",
       "      <td>305.0</td>\n",
       "    </tr>\n",
       "    <tr>\n",
       "      <th>2</th>\n",
       "      <td>satisfied</td>\n",
       "      <td>Loyal Customer</td>\n",
       "      <td>15</td>\n",
       "      <td>Personal Travel</td>\n",
       "      <td>Eco</td>\n",
       "      <td>2138</td>\n",
       "      <td>0</td>\n",
       "      <td>0</td>\n",
       "      <td>0</td>\n",
       "      <td>3</td>\n",
       "      <td>...</td>\n",
       "      <td>2</td>\n",
       "      <td>2</td>\n",
       "      <td>3</td>\n",
       "      <td>3</td>\n",
       "      <td>4</td>\n",
       "      <td>4</td>\n",
       "      <td>4</td>\n",
       "      <td>2</td>\n",
       "      <td>0</td>\n",
       "      <td>0.0</td>\n",
       "    </tr>\n",
       "    <tr>\n",
       "      <th>3</th>\n",
       "      <td>satisfied</td>\n",
       "      <td>Loyal Customer</td>\n",
       "      <td>60</td>\n",
       "      <td>Personal Travel</td>\n",
       "      <td>Eco</td>\n",
       "      <td>623</td>\n",
       "      <td>0</td>\n",
       "      <td>0</td>\n",
       "      <td>0</td>\n",
       "      <td>3</td>\n",
       "      <td>...</td>\n",
       "      <td>3</td>\n",
       "      <td>1</td>\n",
       "      <td>1</td>\n",
       "      <td>0</td>\n",
       "      <td>1</td>\n",
       "      <td>4</td>\n",
       "      <td>1</td>\n",
       "      <td>3</td>\n",
       "      <td>0</td>\n",
       "      <td>0.0</td>\n",
       "    </tr>\n",
       "    <tr>\n",
       "      <th>4</th>\n",
       "      <td>satisfied</td>\n",
       "      <td>Loyal Customer</td>\n",
       "      <td>70</td>\n",
       "      <td>Personal Travel</td>\n",
       "      <td>Eco</td>\n",
       "      <td>354</td>\n",
       "      <td>0</td>\n",
       "      <td>0</td>\n",
       "      <td>0</td>\n",
       "      <td>3</td>\n",
       "      <td>...</td>\n",
       "      <td>4</td>\n",
       "      <td>2</td>\n",
       "      <td>2</td>\n",
       "      <td>0</td>\n",
       "      <td>2</td>\n",
       "      <td>4</td>\n",
       "      <td>2</td>\n",
       "      <td>5</td>\n",
       "      <td>0</td>\n",
       "      <td>0.0</td>\n",
       "    </tr>\n",
       "  </tbody>\n",
       "</table>\n",
       "<p>5 rows × 22 columns</p>\n",
       "</div>"
      ],
      "text/plain": [
       "  satisfaction   Customer Type  Age   Type of Travel     Class  \\\n",
       "0    satisfied  Loyal Customer   65  Personal Travel       Eco   \n",
       "1    satisfied  Loyal Customer   47  Personal Travel  Business   \n",
       "2    satisfied  Loyal Customer   15  Personal Travel       Eco   \n",
       "3    satisfied  Loyal Customer   60  Personal Travel       Eco   \n",
       "4    satisfied  Loyal Customer   70  Personal Travel       Eco   \n",
       "\n",
       "   Flight Distance  Seat comfort  Departure/Arrival time convenient  \\\n",
       "0              265             0                                  0   \n",
       "1             2464             0                                  0   \n",
       "2             2138             0                                  0   \n",
       "3              623             0                                  0   \n",
       "4              354             0                                  0   \n",
       "\n",
       "   Food and drink  Gate location  ...  Online support  Ease of Online booking  \\\n",
       "0               0              2  ...               2                       3   \n",
       "1               0              3  ...               2                       3   \n",
       "2               0              3  ...               2                       2   \n",
       "3               0              3  ...               3                       1   \n",
       "4               0              3  ...               4                       2   \n",
       "\n",
       "   On-board service  Leg room service  Baggage handling  Checkin service  \\\n",
       "0                 3                 0                 3                5   \n",
       "1                 4                 4                 4                2   \n",
       "2                 3                 3                 4                4   \n",
       "3                 1                 0                 1                4   \n",
       "4                 2                 0                 2                4   \n",
       "\n",
       "   Cleanliness  Online boarding  Departure Delay in Minutes  \\\n",
       "0            3                2                           0   \n",
       "1            3                2                         310   \n",
       "2            4                2                           0   \n",
       "3            1                3                           0   \n",
       "4            2                5                           0   \n",
       "\n",
       "   Arrival Delay in Minutes  \n",
       "0                       0.0  \n",
       "1                     305.0  \n",
       "2                       0.0  \n",
       "3                       0.0  \n",
       "4                       0.0  \n",
       "\n",
       "[5 rows x 22 columns]"
      ]
     },
     "execution_count": 2,
     "metadata": {},
     "output_type": "execute_result"
    }
   ],
   "source": [
    "data = pd.read_csv('dataset/Invistico_Airline.csv')\n",
    "data.head()"
   ]
  },
  {
   "cell_type": "code",
   "execution_count": 3,
   "id": "5e80489b",
   "metadata": {},
   "outputs": [
    {
     "data": {
      "text/plain": [
       "(129880, 22)"
      ]
     },
     "execution_count": 3,
     "metadata": {},
     "output_type": "execute_result"
    }
   ],
   "source": [
    "data.shape"
   ]
  },
  {
   "cell_type": "code",
   "execution_count": 4,
   "id": "93fb774f",
   "metadata": {},
   "outputs": [],
   "source": [
    "# function to check if two decision trees are equal\n",
    "def are_trees_equal(tree1, tree2):\n",
    "    # Check that both trees are fitted\n",
    "    if not hasattr(tree1, 'tree_') or not hasattr(tree2, 'tree_'):\n",
    "        raise ValueError(\"Both trees must be fitted before comparison.\")\n",
    "\n",
    "    # Compare parameters\n",
    "    if tree1.get_params() != tree2.get_params():\n",
    "        return False\n",
    "\n",
    "    t1 = tree1.tree_\n",
    "    t2 = tree2.tree_\n",
    "\n",
    "    # Compare structure and splitting rules\n",
    "    attributes_to_check = [\n",
    "        'children_left', 'children_right',\n",
    "        'feature', 'threshold',\n",
    "        'impurity', 'n_node_samples', 'weighted_n_node_samples',\n",
    "        'value'\n",
    "    ]\n",
    "\n",
    "    for attr in attributes_to_check:\n",
    "        if not np.array_equal(getattr(t1, attr), getattr(t2, attr)):\n",
    "            return False\n",
    "\n",
    "    return True\n"
   ]
  },
  {
   "cell_type": "code",
   "execution_count": 5,
   "id": "30be79b1",
   "metadata": {},
   "outputs": [],
   "source": [
    "def getConvergenceSampleNum(min_subset_size, max_subset_size, repeat_num, rho, sample_size_step=1):\n",
    "    sample_size_replicablity_dict = {}\n",
    "    for sample_size in range(min_subset_size, max_subset_size + 1, sample_size_step):\n",
    "        #get dataset of size sample_size by sampling from the original dataset\n",
    "        replicable_tree_list = []\n",
    "        for i in range(repeat_num):\n",
    "            print(f\"sample size: {sample_size}, repeat: {i}\")\n",
    "            X_train, X_test, y_train, y_test = a10.load_dataset(config.dataset_path, sample_size=sample_size, test_size=0.01, random_state=config.random_seed+i)\n",
    "            H = a10.build_candidate_trees(X_train, y_train, max_depth=config.max_depth, num_trees=config.num_H, random_state=config.random_seed+i)\n",
    "            tree = a10.replicable_learner(X_train, y_train, H, random_seed=config.random_seed+i)\n",
    "            replicable_tree_list.append(tree)\n",
    "            # a = tree.score(X_test, y_test)\n",
    "        #check the probability if the trees in the replicable_tree_list are the same\n",
    "        same_tree_count = 0\n",
    "        for i in range(len(replicable_tree_list)):\n",
    "            for j in range(i + 1, len(replicable_tree_list)):\n",
    "                if are_trees_equal(replicable_tree_list[i], replicable_tree_list[j]):\n",
    "                    print(f\"tree {i} and tree {j} are the same\")\n",
    "                    same_tree_count += 1\n",
    "        prob = same_tree_count / (repeat_num * (repeat_num - 1) / 2)\n",
    "        if prob >= 1-rho:\n",
    "            print(f\"replicable at sample size: {sample_size}, prob: {prob}\")\n",
    "            return sample_size \n",
    "    print(f\"not replicable at sample size between {min_subset_size} and {max_subset_size}, prob: {prob}\")\n",
    "    return -1\n",
    "\n",
    "            \n",
    "        \n",
    "    "
   ]
  },
  {
   "cell_type": "code",
   "execution_count": 6,
   "id": "97f00cd6",
   "metadata": {},
   "outputs": [
    {
     "name": "stdout",
     "output_type": "stream",
     "text": [
      "theoretical sample size:  9040.567619605657\n",
      "sample size: 10000, repeat: 0\n",
      "Train set size: 10000 Test set size: 1299\n"
     ]
    },
    {
     "name": "stderr",
     "output_type": "stream",
     "text": [
      "100%|██████████| 10/10 [00:00<00:00, 203.12it/s]\n"
     ]
    },
    {
     "name": "stdout",
     "output_type": "stream",
     "text": [
      "k: 19187 v max candidates: 0.2875940516665116 v min candidates: 0.21260268629834947\n",
      "sample size: 10000, repeat: 1\n",
      "Train set size: 10000 Test set size: 1299\n"
     ]
    },
    {
     "name": "stderr",
     "output_type": "stream",
     "text": [
      "100%|██████████| 10/10 [00:00<00:00, 217.53it/s]\n"
     ]
    },
    {
     "name": "stdout",
     "output_type": "stream",
     "text": [
      "k: 19187 v max candidates: 0.2868935445473655 v min candidates: 0.2119021791792034\n",
      "sample size: 10000, repeat: 2\n",
      "Train set size: 10000 Test set size: 1299\n"
     ]
    },
    {
     "name": "stderr",
     "output_type": "stream",
     "text": [
      "100%|██████████| 10/10 [00:00<00:00, 218.85it/s]\n"
     ]
    },
    {
     "name": "stdout",
     "output_type": "stream",
     "text": [
      "k: 19187 v max candidates: 0.27899495124635354 v min candidates: 0.20400358587819142\n",
      "sample size: 10000, repeat: 3\n",
      "Train set size: 10000 Test set size: 1299\n"
     ]
    },
    {
     "name": "stderr",
     "output_type": "stream",
     "text": [
      "100%|██████████| 10/10 [00:00<00:00, 212.80it/s]\n"
     ]
    },
    {
     "name": "stdout",
     "output_type": "stream",
     "text": [
      "k: 19187 v max candidates: 0.3012952525434234 v min candidates: 0.2263038871752613\n",
      "sample size: 10000, repeat: 4\n",
      "Train set size: 10000 Test set size: 1299\n"
     ]
    },
    {
     "name": "stderr",
     "output_type": "stream",
     "text": [
      "100%|██████████| 10/10 [00:00<00:00, 221.19it/s]\n"
     ]
    },
    {
     "name": "stdout",
     "output_type": "stream",
     "text": [
      "k: 19187 v max candidates: 0.2921948515566217 v min candidates: 0.2172034861884596\n",
      "sample size: 10000, repeat: 5\n",
      "Train set size: 10000 Test set size: 1299\n"
     ]
    },
    {
     "name": "stderr",
     "output_type": "stream",
     "text": [
      "100%|██████████| 10/10 [00:00<00:00, 121.24it/s]\n"
     ]
    },
    {
     "name": "stdout",
     "output_type": "stream",
     "text": [
      "k: 19187 v max candidates: 0.28919354148670756 v min candidates: 0.21420217611854547\n",
      "sample size: 10000, repeat: 6\n",
      "Train set size: 10000 Test set size: 1299\n"
     ]
    },
    {
     "name": "stderr",
     "output_type": "stream",
     "text": [
      "100%|██████████| 10/10 [00:00<00:00, 194.65it/s]\n"
     ]
    },
    {
     "name": "stdout",
     "output_type": "stream",
     "text": [
      "k: 19187 v max candidates: 0.2878933538750073 v min candidates: 0.21290198850684522\n",
      "sample size: 10000, repeat: 7\n",
      "Train set size: 10000 Test set size: 1299\n"
     ]
    },
    {
     "name": "stderr",
     "output_type": "stream",
     "text": [
      "100%|██████████| 10/10 [00:00<00:00, 194.61it/s]\n"
     ]
    },
    {
     "name": "stdout",
     "output_type": "stream",
     "text": [
      "k: 19187 v max candidates: 0.2824939078757416 v min candidates: 0.2075025425075795\n",
      "sample size: 10000, repeat: 8\n",
      "Train set size: 10000 Test set size: 1299\n"
     ]
    },
    {
     "name": "stderr",
     "output_type": "stream",
     "text": [
      "100%|██████████| 10/10 [00:00<00:00, 204.49it/s]\n"
     ]
    },
    {
     "name": "stdout",
     "output_type": "stream",
     "text": [
      "k: 19187 v max candidates: 0.30759428630577496 v min candidates: 0.23260292093761287\n",
      "sample size: 10000, repeat: 9\n",
      "Train set size: 10000 Test set size: 1299\n"
     ]
    },
    {
     "name": "stderr",
     "output_type": "stream",
     "text": [
      "100%|██████████| 10/10 [00:00<00:00, 136.35it/s]\n"
     ]
    },
    {
     "name": "stdout",
     "output_type": "stream",
     "text": [
      "k: 19187 v max candidates: 0.3024946402922432 v min candidates: 0.2275032749240811\n",
      "sample size: 11000, repeat: 0\n",
      "Train set size: 11000 Test set size: 1299\n"
     ]
    },
    {
     "name": "stderr",
     "output_type": "stream",
     "text": [
      "100%|██████████| 10/10 [00:00<00:00, 175.64it/s]\n"
     ]
    },
    {
     "name": "stdout",
     "output_type": "stream",
     "text": [
      "k: 19187 v max candidates: 0.28799405166651154 v min candidates: 0.21300268629834943\n",
      "sample size: 11000, repeat: 1\n",
      "Train set size: 11000 Test set size: 1299\n"
     ]
    },
    {
     "name": "stderr",
     "output_type": "stream",
     "text": [
      "100%|██████████| 10/10 [00:00<00:00, 185.09it/s]\n"
     ]
    },
    {
     "name": "stdout",
     "output_type": "stream",
     "text": [
      "k: 19187 v max candidates: 0.2880844536382746 v min candidates: 0.21309308827011253\n",
      "sample size: 11000, repeat: 2\n",
      "Train set size: 11000 Test set size: 1299\n"
     ]
    },
    {
     "name": "stderr",
     "output_type": "stream",
     "text": [
      "100%|██████████| 10/10 [00:00<00:00, 185.80it/s]\n"
     ]
    },
    {
     "name": "stdout",
     "output_type": "stream",
     "text": [
      "k: 19187 v max candidates: 0.27926767851908085 v min candidates: 0.20427631315091874\n",
      "sample size: 11000, repeat: 3\n",
      "Train set size: 11000 Test set size: 1299\n"
     ]
    },
    {
     "name": "stderr",
     "output_type": "stream",
     "text": [
      "100%|██████████| 10/10 [00:00<00:00, 123.95it/s]\n"
     ]
    },
    {
     "name": "stdout",
     "output_type": "stream",
     "text": [
      "k: 19187 v max candidates: 0.30181343436160524 v min candidates: 0.22682206899344315\n",
      "sample size: 11000, repeat: 4\n",
      "Train set size: 11000 Test set size: 1299\n"
     ]
    },
    {
     "name": "stderr",
     "output_type": "stream",
     "text": [
      "100%|██████████| 10/10 [00:00<00:00, 179.67it/s]\n"
     ]
    },
    {
     "name": "stdout",
     "output_type": "stream",
     "text": [
      "k: 19187 v max candidates: 0.2916312151929854 v min candidates: 0.2166398498248233\n",
      "sample size: 11000, repeat: 5\n",
      "Train set size: 11000 Test set size: 1299\n"
     ]
    },
    {
     "name": "stderr",
     "output_type": "stream",
     "text": [
      "100%|██████████| 10/10 [00:00<00:00, 185.38it/s]\n"
     ]
    },
    {
     "name": "stdout",
     "output_type": "stream",
     "text": [
      "k: 19187 v max candidates: 0.2893571778503439 v min candidates: 0.21436581248218184\n",
      "sample size: 11000, repeat: 6\n",
      "Train set size: 11000 Test set size: 1299\n"
     ]
    },
    {
     "name": "stderr",
     "output_type": "stream",
     "text": [
      "100%|██████████| 10/10 [00:00<00:00, 176.98it/s]\n"
     ]
    },
    {
     "name": "stdout",
     "output_type": "stream",
     "text": [
      "k: 19187 v max candidates: 0.28862971751137095 v min candidates: 0.21363835214320887\n",
      "sample size: 11000, repeat: 7\n",
      "Train set size: 11000 Test set size: 1299\n"
     ]
    },
    {
     "name": "stderr",
     "output_type": "stream",
     "text": [
      "100%|██████████| 10/10 [00:00<00:00, 126.39it/s]\n"
     ]
    },
    {
     "name": "stdout",
     "output_type": "stream",
     "text": [
      "k: 19187 v max candidates: 0.28326663514846884 v min candidates: 0.20827526978030675\n",
      "sample size: 11000, repeat: 8\n",
      "Train set size: 11000 Test set size: 1299\n"
     ]
    },
    {
     "name": "stderr",
     "output_type": "stream",
     "text": [
      "100%|██████████| 10/10 [00:00<00:00, 180.82it/s]\n"
     ]
    },
    {
     "name": "stdout",
     "output_type": "stream",
     "text": [
      "k: 19187 v max candidates: 0.3094488317603204 v min candidates: 0.2344574663921583\n",
      "sample size: 11000, repeat: 9\n",
      "Train set size: 11000 Test set size: 1299\n"
     ]
    },
    {
     "name": "stderr",
     "output_type": "stream",
     "text": [
      "100%|██████████| 10/10 [00:00<00:00, 181.32it/s]\n"
     ]
    },
    {
     "name": "stdout",
     "output_type": "stream",
     "text": [
      "k: 19187 v max candidates: 0.31244918574678865 v min candidates: 0.23745782037862653\n",
      "sample size: 12000, repeat: 0\n",
      "Train set size: 12000 Test set size: 1299\n"
     ]
    },
    {
     "name": "stderr",
     "output_type": "stream",
     "text": [
      "100%|██████████| 10/10 [00:00<00:00, 152.39it/s]\n"
     ]
    },
    {
     "name": "stdout",
     "output_type": "stream",
     "text": [
      "k: 19187 v max candidates: 0.28966071833317825 v min candidates: 0.21466935296501613\n",
      "sample size: 12000, repeat: 1\n",
      "Train set size: 12000 Test set size: 1299\n"
     ]
    },
    {
     "name": "stderr",
     "output_type": "stream",
     "text": [
      "100%|██████████| 10/10 [00:00<00:00, 118.47it/s]\n"
     ]
    },
    {
     "name": "stdout",
     "output_type": "stream",
     "text": [
      "k: 19187 v max candidates: 0.2880768778806988 v min candidates: 0.2130855125125367\n",
      "sample size: 12000, repeat: 2\n",
      "Train set size: 12000 Test set size: 1299\n"
     ]
    },
    {
     "name": "stderr",
     "output_type": "stream",
     "text": [
      "100%|██████████| 10/10 [00:00<00:00, 164.97it/s]\n"
     ]
    },
    {
     "name": "stdout",
     "output_type": "stream",
     "text": [
      "k: 19187 v max candidates: 0.28199495124635354 v min candidates: 0.20700358587819143\n",
      "sample size: 12000, repeat: 3\n",
      "Train set size: 12000 Test set size: 1299\n"
     ]
    },
    {
     "name": "stderr",
     "output_type": "stream",
     "text": [
      "100%|██████████| 10/10 [00:00<00:00, 170.51it/s]\n"
     ]
    },
    {
     "name": "stdout",
     "output_type": "stream",
     "text": [
      "k: 19187 v max candidates: 0.30241191921009014 v min candidates: 0.22742055384192805\n",
      "sample size: 12000, repeat: 4\n",
      "Train set size: 12000 Test set size: 1299\n"
     ]
    },
    {
     "name": "stderr",
     "output_type": "stream",
     "text": [
      "100%|██████████| 10/10 [00:00<00:00, 169.58it/s]\n"
     ]
    },
    {
     "name": "stdout",
     "output_type": "stream",
     "text": [
      "k: 19187 v max candidates: 0.29224485155662183 v min candidates: 0.21725348618845972\n",
      "sample size: 12000, repeat: 5\n",
      "Train set size: 12000 Test set size: 1299\n"
     ]
    },
    {
     "name": "stderr",
     "output_type": "stream",
     "text": [
      "100%|██████████| 10/10 [00:00<00:00, 120.91it/s]\n"
     ]
    },
    {
     "name": "stdout",
     "output_type": "stream",
     "text": [
      "k: 19187 v max candidates: 0.3139102081533743 v min candidates: 0.2389188427852122\n",
      "sample size: 12000, repeat: 6\n",
      "Train set size: 12000 Test set size: 1299\n"
     ]
    },
    {
     "name": "stderr",
     "output_type": "stream",
     "text": [
      "100%|██████████| 10/10 [00:00<00:00, 167.93it/s]\n"
     ]
    },
    {
     "name": "stdout",
     "output_type": "stream",
     "text": [
      "k: 19187 v max candidates: 0.28716002054167394 v min candidates: 0.21216865517351186\n",
      "sample size: 12000, repeat: 7\n",
      "Train set size: 12000 Test set size: 1299\n"
     ]
    },
    {
     "name": "stderr",
     "output_type": "stream",
     "text": [
      "100%|██████████| 10/10 [00:00<00:00, 170.11it/s]\n"
     ]
    },
    {
     "name": "stdout",
     "output_type": "stream",
     "text": [
      "k: 19187 v max candidates: 0.2861605745424082 v min candidates: 0.2111692091742461\n",
      "sample size: 12000, repeat: 8\n",
      "Train set size: 12000 Test set size: 1299\n"
     ]
    },
    {
     "name": "stderr",
     "output_type": "stream",
     "text": [
      "100%|██████████| 10/10 [00:00<00:00, 163.54it/s]\n"
     ]
    },
    {
     "name": "stdout",
     "output_type": "stream",
     "text": [
      "k: 19187 v max candidates: 0.3099942863057749 v min candidates: 0.23500292093761282\n",
      "sample size: 12000, repeat: 9\n",
      "Train set size: 12000 Test set size: 1299\n"
     ]
    },
    {
     "name": "stderr",
     "output_type": "stream",
     "text": [
      "100%|██████████| 10/10 [00:00<00:00, 118.70it/s]"
     ]
    },
    {
     "name": "stdout",
     "output_type": "stream",
     "text": [
      "k: 19187 v max candidates: 0.28899464029224314 v min candidates: 0.21400327492408103\n",
      "not replicable at sample size between 10000 and 12000, prob: 0.0\n"
     ]
    },
    {
     "name": "stderr",
     "output_type": "stream",
     "text": [
      "\n"
     ]
    }
   ],
   "source": [
    "print(\"theoretical sample size: \", config.m_up_bound)\n",
    "ans_dict = getConvergenceSampleNum(min_subset_size=10000, max_subset_size=12000, repeat_num=10, rho=config.rho, sample_size_step=1000)"
   ]
  },
  {
   "cell_type": "code",
   "execution_count": 7,
   "id": "e0cae453",
   "metadata": {},
   "outputs": [
    {
     "data": {
      "text/plain": [
       "-1"
      ]
     },
     "execution_count": 7,
     "metadata": {},
     "output_type": "execute_result"
    }
   ],
   "source": [
    "ans_dict"
   ]
  }
 ],
 "metadata": {
  "kernelspec": {
   "display_name": "learn",
   "language": "python",
   "name": "python3"
  },
  "language_info": {
   "codemirror_mode": {
    "name": "ipython",
    "version": 3
   },
   "file_extension": ".py",
   "mimetype": "text/x-python",
   "name": "python",
   "nbconvert_exporter": "python",
   "pygments_lexer": "ipython3",
   "version": "3.12.4"
  }
 },
 "nbformat": 4,
 "nbformat_minor": 5
}
