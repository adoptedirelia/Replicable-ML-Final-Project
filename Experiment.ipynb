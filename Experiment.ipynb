{
 "cells": [
  {
   "cell_type": "markdown",
   "id": "a9624279",
   "metadata": {},
   "source": [
    "Reference paper: stability is stable \n",
    "Experiment: vary the value of rho and see the minimum sample size required for replicability\n",
    "\n",
    "func getConvergenceSampleNum(hyperparams)\n",
    "    For sample_num range(min_subsets_size, max_subsets_size, step):\n",
    "        For range(repeat_num):\n",
    "            random draw a subset of the dataset, whose size = sample_num\n",
    "            Use algorithm 10 to get a model\n",
    "        Check whether the models we get are 'replicable' to each other, accoding to the hyperparams. (see definition in page 14 of the paper)\n",
    "        if converged, return current sample_num\n",
    "\n",
    "func experiment(): \n",
    "# vary the rho and see minumum sample size required for replicability. \n",
    "# To make it simple, we can fix the value of other hyperparamers, such as alpha and beta.\n",
    "    for rho in range(min_rho, max_rho, step):\n",
    "        sample_num = getConvergenceSampleNum(rho)\n",
    "        theoretical_sample_num = getTheoreticalSampleNum(rho) # compute according to algorithm 10 in the paper\n",
    "        print(\"Hyperparams: \", hyperparams, \"Sample size: \", sample_num)\n",
    "    plot(hyperparams, theoretical_sample_num) # draw the curve, where x-axis is the hyperparams and y-axis is the sample size\n",
    "    plot(hyperparams, sample_num) # draw the curve, where x-axis is the hyperparams and y-axis is the sample size"
   ]
  },
  {
   "cell_type": "code",
   "execution_count": 1,
   "id": "78f39992",
   "metadata": {},
   "outputs": [
    {
     "name": "stdout",
     "output_type": "stream",
     "text": [
      "##### Config Variables #####\n",
      "np = <module 'numpy' from '/opt/anaconda3/envs/learn/lib/python3.12/site-packages/numpy/__init__.py'>\n",
      "dataset_path = ./dataset/Invistico_Airline.csv\n",
      "model_path = ./models/\n",
      "max_depth = 3\n",
      "random_seed = 42\n",
      "selected_features = ['Class', 'Seat comfort', 'Food and drink', 'Cleanliness', 'satisfaction']\n",
      "rho = 0.1\n",
      "alpha = 0.3\n",
      "beta = 0.01\n",
      "num_H = 20\n",
      "m = 100\n",
      "m_up_bound = 2301155.406349028\n",
      "tau_up_bound = 0.010014246020860021\n",
      "tau = 1.0014246020860022e-06\n",
      "############################\n"
     ]
    }
   ],
   "source": [
    "import pandas as pd\n",
    "import numpy as np\n",
    "import config\n",
    "import Algorithm10 as a10\n"
   ]
  },
  {
   "cell_type": "code",
   "execution_count": 3,
   "id": "a6be6126",
   "metadata": {},
   "outputs": [
    {
     "data": {
      "application/vnd.microsoft.datawrangler.viewer.v0+json": {
       "columns": [
        {
         "name": "index",
         "rawType": "int64",
         "type": "integer"
        },
        {
         "name": "satisfaction",
         "rawType": "object",
         "type": "string"
        },
        {
         "name": "Customer Type",
         "rawType": "object",
         "type": "string"
        },
        {
         "name": "Age",
         "rawType": "int64",
         "type": "integer"
        },
        {
         "name": "Type of Travel",
         "rawType": "object",
         "type": "string"
        },
        {
         "name": "Class",
         "rawType": "object",
         "type": "string"
        },
        {
         "name": "Flight Distance",
         "rawType": "int64",
         "type": "integer"
        },
        {
         "name": "Seat comfort",
         "rawType": "int64",
         "type": "integer"
        },
        {
         "name": "Departure/Arrival time convenient",
         "rawType": "int64",
         "type": "integer"
        },
        {
         "name": "Food and drink",
         "rawType": "int64",
         "type": "integer"
        },
        {
         "name": "Gate location",
         "rawType": "int64",
         "type": "integer"
        },
        {
         "name": "Inflight wifi service",
         "rawType": "int64",
         "type": "integer"
        },
        {
         "name": "Inflight entertainment",
         "rawType": "int64",
         "type": "integer"
        },
        {
         "name": "Online support",
         "rawType": "int64",
         "type": "integer"
        },
        {
         "name": "Ease of Online booking",
         "rawType": "int64",
         "type": "integer"
        },
        {
         "name": "On-board service",
         "rawType": "int64",
         "type": "integer"
        },
        {
         "name": "Leg room service",
         "rawType": "int64",
         "type": "integer"
        },
        {
         "name": "Baggage handling",
         "rawType": "int64",
         "type": "integer"
        },
        {
         "name": "Checkin service",
         "rawType": "int64",
         "type": "integer"
        },
        {
         "name": "Cleanliness",
         "rawType": "int64",
         "type": "integer"
        },
        {
         "name": "Online boarding",
         "rawType": "int64",
         "type": "integer"
        },
        {
         "name": "Departure Delay in Minutes",
         "rawType": "int64",
         "type": "integer"
        },
        {
         "name": "Arrival Delay in Minutes",
         "rawType": "float64",
         "type": "float"
        }
       ],
       "conversionMethod": "pd.DataFrame",
       "ref": "ab5604ab-fc68-42bc-831c-c884c58059e4",
       "rows": [
        [
         "0",
         "satisfied",
         "Loyal Customer",
         "65",
         "Personal Travel",
         "Eco",
         "265",
         "0",
         "0",
         "0",
         "2",
         "2",
         "4",
         "2",
         "3",
         "3",
         "0",
         "3",
         "5",
         "3",
         "2",
         "0",
         "0.0"
        ],
        [
         "1",
         "satisfied",
         "Loyal Customer",
         "47",
         "Personal Travel",
         "Business",
         "2464",
         "0",
         "0",
         "0",
         "3",
         "0",
         "2",
         "2",
         "3",
         "4",
         "4",
         "4",
         "2",
         "3",
         "2",
         "310",
         "305.0"
        ],
        [
         "2",
         "satisfied",
         "Loyal Customer",
         "15",
         "Personal Travel",
         "Eco",
         "2138",
         "0",
         "0",
         "0",
         "3",
         "2",
         "0",
         "2",
         "2",
         "3",
         "3",
         "4",
         "4",
         "4",
         "2",
         "0",
         "0.0"
        ],
        [
         "3",
         "satisfied",
         "Loyal Customer",
         "60",
         "Personal Travel",
         "Eco",
         "623",
         "0",
         "0",
         "0",
         "3",
         "3",
         "4",
         "3",
         "1",
         "1",
         "0",
         "1",
         "4",
         "1",
         "3",
         "0",
         "0.0"
        ],
        [
         "4",
         "satisfied",
         "Loyal Customer",
         "70",
         "Personal Travel",
         "Eco",
         "354",
         "0",
         "0",
         "0",
         "3",
         "4",
         "3",
         "4",
         "2",
         "2",
         "0",
         "2",
         "4",
         "2",
         "5",
         "0",
         "0.0"
        ]
       ],
       "shape": {
        "columns": 22,
        "rows": 5
       }
      },
      "text/html": [
       "<div>\n",
       "<style scoped>\n",
       "    .dataframe tbody tr th:only-of-type {\n",
       "        vertical-align: middle;\n",
       "    }\n",
       "\n",
       "    .dataframe tbody tr th {\n",
       "        vertical-align: top;\n",
       "    }\n",
       "\n",
       "    .dataframe thead th {\n",
       "        text-align: right;\n",
       "    }\n",
       "</style>\n",
       "<table border=\"1\" class=\"dataframe\">\n",
       "  <thead>\n",
       "    <tr style=\"text-align: right;\">\n",
       "      <th></th>\n",
       "      <th>satisfaction</th>\n",
       "      <th>Customer Type</th>\n",
       "      <th>Age</th>\n",
       "      <th>Type of Travel</th>\n",
       "      <th>Class</th>\n",
       "      <th>Flight Distance</th>\n",
       "      <th>Seat comfort</th>\n",
       "      <th>Departure/Arrival time convenient</th>\n",
       "      <th>Food and drink</th>\n",
       "      <th>Gate location</th>\n",
       "      <th>...</th>\n",
       "      <th>Online support</th>\n",
       "      <th>Ease of Online booking</th>\n",
       "      <th>On-board service</th>\n",
       "      <th>Leg room service</th>\n",
       "      <th>Baggage handling</th>\n",
       "      <th>Checkin service</th>\n",
       "      <th>Cleanliness</th>\n",
       "      <th>Online boarding</th>\n",
       "      <th>Departure Delay in Minutes</th>\n",
       "      <th>Arrival Delay in Minutes</th>\n",
       "    </tr>\n",
       "  </thead>\n",
       "  <tbody>\n",
       "    <tr>\n",
       "      <th>0</th>\n",
       "      <td>satisfied</td>\n",
       "      <td>Loyal Customer</td>\n",
       "      <td>65</td>\n",
       "      <td>Personal Travel</td>\n",
       "      <td>Eco</td>\n",
       "      <td>265</td>\n",
       "      <td>0</td>\n",
       "      <td>0</td>\n",
       "      <td>0</td>\n",
       "      <td>2</td>\n",
       "      <td>...</td>\n",
       "      <td>2</td>\n",
       "      <td>3</td>\n",
       "      <td>3</td>\n",
       "      <td>0</td>\n",
       "      <td>3</td>\n",
       "      <td>5</td>\n",
       "      <td>3</td>\n",
       "      <td>2</td>\n",
       "      <td>0</td>\n",
       "      <td>0.0</td>\n",
       "    </tr>\n",
       "    <tr>\n",
       "      <th>1</th>\n",
       "      <td>satisfied</td>\n",
       "      <td>Loyal Customer</td>\n",
       "      <td>47</td>\n",
       "      <td>Personal Travel</td>\n",
       "      <td>Business</td>\n",
       "      <td>2464</td>\n",
       "      <td>0</td>\n",
       "      <td>0</td>\n",
       "      <td>0</td>\n",
       "      <td>3</td>\n",
       "      <td>...</td>\n",
       "      <td>2</td>\n",
       "      <td>3</td>\n",
       "      <td>4</td>\n",
       "      <td>4</td>\n",
       "      <td>4</td>\n",
       "      <td>2</td>\n",
       "      <td>3</td>\n",
       "      <td>2</td>\n",
       "      <td>310</td>\n",
       "      <td>305.0</td>\n",
       "    </tr>\n",
       "    <tr>\n",
       "      <th>2</th>\n",
       "      <td>satisfied</td>\n",
       "      <td>Loyal Customer</td>\n",
       "      <td>15</td>\n",
       "      <td>Personal Travel</td>\n",
       "      <td>Eco</td>\n",
       "      <td>2138</td>\n",
       "      <td>0</td>\n",
       "      <td>0</td>\n",
       "      <td>0</td>\n",
       "      <td>3</td>\n",
       "      <td>...</td>\n",
       "      <td>2</td>\n",
       "      <td>2</td>\n",
       "      <td>3</td>\n",
       "      <td>3</td>\n",
       "      <td>4</td>\n",
       "      <td>4</td>\n",
       "      <td>4</td>\n",
       "      <td>2</td>\n",
       "      <td>0</td>\n",
       "      <td>0.0</td>\n",
       "    </tr>\n",
       "    <tr>\n",
       "      <th>3</th>\n",
       "      <td>satisfied</td>\n",
       "      <td>Loyal Customer</td>\n",
       "      <td>60</td>\n",
       "      <td>Personal Travel</td>\n",
       "      <td>Eco</td>\n",
       "      <td>623</td>\n",
       "      <td>0</td>\n",
       "      <td>0</td>\n",
       "      <td>0</td>\n",
       "      <td>3</td>\n",
       "      <td>...</td>\n",
       "      <td>3</td>\n",
       "      <td>1</td>\n",
       "      <td>1</td>\n",
       "      <td>0</td>\n",
       "      <td>1</td>\n",
       "      <td>4</td>\n",
       "      <td>1</td>\n",
       "      <td>3</td>\n",
       "      <td>0</td>\n",
       "      <td>0.0</td>\n",
       "    </tr>\n",
       "    <tr>\n",
       "      <th>4</th>\n",
       "      <td>satisfied</td>\n",
       "      <td>Loyal Customer</td>\n",
       "      <td>70</td>\n",
       "      <td>Personal Travel</td>\n",
       "      <td>Eco</td>\n",
       "      <td>354</td>\n",
       "      <td>0</td>\n",
       "      <td>0</td>\n",
       "      <td>0</td>\n",
       "      <td>3</td>\n",
       "      <td>...</td>\n",
       "      <td>4</td>\n",
       "      <td>2</td>\n",
       "      <td>2</td>\n",
       "      <td>0</td>\n",
       "      <td>2</td>\n",
       "      <td>4</td>\n",
       "      <td>2</td>\n",
       "      <td>5</td>\n",
       "      <td>0</td>\n",
       "      <td>0.0</td>\n",
       "    </tr>\n",
       "  </tbody>\n",
       "</table>\n",
       "<p>5 rows × 22 columns</p>\n",
       "</div>"
      ],
      "text/plain": [
       "  satisfaction   Customer Type  Age   Type of Travel     Class  \\\n",
       "0    satisfied  Loyal Customer   65  Personal Travel       Eco   \n",
       "1    satisfied  Loyal Customer   47  Personal Travel  Business   \n",
       "2    satisfied  Loyal Customer   15  Personal Travel       Eco   \n",
       "3    satisfied  Loyal Customer   60  Personal Travel       Eco   \n",
       "4    satisfied  Loyal Customer   70  Personal Travel       Eco   \n",
       "\n",
       "   Flight Distance  Seat comfort  Departure/Arrival time convenient  \\\n",
       "0              265             0                                  0   \n",
       "1             2464             0                                  0   \n",
       "2             2138             0                                  0   \n",
       "3              623             0                                  0   \n",
       "4              354             0                                  0   \n",
       "\n",
       "   Food and drink  Gate location  ...  Online support  Ease of Online booking  \\\n",
       "0               0              2  ...               2                       3   \n",
       "1               0              3  ...               2                       3   \n",
       "2               0              3  ...               2                       2   \n",
       "3               0              3  ...               3                       1   \n",
       "4               0              3  ...               4                       2   \n",
       "\n",
       "   On-board service  Leg room service  Baggage handling  Checkin service  \\\n",
       "0                 3                 0                 3                5   \n",
       "1                 4                 4                 4                2   \n",
       "2                 3                 3                 4                4   \n",
       "3                 1                 0                 1                4   \n",
       "4                 2                 0                 2                4   \n",
       "\n",
       "   Cleanliness  Online boarding  Departure Delay in Minutes  \\\n",
       "0            3                2                           0   \n",
       "1            3                2                         310   \n",
       "2            4                2                           0   \n",
       "3            1                3                           0   \n",
       "4            2                5                           0   \n",
       "\n",
       "   Arrival Delay in Minutes  \n",
       "0                       0.0  \n",
       "1                     305.0  \n",
       "2                       0.0  \n",
       "3                       0.0  \n",
       "4                       0.0  \n",
       "\n",
       "[5 rows x 22 columns]"
      ]
     },
     "execution_count": 3,
     "metadata": {},
     "output_type": "execute_result"
    }
   ],
   "source": [
    "data = pd.read_csv('dataset/Invistico_Airline.csv')\n",
    "data.head()"
   ]
  },
  {
   "cell_type": "code",
   "execution_count": 4,
   "id": "5e80489b",
   "metadata": {},
   "outputs": [
    {
     "data": {
      "text/plain": [
       "(129880, 22)"
      ]
     },
     "execution_count": 4,
     "metadata": {},
     "output_type": "execute_result"
    }
   ],
   "source": [
    "data.shape"
   ]
  },
  {
   "cell_type": "code",
   "execution_count": 5,
   "id": "93fb774f",
   "metadata": {},
   "outputs": [],
   "source": [
    "# function to check if two decision trees are equal\n",
    "def are_trees_equal(tree1, tree2):\n",
    "    # Check that both trees are fitted\n",
    "    if not hasattr(tree1, 'tree_') or not hasattr(tree2, 'tree_'):\n",
    "        raise ValueError(\"Both trees must be fitted before comparison.\")\n",
    "\n",
    "    # Compare parameters\n",
    "    if tree1.get_params() != tree2.get_params():\n",
    "        return False\n",
    "\n",
    "    t1 = tree1.tree_\n",
    "    t2 = tree2.tree_\n",
    "\n",
    "    # Compare structure and splitting rules\n",
    "    attributes_to_check = [\n",
    "        'children_left', 'children_right',\n",
    "        'feature', 'threshold',\n",
    "        'impurity', 'n_node_samples', 'weighted_n_node_samples',\n",
    "        'value'\n",
    "    ]\n",
    "\n",
    "    for attr in attributes_to_check:\n",
    "        if not np.array_equal(getattr(t1, attr), getattr(t2, attr)):\n",
    "            return False\n",
    "\n",
    "    return True\n"
   ]
  },
  {
   "cell_type": "code",
   "execution_count": 14,
   "id": "30be79b1",
   "metadata": {},
   "outputs": [],
   "source": [
    "def getConvergenceSampleNum(min_subset_size, max_subset_size, repeat_num, convergence_threshold, sample_size_step=1):\n",
    "    sample_size_replicablity_dict = {}\n",
    "    for sample_size in range(min_subset_size, max_subset_size + 1, sample_size_step):\n",
    "        #get dataset of size sample_size by sampling from the original dataset\n",
    "        replicable_tree_list = []\n",
    "        for i in range(repeat_num):\n",
    "            print(f\"sample size: {sample_size}, repeat: {i}\")\n",
    "            X_train, X_test, y_train, y_test = a10.load_dataset(config.dataset_path, sample_size=sample_size, test_size=0.01, random_state=config.random_seed+i)\n",
    "            H = a10.build_candidate_trees(X_train, y_train, max_depth=config.max_depth, num_trees=config.num_H, random_state=config.random_seed+i)\n",
    "            tree = a10.replicable_learner(X_train, y_train, H, random_seed=config.random_seed+i)\n",
    "            replicable_tree_list.append(tree)\n",
    "            # a = tree.score(X_test, y_test)\n",
    "        #check the probability if the trees in the replicable_tree_list are the same\n",
    "        same_tree_count = 0\n",
    "        for i in range(len(replicable_tree_list)):\n",
    "            for j in range(i + 1, len(replicable_tree_list)):\n",
    "                if are_trees_equal(replicable_tree_list[i], replicable_tree_list[j]):\n",
    "                    same_tree_count += 1\n",
    "        prob = same_tree_count / (repeat_num * (repeat_num - 1) / 2)\n",
    "        sample_size_replicablity_dict[sample_size] = prob\n",
    "    return sample_size_replicablity_dict\n",
    "\n",
    "            \n",
    "        \n",
    "    "
   ]
  },
  {
   "cell_type": "code",
   "execution_count": 19,
   "id": "97f00cd6",
   "metadata": {},
   "outputs": [
    {
     "name": "stdout",
     "output_type": "stream",
     "text": [
      "sample size: 10000, repeat: 0\n",
      "Train set size: 10000 Test set size: 1299\n"
     ]
    },
    {
     "name": "stderr",
     "output_type": "stream",
     "text": [
      "100%|██████████| 20/20 [00:00<00:00, 168.05it/s]\n"
     ]
    },
    {
     "name": "stdout",
     "output_type": "stream",
     "text": [
      "k: 74892 v max candidates: 0.07499869129942487 v min candidates: 1.0014246020860022e-06\n",
      "sample size: 10000, repeat: 1\n",
      "Train set size: 10000 Test set size: 1299\n"
     ]
    },
    {
     "name": "stderr",
     "output_type": "stream",
     "text": [
      "100%|██████████| 20/20 [00:00<00:00, 209.12it/s]\n"
     ]
    },
    {
     "name": "stdout",
     "output_type": "stream",
     "text": [
      "k: 74892 v max candidates: 0.07499869129942487 v min candidates: 1.0014246020860022e-06\n",
      "sample size: 10000, repeat: 2\n",
      "Train set size: 10000 Test set size: 1299\n"
     ]
    },
    {
     "name": "stderr",
     "output_type": "stream",
     "text": [
      "100%|██████████| 20/20 [00:00<00:00, 202.71it/s]\n"
     ]
    },
    {
     "name": "stdout",
     "output_type": "stream",
     "text": [
      "k: 74892 v max candidates: 0.07499869129942487 v min candidates: 1.0014246020860022e-06\n",
      "sample size: 10000, repeat: 3\n",
      "Train set size: 10000 Test set size: 1299\n"
     ]
    },
    {
     "name": "stderr",
     "output_type": "stream",
     "text": [
      "100%|██████████| 20/20 [00:00<00:00, 215.55it/s]\n"
     ]
    },
    {
     "name": "stdout",
     "output_type": "stream",
     "text": [
      "k: 74892 v max candidates: 0.07499869129942487 v min candidates: 1.0014246020860022e-06\n",
      "sample size: 10000, repeat: 4\n",
      "Train set size: 10000 Test set size: 1299\n"
     ]
    },
    {
     "name": "stderr",
     "output_type": "stream",
     "text": [
      "100%|██████████| 20/20 [00:00<00:00, 195.15it/s]\n"
     ]
    },
    {
     "name": "stdout",
     "output_type": "stream",
     "text": [
      "k: 74892 v max candidates: 0.07499869129942487 v min candidates: 1.0014246020860022e-06\n",
      "sample size: 10000, repeat: 5\n",
      "Train set size: 10000 Test set size: 1299\n"
     ]
    },
    {
     "name": "stderr",
     "output_type": "stream",
     "text": [
      "100%|██████████| 20/20 [00:00<00:00, 206.05it/s]\n"
     ]
    },
    {
     "name": "stdout",
     "output_type": "stream",
     "text": [
      "k: 74892 v max candidates: 0.07499869129942487 v min candidates: 1.0014246020860022e-06\n",
      "sample size: 10000, repeat: 6\n",
      "Train set size: 10000 Test set size: 1299\n"
     ]
    },
    {
     "name": "stderr",
     "output_type": "stream",
     "text": [
      "100%|██████████| 20/20 [00:00<00:00, 158.81it/s]\n"
     ]
    },
    {
     "name": "stdout",
     "output_type": "stream",
     "text": [
      "k: 74892 v max candidates: 0.07499869129942487 v min candidates: 1.0014246020860022e-06\n",
      "sample size: 10000, repeat: 7\n",
      "Train set size: 10000 Test set size: 1299\n"
     ]
    },
    {
     "name": "stderr",
     "output_type": "stream",
     "text": [
      "100%|██████████| 20/20 [00:00<00:00, 209.42it/s]\n"
     ]
    },
    {
     "name": "stdout",
     "output_type": "stream",
     "text": [
      "k: 74892 v max candidates: 0.07499869129942487 v min candidates: 1.0014246020860022e-06\n",
      "sample size: 10000, repeat: 8\n",
      "Train set size: 10000 Test set size: 1299\n"
     ]
    },
    {
     "name": "stderr",
     "output_type": "stream",
     "text": [
      "100%|██████████| 20/20 [00:00<00:00, 198.34it/s]\n"
     ]
    },
    {
     "name": "stdout",
     "output_type": "stream",
     "text": [
      "k: 74892 v max candidates: 0.07499869129942487 v min candidates: 1.0014246020860022e-06\n",
      "sample size: 10000, repeat: 9\n",
      "Train set size: 10000 Test set size: 1299\n"
     ]
    },
    {
     "name": "stderr",
     "output_type": "stream",
     "text": [
      "100%|██████████| 20/20 [00:00<00:00, 207.61it/s]\n"
     ]
    },
    {
     "name": "stdout",
     "output_type": "stream",
     "text": [
      "k: 74892 v max candidates: 0.07499869129942487 v min candidates: 1.0014246020860022e-06\n",
      "sample size: 11000, repeat: 0\n",
      "Train set size: 11000 Test set size: 1299\n"
     ]
    },
    {
     "name": "stderr",
     "output_type": "stream",
     "text": [
      "100%|██████████| 20/20 [00:00<00:00, 152.12it/s]\n"
     ]
    },
    {
     "name": "stdout",
     "output_type": "stream",
     "text": [
      "k: 74892 v max candidates: 0.07499869129942487 v min candidates: 1.0014246020860022e-06\n",
      "sample size: 11000, repeat: 1\n",
      "Train set size: 11000 Test set size: 1299\n"
     ]
    },
    {
     "name": "stderr",
     "output_type": "stream",
     "text": [
      "100%|██████████| 20/20 [00:00<00:00, 187.95it/s]\n"
     ]
    },
    {
     "name": "stdout",
     "output_type": "stream",
     "text": [
      "k: 74892 v max candidates: 0.07499869129942487 v min candidates: 1.0014246020860022e-06\n",
      "sample size: 11000, repeat: 2\n",
      "Train set size: 11000 Test set size: 1299\n"
     ]
    },
    {
     "name": "stderr",
     "output_type": "stream",
     "text": [
      "100%|██████████| 20/20 [00:00<00:00, 185.27it/s]\n"
     ]
    },
    {
     "name": "stdout",
     "output_type": "stream",
     "text": [
      "k: 74892 v max candidates: 0.07499869129942487 v min candidates: 1.0014246020860022e-06\n",
      "sample size: 11000, repeat: 3\n",
      "Train set size: 11000 Test set size: 1299\n"
     ]
    },
    {
     "name": "stderr",
     "output_type": "stream",
     "text": [
      "100%|██████████| 20/20 [00:00<00:00, 190.09it/s]\n"
     ]
    },
    {
     "name": "stdout",
     "output_type": "stream",
     "text": [
      "k: 74892 v max candidates: 0.07499869129942487 v min candidates: 1.0014246020860022e-06\n",
      "sample size: 11000, repeat: 4\n",
      "Train set size: 11000 Test set size: 1299\n"
     ]
    },
    {
     "name": "stderr",
     "output_type": "stream",
     "text": [
      "100%|██████████| 20/20 [00:00<00:00, 192.43it/s]\n"
     ]
    },
    {
     "name": "stdout",
     "output_type": "stream",
     "text": [
      "k: 74892 v max candidates: 0.07499869129942487 v min candidates: 1.0014246020860022e-06\n",
      "sample size: 11000, repeat: 5\n",
      "Train set size: 11000 Test set size: 1299\n"
     ]
    },
    {
     "name": "stderr",
     "output_type": "stream",
     "text": [
      "100%|██████████| 20/20 [00:00<00:00, 183.92it/s]\n"
     ]
    },
    {
     "name": "stdout",
     "output_type": "stream",
     "text": [
      "k: 74892 v max candidates: 0.07499869129942487 v min candidates: 1.0014246020860022e-06\n",
      "sample size: 11000, repeat: 6\n",
      "Train set size: 11000 Test set size: 1299\n"
     ]
    },
    {
     "name": "stderr",
     "output_type": "stream",
     "text": [
      "100%|██████████| 20/20 [00:00<00:00, 175.89it/s]\n"
     ]
    },
    {
     "name": "stdout",
     "output_type": "stream",
     "text": [
      "k: 74892 v max candidates: 0.07499869129942487 v min candidates: 1.0014246020860022e-06\n",
      "sample size: 11000, repeat: 7\n",
      "Train set size: 11000 Test set size: 1299\n"
     ]
    },
    {
     "name": "stderr",
     "output_type": "stream",
     "text": [
      "100%|██████████| 20/20 [00:00<00:00, 186.84it/s]\n"
     ]
    },
    {
     "name": "stdout",
     "output_type": "stream",
     "text": [
      "k: 74892 v max candidates: 0.07499869129942487 v min candidates: 1.0014246020860022e-06\n",
      "sample size: 11000, repeat: 8\n",
      "Train set size: 11000 Test set size: 1299\n"
     ]
    },
    {
     "name": "stderr",
     "output_type": "stream",
     "text": [
      "100%|██████████| 20/20 [00:00<00:00, 154.95it/s]\n"
     ]
    },
    {
     "name": "stdout",
     "output_type": "stream",
     "text": [
      "k: 74892 v max candidates: 0.07499869129942487 v min candidates: 1.0014246020860022e-06\n",
      "sample size: 11000, repeat: 9\n",
      "Train set size: 11000 Test set size: 1299\n"
     ]
    },
    {
     "name": "stderr",
     "output_type": "stream",
     "text": [
      "100%|██████████| 20/20 [00:00<00:00, 186.14it/s]\n"
     ]
    },
    {
     "name": "stdout",
     "output_type": "stream",
     "text": [
      "k: 74892 v max candidates: 0.07499869129942487 v min candidates: 1.0014246020860022e-06\n"
     ]
    }
   ],
   "source": [
    "ans_dict = getConvergenceSampleNum(min_subset_size=10000, max_subset_size=11000, repeat_num=10, convergence_threshold=0.95, sample_size_step=1000)"
   ]
  },
  {
   "cell_type": "code",
   "execution_count": 20,
   "id": "e0cae453",
   "metadata": {},
   "outputs": [
    {
     "data": {
      "text/plain": [
       "{10000: 0.0, 11000: 0.0}"
      ]
     },
     "execution_count": 20,
     "metadata": {},
     "output_type": "execute_result"
    }
   ],
   "source": [
    "ans_dict"
   ]
  }
 ],
 "metadata": {
  "kernelspec": {
   "display_name": "learn",
   "language": "python",
   "name": "python3"
  },
  "language_info": {
   "codemirror_mode": {
    "name": "ipython",
    "version": 3
   },
   "file_extension": ".py",
   "mimetype": "text/x-python",
   "name": "python",
   "nbconvert_exporter": "python",
   "pygments_lexer": "ipython3",
   "version": "3.12.4"
  }
 },
 "nbformat": 4,
 "nbformat_minor": 5
}
