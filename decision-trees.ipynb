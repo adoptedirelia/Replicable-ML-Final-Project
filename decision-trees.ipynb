{
 "cells": [
  {
   "cell_type": "markdown",
   "metadata": {},
   "source": [
    "# A Comprehensive Guide to Decision Trees\n",
    "\n",
    "\n",
    "**Purpose:** In this guide, we will delve into the fundamentals of Decision Trees, exploring how they work, their advantages and disadvantages, and practical implementation techniques. By the end of this guide, you will have a comprehensive understanding of Decision Trees and be equipped to apply them to various machine learning problems.\n",
    "\n",
    "**Dataset:** We will be using a loan classification dataset. This dataset contains various demographic and financial features that could be used to build a classification model for predicting loan approval or denial. The loan_status column serves as the target variable for the classification task.\n",
    "\n",
    "Happy learning 😊"
   ]
  },
  {
   "cell_type": "code",
   "execution_count": 1,
   "metadata": {
    "execution": {
     "iopub.execute_input": "2024-05-28T11:40:26.546004Z",
     "iopub.status.busy": "2024-05-28T11:40:26.545666Z",
     "iopub.status.idle": "2024-05-28T11:40:27.508742Z",
     "shell.execute_reply": "2024-05-28T11:40:27.507653Z",
     "shell.execute_reply.started": "2024-05-28T11:40:26.545973Z"
    },
    "trusted": true
   },
   "outputs": [],
   "source": [
    "import numpy as np\n",
    "import pandas as pd\n",
    "import matplotlib.pyplot as plt\n",
    "import seaborn as sns"
   ]
  },
  {
   "cell_type": "markdown",
   "metadata": {},
   "source": [
    "To keep things clear and simple in this tutorial, we will reduce the number of rows and features\n"
   ]
  },
  {
   "cell_type": "code",
   "execution_count": 42,
   "metadata": {
    "execution": {
     "iopub.execute_input": "2024-05-28T12:37:45.484625Z",
     "iopub.status.busy": "2024-05-28T12:37:45.484192Z",
     "iopub.status.idle": "2024-05-28T12:37:45.540556Z",
     "shell.execute_reply": "2024-05-28T12:37:45.539508Z",
     "shell.execute_reply.started": "2024-05-28T12:37:45.484575Z"
    },
    "trusted": true
   },
   "outputs": [
    {
     "data": {
      "application/vnd.microsoft.datawrangler.viewer.v0+json": {
       "columns": [
        {
         "name": "index",
         "rawType": "int64",
         "type": "integer"
        },
        {
         "name": "gender",
         "rawType": "object",
         "type": "string"
        },
        {
         "name": "marital_status",
         "rawType": "object",
         "type": "string"
        },
        {
         "name": "education_level",
         "rawType": "object",
         "type": "string"
        },
        {
         "name": "loan_status",
         "rawType": "object",
         "type": "string"
        }
       ],
       "conversionMethod": "pd.DataFrame",
       "ref": "024b28cf-d874-4def-bfd0-8c64a87170f9",
       "rows": [
        [
         "0",
         "Male",
         "Married",
         "Bachelor's",
         "Approved"
        ],
        [
         "1",
         "Female",
         "Single",
         "Master's",
         "Approved"
        ],
        [
         "2",
         "Male",
         "Single",
         "High School",
         "Denied"
        ],
        [
         "3",
         "Female",
         "Married",
         "Bachelor's",
         "Approved"
        ],
        [
         "4",
         "Male",
         "Married",
         "Bachelor's",
         "Approved"
        ],
        [
         "5",
         "Female",
         "Single",
         "Associate's",
         "Denied"
        ],
        [
         "6",
         "Male",
         "Married",
         "Doctoral",
         "Approved"
        ],
        [
         "7",
         "Female",
         "Single",
         "Bachelor's",
         "Denied"
        ],
        [
         "8",
         "Male",
         "Married",
         "Master's",
         "Approved"
        ],
        [
         "9",
         "Female",
         "Married",
         "Doctoral",
         "Approved"
        ],
        [
         "10",
         "Male",
         "Married",
         "Master's",
         "Approved"
        ],
        [
         "11",
         "Female",
         "Single",
         "Bachelor's",
         "Approved"
        ],
        [
         "12",
         "Male",
         "Single",
         "High School",
         "Denied"
        ],
        [
         "13",
         "Female",
         "Married",
         "Bachelor's",
         "Approved"
        ],
        [
         "14",
         "Male",
         "Married",
         "Master's",
         "Approved"
        ],
        [
         "15",
         "Female",
         "Single",
         "Bachelor's",
         "Denied"
        ],
        [
         "16",
         "Male",
         "Married",
         "Bachelor's",
         "Approved"
        ],
        [
         "17",
         "Female",
         "Married",
         "Doctoral",
         "Approved"
        ],
        [
         "18",
         "Male",
         "Single",
         "Master's",
         "Approved"
        ],
        [
         "19",
         "Female",
         "Married",
         "Doctoral",
         "Approved"
        ],
        [
         "20",
         "Male",
         "Married",
         "Bachelor's",
         "Approved"
        ],
        [
         "21",
         "Female",
         "Single",
         "High School",
         "Denied"
        ],
        [
         "22",
         "Male",
         "Married",
         "Master's",
         "Approved"
        ],
        [
         "23",
         "Female",
         "Single",
         "Bachelor's",
         "Denied"
        ],
        [
         "24",
         "Male",
         "Married",
         "Associate's",
         "Approved"
        ],
        [
         "25",
         "Female",
         "Single",
         "Doctoral",
         "Approved"
        ],
        [
         "26",
         "Male",
         "Married",
         "Bachelor's",
         "Approved"
        ],
        [
         "27",
         "Female",
         "Married",
         "Master's",
         "Approved"
        ],
        [
         "28",
         "Male",
         "Single",
         "High School",
         "Approved"
        ],
        [
         "29",
         "Female",
         "Married",
         "Bachelor's",
         "Approved"
        ],
        [
         "30",
         "Male",
         "Single",
         "Associate's",
         "Denied"
        ],
        [
         "31",
         "Female",
         "Married",
         "Master's",
         "Approved"
        ],
        [
         "32",
         "Male",
         "Married",
         "Bachelor's",
         "Approved"
        ],
        [
         "33",
         "Female",
         "Married",
         "Doctoral",
         "Approved"
        ],
        [
         "34",
         "Male",
         "Single",
         "Bachelor's",
         "Denied"
        ],
        [
         "35",
         "Female",
         "Married",
         "Doctoral",
         "Approved"
        ],
        [
         "36",
         "Male",
         "Married",
         "Master's",
         "Approved"
        ],
        [
         "37",
         "Female",
         "Single",
         "High School",
         "Denied"
        ],
        [
         "38",
         "Male",
         "Married",
         "Bachelor's",
         "Approved"
        ],
        [
         "39",
         "Female",
         "Single",
         "Associate's",
         "Denied"
        ],
        [
         "40",
         "Male",
         "Married",
         "Bachelor's",
         "Approved"
        ],
        [
         "41",
         "Female",
         "Single",
         "Master's",
         "Approved"
        ],
        [
         "42",
         "Male",
         "Married",
         "Bachelor's",
         "Approved"
        ],
        [
         "43",
         "Female",
         "Single",
         "Associate's",
         "Denied"
        ],
        [
         "44",
         "Male",
         "Married",
         "Doctoral",
         "Approved"
        ],
        [
         "45",
         "Female",
         "Married",
         "Master's",
         "Approved"
        ],
        [
         "46",
         "Male",
         "Single",
         "Bachelor's",
         "Approved"
        ],
        [
         "47",
         "Female",
         "Married",
         "Doctoral",
         "Approved"
        ],
        [
         "48",
         "Male",
         "Married",
         "Bachelor's",
         "Approved"
        ],
        [
         "49",
         "Female",
         "Single",
         "Bachelor's",
         "Denied"
        ]
       ],
       "shape": {
        "columns": 4,
        "rows": 61
       }
      },
      "text/html": [
       "<div>\n",
       "<style scoped>\n",
       "    .dataframe tbody tr th:only-of-type {\n",
       "        vertical-align: middle;\n",
       "    }\n",
       "\n",
       "    .dataframe tbody tr th {\n",
       "        vertical-align: top;\n",
       "    }\n",
       "\n",
       "    .dataframe thead th {\n",
       "        text-align: right;\n",
       "    }\n",
       "</style>\n",
       "<table border=\"1\" class=\"dataframe\">\n",
       "  <thead>\n",
       "    <tr style=\"text-align: right;\">\n",
       "      <th></th>\n",
       "      <th>gender</th>\n",
       "      <th>marital_status</th>\n",
       "      <th>education_level</th>\n",
       "      <th>loan_status</th>\n",
       "    </tr>\n",
       "  </thead>\n",
       "  <tbody>\n",
       "    <tr>\n",
       "      <th>0</th>\n",
       "      <td>Male</td>\n",
       "      <td>Married</td>\n",
       "      <td>Bachelor's</td>\n",
       "      <td>Approved</td>\n",
       "    </tr>\n",
       "    <tr>\n",
       "      <th>1</th>\n",
       "      <td>Female</td>\n",
       "      <td>Single</td>\n",
       "      <td>Master's</td>\n",
       "      <td>Approved</td>\n",
       "    </tr>\n",
       "    <tr>\n",
       "      <th>2</th>\n",
       "      <td>Male</td>\n",
       "      <td>Single</td>\n",
       "      <td>High School</td>\n",
       "      <td>Denied</td>\n",
       "    </tr>\n",
       "    <tr>\n",
       "      <th>3</th>\n",
       "      <td>Female</td>\n",
       "      <td>Married</td>\n",
       "      <td>Bachelor's</td>\n",
       "      <td>Approved</td>\n",
       "    </tr>\n",
       "    <tr>\n",
       "      <th>4</th>\n",
       "      <td>Male</td>\n",
       "      <td>Married</td>\n",
       "      <td>Bachelor's</td>\n",
       "      <td>Approved</td>\n",
       "    </tr>\n",
       "    <tr>\n",
       "      <th>...</th>\n",
       "      <td>...</td>\n",
       "      <td>...</td>\n",
       "      <td>...</td>\n",
       "      <td>...</td>\n",
       "    </tr>\n",
       "    <tr>\n",
       "      <th>56</th>\n",
       "      <td>Male</td>\n",
       "      <td>Married</td>\n",
       "      <td>Master's</td>\n",
       "      <td>Approved</td>\n",
       "    </tr>\n",
       "    <tr>\n",
       "      <th>57</th>\n",
       "      <td>Female</td>\n",
       "      <td>Single</td>\n",
       "      <td>High School</td>\n",
       "      <td>Denied</td>\n",
       "    </tr>\n",
       "    <tr>\n",
       "      <th>58</th>\n",
       "      <td>Male</td>\n",
       "      <td>Married</td>\n",
       "      <td>Bachelor's</td>\n",
       "      <td>Approved</td>\n",
       "    </tr>\n",
       "    <tr>\n",
       "      <th>59</th>\n",
       "      <td>Female</td>\n",
       "      <td>Single</td>\n",
       "      <td>Master's</td>\n",
       "      <td>Approved</td>\n",
       "    </tr>\n",
       "    <tr>\n",
       "      <th>60</th>\n",
       "      <td>Male</td>\n",
       "      <td>Married</td>\n",
       "      <td>Associate's</td>\n",
       "      <td>Approved</td>\n",
       "    </tr>\n",
       "  </tbody>\n",
       "</table>\n",
       "<p>61 rows × 4 columns</p>\n",
       "</div>"
      ],
      "text/plain": [
       "    gender marital_status education_level loan_status\n",
       "0     Male        Married      Bachelor's    Approved\n",
       "1   Female         Single        Master's    Approved\n",
       "2     Male         Single     High School      Denied\n",
       "3   Female        Married      Bachelor's    Approved\n",
       "4     Male        Married      Bachelor's    Approved\n",
       "..     ...            ...             ...         ...\n",
       "56    Male        Married        Master's    Approved\n",
       "57  Female         Single     High School      Denied\n",
       "58    Male        Married      Bachelor's    Approved\n",
       "59  Female         Single        Master's    Approved\n",
       "60    Male        Married     Associate's    Approved\n",
       "\n",
       "[61 rows x 4 columns]"
      ]
     },
     "execution_count": 42,
     "metadata": {},
     "output_type": "execute_result"
    }
   ],
   "source": [
    "# data source https://www.kaggle.com/datasets/sujithmandala/simple-loan-classification-dataset/data\n",
    "df = pd.read_csv('./dataset/loan.csv')\n",
    "\n",
    "\n",
    "# To keep things simple in this tutorial,\n",
    "# We will reduce the number of features to 2 categorical and 2 numerical, and reduce rows to 10 rows\n",
    "df = df[['gender', 'marital_status','education_level', 'loan_status']]\n",
    "df_test = df.tail(30).reset_index(drop=True)\n",
    "\n",
    "# preventing clear splits for age\n",
    "#df.loc[8,'age']=27\n",
    "#df.loc[9,'age']=27\n",
    "\n",
    "df"
   ]
  },
  {
   "cell_type": "markdown",
   "metadata": {},
   "source": [
    "# 1. Introduction\n",
    "\n",
    "Decision Trees are one of the most intuitive and versatile tools in the field of machine learning. They are used for both classification and regression tasks, making them a fundamental technique that every data scientist should understand.\n",
    "\n",
    "### What is a Decision Tree?\n",
    "A Decision Tree is a flowchart-like structure in which each internal node represents a decision based on the value of a feature, each branch represents the outcome of the decision, and each leaf node represents a class label (in classification tasks) or a continuous value (in regression tasks). The paths from the root to the leaf represent classification rules or regression models.\n",
    "\n",
    "### Why Use Decision Trees?\n",
    "Decision Trees are popular due to their simplicity and interpretability. Unlike other complex models, Decision Trees mimic human decision-making processes, making it easy to understand and explain the results. They require minimal data preprocessing, can handle both numerical and categorical data, and are capable of capturing non-linear relationships between features and the target variable.\n",
    "\n",
    "### Task 🎖️\n",
    "\n",
    "Build a Classification Decision Tree to determine if a loan will be approved or not based on features such as age, gender, occupation, education level, marital status, income, and credit score."
   ]
  },
  {
   "attachments": {
    "79f69e7b-89ee-497d-80b9-b124d4169004.png": {
     "image/png": "[encoded data removed]"
    }
   },
   "cell_type": "markdown",
   "metadata": {},
   "source": [
    "# 2. Basic Concepts\n",
    "\n",
    "![dt.png](attachment:79f69e7b-89ee-497d-80b9-b124d4169004.png)\n",
    "<br>*Source: Wikimedia Commons*\n",
    "\n",
    "* <b>Root Node</b>: Define the starting point of the tree.\n",
    "* <b>Leaf Nodes</b>: Explain the endpoints or outcomes of the tree.\n",
    "* <b>Decision Nodes</b>: Describe nodes where a decision or split is made.\n",
    "* <b>Branches</b>: Clarify the connections between nodes, representing outcomes of decisions."
   ]
  },
  {
   "cell_type": "markdown",
   "metadata": {},
   "source": [
    "# 3. Types of Decision Trees\n",
    "\n",
    "* Classification Trees (CART): Used for categorical target variables.\n",
    "* Regression Trees: Used for continuous target variables.\n",
    "\n",
    "Since our target label `loan_status` is categorical (predicting \"Approved\" / \"Denied\"), we will use a Classification Tree."
   ]
  },
  {
   "cell_type": "markdown",
   "metadata": {},
   "source": [
    "# 4. How Decision Trees Work\n",
    "Decision trees are usually constructed in a top-down, recursive manner, starting from the root node. At each node, the algorithm selects the feature that best splits the data based on a chosen splitting criterion. At each step, it selects the best split locally, without considering future steps, resulting in a series of greedy decisions. The process continues until a stopping criterion is met.  "
   ]
  },
  {
   "cell_type": "code",
   "execution_count": 20,
   "metadata": {
    "execution": {
     "iopub.execute_input": "2024-05-28T11:40:27.555491Z",
     "iopub.status.busy": "2024-05-28T11:40:27.554773Z",
     "iopub.status.idle": "2024-05-28T11:40:27.568684Z",
     "shell.execute_reply": "2024-05-28T11:40:27.567809Z",
     "shell.execute_reply.started": "2024-05-28T11:40:27.555453Z"
    },
    "trusted": true
   },
   "outputs": [
    {
     "data": {
      "application/vnd.microsoft.datawrangler.viewer.v0+json": {
       "columns": [
        {
         "name": "index",
         "rawType": "int64",
         "type": "integer"
        },
        {
         "name": "gender",
         "rawType": "object",
         "type": "string"
        },
        {
         "name": "occupation",
         "rawType": "object",
         "type": "string"
        },
        {
         "name": "marital_status",
         "rawType": "object",
         "type": "string"
        },
        {
         "name": "education_level",
         "rawType": "object",
         "type": "string"
        },
        {
         "name": "loan_status",
         "rawType": "object",
         "type": "string"
        }
       ],
       "conversionMethod": "pd.DataFrame",
       "ref": "1c178ebc-2a10-479b-9285-93a451776787",
       "rows": [
        [
         "0",
         "Male",
         "Engineer",
         "Married",
         "Bachelor's",
         "Approved"
        ],
        [
         "1",
         "Female",
         "Teacher",
         "Single",
         "Master's",
         "Approved"
        ],
        [
         "2",
         "Male",
         "Student",
         "Single",
         "High School",
         "Denied"
        ],
        [
         "3",
         "Female",
         "Manager",
         "Married",
         "Bachelor's",
         "Approved"
        ],
        [
         "4",
         "Male",
         "Accountant",
         "Married",
         "Bachelor's",
         "Approved"
        ],
        [
         "5",
         "Female",
         "Nurse",
         "Single",
         "Associate's",
         "Denied"
        ],
        [
         "6",
         "Male",
         "Lawyer",
         "Married",
         "Doctoral",
         "Approved"
        ],
        [
         "7",
         "Female",
         "Artist",
         "Single",
         "Bachelor's",
         "Denied"
        ],
        [
         "8",
         "Male",
         "IT",
         "Married",
         "Master's",
         "Approved"
        ],
        [
         "9",
         "Female",
         "Doctor",
         "Married",
         "Doctoral",
         "Approved"
        ],
        [
         "10",
         "Male",
         "Consultant",
         "Married",
         "Master's",
         "Approved"
        ],
        [
         "11",
         "Female",
         "Analyst",
         "Single",
         "Bachelor's",
         "Approved"
        ],
        [
         "12",
         "Male",
         "Salesman",
         "Single",
         "High School",
         "Denied"
        ],
        [
         "13",
         "Female",
         "Marketing",
         "Married",
         "Bachelor's",
         "Approved"
        ],
        [
         "14",
         "Male",
         "Architect",
         "Married",
         "Master's",
         "Approved"
        ],
        [
         "15",
         "Female",
         "Designer",
         "Single",
         "Bachelor's",
         "Denied"
        ],
        [
         "16",
         "Male",
         "Engineer",
         "Married",
         "Bachelor's",
         "Approved"
        ],
        [
         "17",
         "Female",
         "Pharmacist",
         "Married",
         "Doctoral",
         "Approved"
        ],
        [
         "18",
         "Male",
         "Researcher",
         "Single",
         "Master's",
         "Approved"
        ],
        [
         "19",
         "Female",
         "Professor",
         "Married",
         "Doctoral",
         "Approved"
        ],
        [
         "20",
         "Male",
         "Pilot",
         "Married",
         "Bachelor's",
         "Approved"
        ],
        [
         "21",
         "Female",
         "Receptionist",
         "Single",
         "High School",
         "Denied"
        ],
        [
         "22",
         "Male",
         "Banker",
         "Married",
         "Master's",
         "Approved"
        ],
        [
         "23",
         "Female",
         "Writer",
         "Single",
         "Bachelor's",
         "Denied"
        ],
        [
         "24",
         "Male",
         "Chef",
         "Married",
         "Associate's",
         "Approved"
        ],
        [
         "25",
         "Female",
         "Veterinarian",
         "Single",
         "Doctoral",
         "Approved"
        ],
        [
         "26",
         "Male",
         "Sales",
         "Married",
         "Bachelor's",
         "Approved"
        ],
        [
         "27",
         "Female",
         "HR",
         "Married",
         "Master's",
         "Approved"
        ],
        [
         "28",
         "Male",
         "Electrician",
         "Single",
         "High School",
         "Approved"
        ],
        [
         "29",
         "Female",
         "Realtor",
         "Married",
         "Bachelor's",
         "Approved"
        ],
        [
         "30",
         "Male",
         "Photographer",
         "Single",
         "Associate's",
         "Denied"
        ],
        [
         "31",
         "Female",
         "Editor",
         "Married",
         "Master's",
         "Approved"
        ],
        [
         "32",
         "Male",
         "Programmer",
         "Married",
         "Bachelor's",
         "Approved"
        ],
        [
         "33",
         "Female",
         "Dentist",
         "Married",
         "Doctoral",
         "Approved"
        ],
        [
         "34",
         "Male",
         "Musician",
         "Single",
         "Bachelor's",
         "Denied"
        ],
        [
         "35",
         "Female",
         "Psychologist",
         "Married",
         "Doctoral",
         "Approved"
        ],
        [
         "36",
         "Male",
         "Engineer",
         "Married",
         "Master's",
         "Approved"
        ],
        [
         "37",
         "Female",
         "Server",
         "Single",
         "High School",
         "Denied"
        ],
        [
         "38",
         "Male",
         "Software",
         "Married",
         "Bachelor's",
         "Approved"
        ],
        [
         "39",
         "Female",
         "Stylist",
         "Single",
         "Associate's",
         "Denied"
        ],
        [
         "40",
         "Male",
         "Accountant",
         "Married",
         "Bachelor's",
         "Approved"
        ],
        [
         "41",
         "Female",
         "Teacher",
         "Single",
         "Master's",
         "Approved"
        ],
        [
         "42",
         "Male",
         "Manager",
         "Married",
         "Bachelor's",
         "Approved"
        ],
        [
         "43",
         "Female",
         "Nurse",
         "Single",
         "Associate's",
         "Denied"
        ],
        [
         "44",
         "Male",
         "Lawyer",
         "Married",
         "Doctoral",
         "Approved"
        ],
        [
         "45",
         "Female",
         "Engineer",
         "Married",
         "Master's",
         "Approved"
        ],
        [
         "46",
         "Male",
         "Analyst",
         "Single",
         "Bachelor's",
         "Approved"
        ],
        [
         "47",
         "Female",
         "Doctor",
         "Married",
         "Doctoral",
         "Approved"
        ],
        [
         "48",
         "Male",
         "IT",
         "Married",
         "Bachelor's",
         "Approved"
        ],
        [
         "49",
         "Female",
         "Artist",
         "Single",
         "Bachelor's",
         "Denied"
        ]
       ],
       "shape": {
        "columns": 5,
        "rows": 61
       }
      },
      "text/html": [
       "<div>\n",
       "<style scoped>\n",
       "    .dataframe tbody tr th:only-of-type {\n",
       "        vertical-align: middle;\n",
       "    }\n",
       "\n",
       "    .dataframe tbody tr th {\n",
       "        vertical-align: top;\n",
       "    }\n",
       "\n",
       "    .dataframe thead th {\n",
       "        text-align: right;\n",
       "    }\n",
       "</style>\n",
       "<table border=\"1\" class=\"dataframe\">\n",
       "  <thead>\n",
       "    <tr style=\"text-align: right;\">\n",
       "      <th></th>\n",
       "      <th>gender</th>\n",
       "      <th>occupation</th>\n",
       "      <th>marital_status</th>\n",
       "      <th>education_level</th>\n",
       "      <th>loan_status</th>\n",
       "    </tr>\n",
       "  </thead>\n",
       "  <tbody>\n",
       "    <tr>\n",
       "      <th>0</th>\n",
       "      <td>Male</td>\n",
       "      <td>Engineer</td>\n",
       "      <td>Married</td>\n",
       "      <td>Bachelor's</td>\n",
       "      <td>Approved</td>\n",
       "    </tr>\n",
       "    <tr>\n",
       "      <th>1</th>\n",
       "      <td>Female</td>\n",
       "      <td>Teacher</td>\n",
       "      <td>Single</td>\n",
       "      <td>Master's</td>\n",
       "      <td>Approved</td>\n",
       "    </tr>\n",
       "    <tr>\n",
       "      <th>2</th>\n",
       "      <td>Male</td>\n",
       "      <td>Student</td>\n",
       "      <td>Single</td>\n",
       "      <td>High School</td>\n",
       "      <td>Denied</td>\n",
       "    </tr>\n",
       "    <tr>\n",
       "      <th>3</th>\n",
       "      <td>Female</td>\n",
       "      <td>Manager</td>\n",
       "      <td>Married</td>\n",
       "      <td>Bachelor's</td>\n",
       "      <td>Approved</td>\n",
       "    </tr>\n",
       "    <tr>\n",
       "      <th>4</th>\n",
       "      <td>Male</td>\n",
       "      <td>Accountant</td>\n",
       "      <td>Married</td>\n",
       "      <td>Bachelor's</td>\n",
       "      <td>Approved</td>\n",
       "    </tr>\n",
       "    <tr>\n",
       "      <th>...</th>\n",
       "      <td>...</td>\n",
       "      <td>...</td>\n",
       "      <td>...</td>\n",
       "      <td>...</td>\n",
       "      <td>...</td>\n",
       "    </tr>\n",
       "    <tr>\n",
       "      <th>56</th>\n",
       "      <td>Male</td>\n",
       "      <td>Architect</td>\n",
       "      <td>Married</td>\n",
       "      <td>Master's</td>\n",
       "      <td>Approved</td>\n",
       "    </tr>\n",
       "    <tr>\n",
       "      <th>57</th>\n",
       "      <td>Female</td>\n",
       "      <td>Receptionist</td>\n",
       "      <td>Single</td>\n",
       "      <td>High School</td>\n",
       "      <td>Denied</td>\n",
       "    </tr>\n",
       "    <tr>\n",
       "      <th>58</th>\n",
       "      <td>Male</td>\n",
       "      <td>Banker</td>\n",
       "      <td>Married</td>\n",
       "      <td>Bachelor's</td>\n",
       "      <td>Approved</td>\n",
       "    </tr>\n",
       "    <tr>\n",
       "      <th>59</th>\n",
       "      <td>Female</td>\n",
       "      <td>Writer</td>\n",
       "      <td>Single</td>\n",
       "      <td>Master's</td>\n",
       "      <td>Approved</td>\n",
       "    </tr>\n",
       "    <tr>\n",
       "      <th>60</th>\n",
       "      <td>Male</td>\n",
       "      <td>Chef</td>\n",
       "      <td>Married</td>\n",
       "      <td>Associate's</td>\n",
       "      <td>Approved</td>\n",
       "    </tr>\n",
       "  </tbody>\n",
       "</table>\n",
       "<p>61 rows × 5 columns</p>\n",
       "</div>"
      ],
      "text/plain": [
       "    gender    occupation marital_status education_level loan_status\n",
       "0     Male      Engineer        Married      Bachelor's    Approved\n",
       "1   Female       Teacher         Single        Master's    Approved\n",
       "2     Male       Student         Single     High School      Denied\n",
       "3   Female       Manager        Married      Bachelor's    Approved\n",
       "4     Male    Accountant        Married      Bachelor's    Approved\n",
       "..     ...           ...            ...             ...         ...\n",
       "56    Male     Architect        Married        Master's    Approved\n",
       "57  Female  Receptionist         Single     High School      Denied\n",
       "58    Male        Banker        Married      Bachelor's    Approved\n",
       "59  Female        Writer         Single        Master's    Approved\n",
       "60    Male          Chef        Married     Associate's    Approved\n",
       "\n",
       "[61 rows x 5 columns]"
      ]
     },
     "execution_count": 20,
     "metadata": {},
     "output_type": "execute_result"
    }
   ],
   "source": [
    "df"
   ]
  },
  {
   "cell_type": "markdown",
   "metadata": {},
   "source": [
    "# 5. Tree Construction"
   ]
  },
  {
   "cell_type": "markdown",
   "metadata": {},
   "source": [
    "In our df, it can be seen that there is a clear threshold (split) using `credit_score` and `age` for loan decision. Credit scores below 650 are denied and credit scores above 650 are approved.\n",
    "\n",
    "Let's break down how a decision tree would operate in this scenario.\n",
    "\n",
    "    1. Root Node: The root node of the decision tree would consider the `credit_score` feature.\n",
    "\n",
    "    2. Splitting Criterion: The decision tree algorithm would evaluate different splitting criteria (explained below) to determine the optimal threshold for dividing the dataset. However, since there's a clear split at 650 (low entropy), the decision tree would choose this threshold.\n",
    "\n",
    "    3. Child Nodes: The tree would then have two child nodes: one for credit scores below 650 and another for scores above 650.\n",
    "\n",
    "    4. Leaf Nodes: These child nodes would represent the final decision outcomes. For scores below 650, the leaf node would indicate denial, while for scores above 650, the leaf node would indicate approval.\n",
    "\n",
    "    5. No Further Splitting: Since credit score is the only relevant feature and there's a clear threshold, the decision tree would not require further splitting or evaluation of additional features.\n",
    "    \n",
    "Therefore, while we can refer to credit_score to guide our loan approval decisions, for learning purposes, we will exclude `credit_score` to build our Decision Tree\n",
    "\n",
    "Although the `credit_score` serves as a decisive factor in loan approval, for educational purposes, we'll construct a decision tree without considering it. \n",
    "\n",
    "By excluding the credit_score feature, the decision tree would rely on other factors such as `gender`, `age`, and `education_level` to make loan approval decisions. This approach allows us to understand how different features contribute to decision-making and provides insight into alternative decision pathways beyond `credit_score`."
   ]
  },
  {
   "cell_type": "code",
   "execution_count": 43,
   "metadata": {
    "execution": {
     "iopub.execute_input": "2024-05-28T11:40:27.995811Z",
     "iopub.status.busy": "2024-05-28T11:40:27.995402Z",
     "iopub.status.idle": "2024-05-28T11:40:28.009347Z",
     "shell.execute_reply": "2024-05-28T11:40:28.008188Z",
     "shell.execute_reply.started": "2024-05-28T11:40:27.995779Z"
    },
    "trusted": true
   },
   "outputs": [
    {
     "data": {
      "application/vnd.microsoft.datawrangler.viewer.v0+json": {
       "columns": [
        {
         "name": "index",
         "rawType": "int64",
         "type": "integer"
        },
        {
         "name": "gender",
         "rawType": "object",
         "type": "string"
        },
        {
         "name": "marital_status",
         "rawType": "object",
         "type": "string"
        },
        {
         "name": "education_level",
         "rawType": "object",
         "type": "string"
        },
        {
         "name": "loan_status",
         "rawType": "object",
         "type": "string"
        }
       ],
       "conversionMethod": "pd.DataFrame",
       "ref": "9a09fa10-4ea6-4c58-a5e0-4c106a7102da",
       "rows": [
        [
         "0",
         "Male",
         "Married",
         "Bachelor's",
         "Approved"
        ],
        [
         "1",
         "Female",
         "Single",
         "Master's",
         "Approved"
        ],
        [
         "2",
         "Male",
         "Single",
         "High School",
         "Denied"
        ],
        [
         "3",
         "Female",
         "Married",
         "Bachelor's",
         "Approved"
        ],
        [
         "4",
         "Male",
         "Married",
         "Bachelor's",
         "Approved"
        ],
        [
         "5",
         "Female",
         "Single",
         "Associate's",
         "Denied"
        ],
        [
         "6",
         "Male",
         "Married",
         "Doctoral",
         "Approved"
        ],
        [
         "7",
         "Female",
         "Single",
         "Bachelor's",
         "Denied"
        ],
        [
         "8",
         "Male",
         "Married",
         "Master's",
         "Approved"
        ],
        [
         "9",
         "Female",
         "Married",
         "Doctoral",
         "Approved"
        ],
        [
         "10",
         "Male",
         "Married",
         "Master's",
         "Approved"
        ],
        [
         "11",
         "Female",
         "Single",
         "Bachelor's",
         "Approved"
        ],
        [
         "12",
         "Male",
         "Single",
         "High School",
         "Denied"
        ],
        [
         "13",
         "Female",
         "Married",
         "Bachelor's",
         "Approved"
        ],
        [
         "14",
         "Male",
         "Married",
         "Master's",
         "Approved"
        ],
        [
         "15",
         "Female",
         "Single",
         "Bachelor's",
         "Denied"
        ],
        [
         "16",
         "Male",
         "Married",
         "Bachelor's",
         "Approved"
        ],
        [
         "17",
         "Female",
         "Married",
         "Doctoral",
         "Approved"
        ],
        [
         "18",
         "Male",
         "Single",
         "Master's",
         "Approved"
        ],
        [
         "19",
         "Female",
         "Married",
         "Doctoral",
         "Approved"
        ],
        [
         "20",
         "Male",
         "Married",
         "Bachelor's",
         "Approved"
        ],
        [
         "21",
         "Female",
         "Single",
         "High School",
         "Denied"
        ],
        [
         "22",
         "Male",
         "Married",
         "Master's",
         "Approved"
        ],
        [
         "23",
         "Female",
         "Single",
         "Bachelor's",
         "Denied"
        ],
        [
         "24",
         "Male",
         "Married",
         "Associate's",
         "Approved"
        ],
        [
         "25",
         "Female",
         "Single",
         "Doctoral",
         "Approved"
        ],
        [
         "26",
         "Male",
         "Married",
         "Bachelor's",
         "Approved"
        ],
        [
         "27",
         "Female",
         "Married",
         "Master's",
         "Approved"
        ],
        [
         "28",
         "Male",
         "Single",
         "High School",
         "Approved"
        ],
        [
         "29",
         "Female",
         "Married",
         "Bachelor's",
         "Approved"
        ],
        [
         "30",
         "Male",
         "Single",
         "Associate's",
         "Denied"
        ],
        [
         "31",
         "Female",
         "Married",
         "Master's",
         "Approved"
        ],
        [
         "32",
         "Male",
         "Married",
         "Bachelor's",
         "Approved"
        ],
        [
         "33",
         "Female",
         "Married",
         "Doctoral",
         "Approved"
        ],
        [
         "34",
         "Male",
         "Single",
         "Bachelor's",
         "Denied"
        ],
        [
         "35",
         "Female",
         "Married",
         "Doctoral",
         "Approved"
        ],
        [
         "36",
         "Male",
         "Married",
         "Master's",
         "Approved"
        ],
        [
         "37",
         "Female",
         "Single",
         "High School",
         "Denied"
        ],
        [
         "38",
         "Male",
         "Married",
         "Bachelor's",
         "Approved"
        ],
        [
         "39",
         "Female",
         "Single",
         "Associate's",
         "Denied"
        ],
        [
         "40",
         "Male",
         "Married",
         "Bachelor's",
         "Approved"
        ],
        [
         "41",
         "Female",
         "Single",
         "Master's",
         "Approved"
        ],
        [
         "42",
         "Male",
         "Married",
         "Bachelor's",
         "Approved"
        ],
        [
         "43",
         "Female",
         "Single",
         "Associate's",
         "Denied"
        ],
        [
         "44",
         "Male",
         "Married",
         "Doctoral",
         "Approved"
        ],
        [
         "45",
         "Female",
         "Married",
         "Master's",
         "Approved"
        ],
        [
         "46",
         "Male",
         "Single",
         "Bachelor's",
         "Approved"
        ],
        [
         "47",
         "Female",
         "Married",
         "Doctoral",
         "Approved"
        ],
        [
         "48",
         "Male",
         "Married",
         "Bachelor's",
         "Approved"
        ],
        [
         "49",
         "Female",
         "Single",
         "Bachelor's",
         "Denied"
        ]
       ],
       "shape": {
        "columns": 4,
        "rows": 61
       }
      },
      "text/html": [
       "<div>\n",
       "<style scoped>\n",
       "    .dataframe tbody tr th:only-of-type {\n",
       "        vertical-align: middle;\n",
       "    }\n",
       "\n",
       "    .dataframe tbody tr th {\n",
       "        vertical-align: top;\n",
       "    }\n",
       "\n",
       "    .dataframe thead th {\n",
       "        text-align: right;\n",
       "    }\n",
       "</style>\n",
       "<table border=\"1\" class=\"dataframe\">\n",
       "  <thead>\n",
       "    <tr style=\"text-align: right;\">\n",
       "      <th></th>\n",
       "      <th>gender</th>\n",
       "      <th>marital_status</th>\n",
       "      <th>education_level</th>\n",
       "      <th>loan_status</th>\n",
       "    </tr>\n",
       "  </thead>\n",
       "  <tbody>\n",
       "    <tr>\n",
       "      <th>0</th>\n",
       "      <td>Male</td>\n",
       "      <td>Married</td>\n",
       "      <td>Bachelor's</td>\n",
       "      <td>Approved</td>\n",
       "    </tr>\n",
       "    <tr>\n",
       "      <th>1</th>\n",
       "      <td>Female</td>\n",
       "      <td>Single</td>\n",
       "      <td>Master's</td>\n",
       "      <td>Approved</td>\n",
       "    </tr>\n",
       "    <tr>\n",
       "      <th>2</th>\n",
       "      <td>Male</td>\n",
       "      <td>Single</td>\n",
       "      <td>High School</td>\n",
       "      <td>Denied</td>\n",
       "    </tr>\n",
       "    <tr>\n",
       "      <th>3</th>\n",
       "      <td>Female</td>\n",
       "      <td>Married</td>\n",
       "      <td>Bachelor's</td>\n",
       "      <td>Approved</td>\n",
       "    </tr>\n",
       "    <tr>\n",
       "      <th>4</th>\n",
       "      <td>Male</td>\n",
       "      <td>Married</td>\n",
       "      <td>Bachelor's</td>\n",
       "      <td>Approved</td>\n",
       "    </tr>\n",
       "    <tr>\n",
       "      <th>...</th>\n",
       "      <td>...</td>\n",
       "      <td>...</td>\n",
       "      <td>...</td>\n",
       "      <td>...</td>\n",
       "    </tr>\n",
       "    <tr>\n",
       "      <th>56</th>\n",
       "      <td>Male</td>\n",
       "      <td>Married</td>\n",
       "      <td>Master's</td>\n",
       "      <td>Approved</td>\n",
       "    </tr>\n",
       "    <tr>\n",
       "      <th>57</th>\n",
       "      <td>Female</td>\n",
       "      <td>Single</td>\n",
       "      <td>High School</td>\n",
       "      <td>Denied</td>\n",
       "    </tr>\n",
       "    <tr>\n",
       "      <th>58</th>\n",
       "      <td>Male</td>\n",
       "      <td>Married</td>\n",
       "      <td>Bachelor's</td>\n",
       "      <td>Approved</td>\n",
       "    </tr>\n",
       "    <tr>\n",
       "      <th>59</th>\n",
       "      <td>Female</td>\n",
       "      <td>Single</td>\n",
       "      <td>Master's</td>\n",
       "      <td>Approved</td>\n",
       "    </tr>\n",
       "    <tr>\n",
       "      <th>60</th>\n",
       "      <td>Male</td>\n",
       "      <td>Married</td>\n",
       "      <td>Associate's</td>\n",
       "      <td>Approved</td>\n",
       "    </tr>\n",
       "  </tbody>\n",
       "</table>\n",
       "<p>61 rows × 4 columns</p>\n",
       "</div>"
      ],
      "text/plain": [
       "    gender marital_status education_level loan_status\n",
       "0     Male        Married      Bachelor's    Approved\n",
       "1   Female         Single        Master's    Approved\n",
       "2     Male         Single     High School      Denied\n",
       "3   Female        Married      Bachelor's    Approved\n",
       "4     Male        Married      Bachelor's    Approved\n",
       "..     ...            ...             ...         ...\n",
       "56    Male        Married        Master's    Approved\n",
       "57  Female         Single     High School      Denied\n",
       "58    Male        Married      Bachelor's    Approved\n",
       "59  Female         Single        Master's    Approved\n",
       "60    Male        Married     Associate's    Approved\n",
       "\n",
       "[61 rows x 4 columns]"
      ]
     },
     "execution_count": 43,
     "metadata": {},
     "output_type": "execute_result"
    }
   ],
   "source": [
    "df = df[['gender', 'marital_status','education_level', 'loan_status']]\n",
    "df"
   ]
  },
  {
   "cell_type": "markdown",
   "metadata": {},
   "source": [
    "Now, there is no single feature with a clear split. This is where Decision Trees could be valuable - by identifying complex decision boundaries by recursively splitting data based on multiple features until homogeneous subsets are achieved"
   ]
  },
  {
   "cell_type": "code",
   "execution_count": 44,
   "metadata": {
    "execution": {
     "iopub.execute_input": "2024-05-28T11:40:29.055672Z",
     "iopub.status.busy": "2024-05-28T11:40:29.05484Z",
     "iopub.status.idle": "2024-05-28T11:40:29.198282Z",
     "shell.execute_reply": "2024-05-28T11:40:29.197377Z",
     "shell.execute_reply.started": "2024-05-28T11:40:29.055632Z"
    },
    "trusted": true
   },
   "outputs": [],
   "source": [
    "# Preprocessing\n",
    "from sklearn.preprocessing import StandardScaler\n",
    "\n",
    "# one hot encoding\n",
    "df_encoded = pd.get_dummies(df, columns=['gender', 'marital_status','education_level'])\n",
    "\n",
    "# scaling - note this is optional for trees algo\n",
    "#scaler = StandardScaler()\n",
    "#scaled_features = scaler.fit_transform(df_encoded[['age']])\n",
    "#df_scaled = pd.DataFrame(scaled_features, columns=['scaled_age'])\n",
    "#df_final = pd.concat([df_encoded, df_scaled], axis=1).drop(columns=['age'])\n",
    "\n",
    "df_final = df_encoded"
   ]
  },
  {
   "cell_type": "code",
   "execution_count": 45,
   "metadata": {
    "execution": {
     "iopub.execute_input": "2024-05-28T11:55:10.813193Z",
     "iopub.status.busy": "2024-05-28T11:55:10.812765Z",
     "iopub.status.idle": "2024-05-28T11:55:10.827005Z",
     "shell.execute_reply": "2024-05-28T11:55:10.825461Z",
     "shell.execute_reply.started": "2024-05-28T11:55:10.81316Z"
    },
    "trusted": true
   },
   "outputs": [],
   "source": [
    "from sklearn.model_selection import train_test_split\n",
    "from sklearn.tree import DecisionTreeClassifier, plot_tree\n",
    "\n",
    "# split data into features and labels\n",
    "X = df_final.drop('loan_status', axis=1)\n",
    "y = df_final['loan_status']\n",
    "\n",
    "# split data into train and test sets\n",
    "X_train, X_test, y_train, y_test = train_test_split(X, y, test_size=.1, random_state=42)\n",
    "\n",
    "# create a Decision Tree Classifier model\n",
    "clf = DecisionTreeClassifier(criterion='gini')\n",
    "\n",
    "# train the model\n",
    "clf = clf.fit(X_train, y_train)"
   ]
  },
  {
   "cell_type": "code",
   "execution_count": 46,
   "metadata": {
    "execution": {
     "iopub.execute_input": "2024-05-28T11:55:11.636897Z",
     "iopub.status.busy": "2024-05-28T11:55:11.63636Z",
     "iopub.status.idle": "2024-05-28T11:55:12.038255Z",
     "shell.execute_reply": "2024-05-28T11:55:12.036873Z",
     "shell.execute_reply.started": "2024-05-28T11:55:11.636854Z"
    },
    "trusted": true
   },
   "outputs": [
    {
     "data": {
      "image/png": "[encoded data removed]",
      "text/plain": [
       "<Figure size 2000x1000 with 1 Axes>"
      ]
     },
     "metadata": {},
     "output_type": "display_data"
    }
   ],
   "source": [
    "def plot_decision_tree(model, feature_names, class_names):\n",
    "    tree = plot_tree(model, feature_names = feature_names, class_names = class_names,\n",
    "                     rounded = True, proportion = True, precision = 2, filled = True, fontsize=10)\n",
    "    \n",
    "    return tree\n",
    "\n",
    "plt.figure(figsize=(20,10))\n",
    "plot_decision_tree(clf, X.columns, clf.classes_)\n",
    "plt.show()"
   ]
  },
  {
   "cell_type": "markdown",
   "metadata": {},
   "source": [
    "### Interpreting the results\n",
    "\n",
    "In our tree, there are 2 layers, 2 splits, 1 root node, and 3 leaf nodes.\n",
    "\n",
    "The tree starts by looking at the person's age. If their age is below a certain point, it checks their education level. If they have a Doctoral degree, they're approved. Otherwise, they're denied. If their age is above that point, they're approved straight away.\n",
    "\n",
    "In our case, the decision tree analysis reveals a straightforward process with clear splits emerging after just two steps. (note: clear-cut splits are rare)"
   ]
  },
  {
   "cell_type": "markdown",
   "metadata": {},
   "source": [
    "# 6. Feature importances\n",
    "\n",
    "Which features are the most important in dividing the data?"
   ]
  },
  {
   "cell_type": "code",
   "execution_count": 47,
   "metadata": {
    "execution": {
     "iopub.execute_input": "2024-05-28T11:40:32.125677Z",
     "iopub.status.busy": "2024-05-28T11:40:32.125229Z",
     "iopub.status.idle": "2024-05-28T11:40:32.138357Z",
     "shell.execute_reply": "2024-05-28T11:40:32.137117Z",
     "shell.execute_reply.started": "2024-05-28T11:40:32.125622Z"
    },
    "trusted": true
   },
   "outputs": [
    {
     "name": "stdout",
     "output_type": "stream",
     "text": [
      "Feature Importance:\n",
      "gender_Female: 0.0\n",
      "gender_Male: 0.006079273729431793\n",
      "marital_status_Married: 0.6491043203371971\n",
      "marital_status_Single: 0.0\n",
      "education_level_Associate's: 0.006565615627786335\n",
      "education_level_Bachelor's: 0.006322444678609052\n",
      "education_level_Doctoral: 0.08200582656666461\n",
      "education_level_High School: 0.0\n",
      "education_level_Master's: 0.24992251906031115\n"
     ]
    }
   ],
   "source": [
    "feature_importance = clf.feature_importances_\n",
    "print(\"Feature Importance:\")\n",
    "for i, importance in enumerate(feature_importance):\n",
    "    print(f\"{X.columns[i]}: {importance}\")"
   ]
  },
  {
   "cell_type": "markdown",
   "metadata": {},
   "source": [
    "# 7. Splitting Criteria\n",
    "Splitting criteria help determine how the data should be divided at each node of the tree, ultimately leading to the creation of more homogeneous child nodes.\n",
    "\n",
    "#### a. Gini Index\n",
    "\n",
    "The Gini Index is a measure of impurity or uncertainty commonly used in classification tasks. It quantifies how often a randomly chosen element from the set would be incorrectly labeled if it were randomly labeled according to the distribution of labels in the subset. \n",
    "\n",
    "Gini_Index = 1 - (p_class1)^2 - (p_class2)^2 where:\n",
    "- p_class1 is the proportion of samples in class 1\n",
    "- p_class2 is the proportion of samples in class 2\n",
    "\n",
    "Let's **calculate Gini Index** for `gender` and `education_level`\n",
    "\n",
    "To calculate the Gini Index of the 'gender' feature on the 'loan_status', we'll follow these steps:\n",
    "* Identify unique values of 'gender': Male and Female.\n",
    "* For each unique value, calculate the proportion of 'Approved' and 'Denied' outcomes.\n",
    "* Use the formula for Gini Index to compute the impurity for each value.\n",
    "* Calculate the weighted average of the impurities to obtain the Gini Index for 'gender'."
   ]
  },
  {
   "cell_type": "code",
   "execution_count": 48,
   "metadata": {
    "execution": {
     "iopub.execute_input": "2024-05-28T12:24:05.012438Z",
     "iopub.status.busy": "2024-05-28T12:24:05.011468Z",
     "iopub.status.idle": "2024-05-28T12:24:05.019632Z",
     "shell.execute_reply": "2024-05-28T12:24:05.018547Z",
     "shell.execute_reply.started": "2024-05-28T12:24:05.0124Z"
    },
    "trusted": true
   },
   "outputs": [
    {
     "name": "stdout",
     "output_type": "stream",
     "text": [
      "0.5081967213114754\n",
      "0.4918032786885246\n"
     ]
    }
   ],
   "source": [
    "feature = 'gender'\n",
    "\n",
    "for value in df[feature].unique():\n",
    "    subset = df[df[feature] == value]\n",
    "    proportion = len(subset) / len(df)\n",
    "    print(proportion)"
   ]
  },
  {
   "cell_type": "code",
   "execution_count": 49,
   "metadata": {
    "execution": {
     "iopub.execute_input": "2024-05-28T12:24:53.296696Z",
     "iopub.status.busy": "2024-05-28T12:24:53.296239Z",
     "iopub.status.idle": "2024-05-28T12:24:53.314931Z",
     "shell.execute_reply": "2024-05-28T12:24:53.313665Z",
     "shell.execute_reply.started": "2024-05-28T12:24:53.296663Z"
    },
    "trusted": true
   },
   "outputs": [
    {
     "name": "stdout",
     "output_type": "stream",
     "text": [
      "Gini Index for gender: 0.36590869028732587\n",
      "Gini Index for education_level: 0.21722159997284735\n"
     ]
    }
   ],
   "source": [
    "def calculate_gini_index(df, feature, target):\n",
    "    gini_index = 0\n",
    "    for value in df[feature].unique():\n",
    "        subset = df[df[feature] == value]\n",
    "        proportion = len(subset) / len(df)\n",
    "        \n",
    "        # calculate proportion of outcomes for the current value\n",
    "        outcomes_count = subset[target].value_counts()\n",
    "        p_approved = outcomes_count.get('Approved', 0) / len(subset)\n",
    "        p_denied = outcomes_count.get('Denied', 0) / len(subset)\n",
    "        \n",
    "        # calculate Gini impurity\n",
    "        gini = 1 - (p_approved ** 2) - (p_denied ** 2)\n",
    "        \n",
    "        # update Gini Index\n",
    "        gini_index += proportion * gini\n",
    "    return gini_index\n",
    "\n",
    "gini_gender = calculate_gini_index(df, 'gender', 'loan_status')\n",
    "gini_education = calculate_gini_index(df, 'education_level', 'loan_status')\n",
    "\n",
    "print(\"Gini Index for gender:\", gini_gender)\n",
    "print(\"Gini Index for education_level:\", gini_education)"
   ]
  },
  {
   "cell_type": "markdown",
   "metadata": {},
   "source": [
    "A Gini Index of 0.4 for `gender` suggests moderate impurity, while 0.15 for `education_level` indicates low impurity. This implies that `gender` provides better discriminatory power for splitting the dataset into more distinct groups compared to `education_level`, making it a more effective splitting criterion for the decision tree."
   ]
  },
  {
   "attachments": {
    "80d46e40-b890-42e9-a407-4a326b4c9526.png": {
     "image/png": "[encoded data removed]"
    }
   },
   "cell_type": "markdown",
   "metadata": {},
   "source": [
    "#### b. Entropy or Information Gain\n",
    "\n",
    "Entropy is another method that measures the uncertainty or impurity of a node in a decision tree. Higher entropy values indicate greater uncertainty, while lower values suggest more homogeneous subsets.\n",
    "\n",
    "![image.png](attachment:80d46e40-b890-42e9-a407-4a326b4c9526.png) where:\n",
    "\n",
    "- p_i is the proportion of samples belonging to class i in the dataset\n",
    "- n is the number of classes or categories in the dataset\n",
    "\n",
    "Let's calculate Entropy for `gender` and `education_level`"
   ]
  },
  {
   "cell_type": "code",
   "execution_count": 50,
   "metadata": {
    "execution": {
     "iopub.execute_input": "2024-05-28T12:26:42.472302Z",
     "iopub.status.busy": "2024-05-28T12:26:42.471906Z",
     "iopub.status.idle": "2024-05-28T12:26:42.489746Z",
     "shell.execute_reply": "2024-05-28T12:26:42.488635Z",
     "shell.execute_reply.started": "2024-05-28T12:26:42.472271Z"
    },
    "trusted": true
   },
   "outputs": [
    {
     "name": "stdout",
     "output_type": "stream",
     "text": [
      "Entropy\n",
      "Gender: 1.5854657428160965\n",
      "Education: 2.338024338016321\n"
     ]
    }
   ],
   "source": [
    "import math\n",
    "\n",
    "def calculate_entropy(df, feature, target):\n",
    "    entropy = 0\n",
    "    for value in df[feature].unique():\n",
    "        subset = df[df[feature] == value]\n",
    "        proportion = len(subset) / len(df)\n",
    "        for outcome in subset[target].unique():\n",
    "            p = len(subset[subset[target] == outcome]) / len(subset)\n",
    "            if p != 0:\n",
    "                entropy -= p * math.log2(p)\n",
    "    return entropy\n",
    "\n",
    "entropy_gender = calculate_entropy(df, 'gender', 'loan_status')\n",
    "entropy_education_level = calculate_entropy(df, 'education_level', 'loan_status')\n",
    "\n",
    "print('Entropy')\n",
    "print(\"Gender:\", entropy_gender)\n",
    "print(\"Education:\", entropy_education_level)"
   ]
  },
  {
   "cell_type": "markdown",
   "metadata": {},
   "source": [
    "Based on the entropy values:\n",
    "\n",
    "The `education` feature split has a lower entropy (0.8), indicating better discriminatory power and resulting in more homogeneous subsets compared to the `gender` feature split (1.69).\n",
    "\n",
    "Therefore, if we aim to maximize the purity and homogeneity of the resulting subsets, the `education_level` feature would be a more suitable choice for splitting the dataset in the decision tree model."
   ]
  },
  {
   "cell_type": "markdown",
   "metadata": {},
   "source": [
    "**The choice of splitting criterion (Gini Index vs. Entropy) can lead to different results as they measure impurity differently.**\n",
    "\n",
    "While Gini Index and Entropy are both commonly used in decision trees, they prioritize different aspects of impurity.\n",
    "\n",
    "- Gini Index focuses on how often a randomly chosen element from the set would be incorrectly labeled if it were randomly labeled according to the distribution of labels in the subset.\n",
    "\n",
    "- Entropy measures the uncertainty of a random variable, with lower entropy values indicating more homogeneous subsets.\n",
    "\n",
    "Therefore, it's essential to consider the characteristics of your dataset and the specific goals of your analysis when choosing between Gini Index and Entropy. Ultimately, the decision should be based on which splitting criterion aligns better with your objectives and leads to more effective decision-making in the context of your problem.\n",
    "\n",
    "(For Regression trees, we use mean squared error as splitting criteria)"
   ]
  },
  {
   "cell_type": "markdown",
   "metadata": {},
   "source": [
    "# 8. Stopping Criteria\n",
    "\n",
    "Stopping criteria in decision tree algorithms determine when to halt the splitting process and declare a leaf node. These are the common stopping criteria used to prevent overfitting and promote model generalization.\n",
    "\n",
    "**Maximum Depth** `max_depth`: This criterion limits the maximum depth or levels of the tree. Once the tree reaches the specified maximum depth, further splitting is halted, preventing the tree from becoming too complex and overfitting the training data. \n",
    "- In a decision tree for predicting whether a customer will purchase a product based on their demographic and browsing history, setting a `max_depth` of 3 means the tree will only consider up to three levels of questions (features) before making a prediction\n",
    "\n",
    "**Minimum Samples per Leaf** `min_samples_leaf`: With this criterion, splitting stops when the number of samples in a leaf node falls below a certain threshold. This prevents the creation of leaf nodes with too few samples, which may lead to overfitting or unreliable predictions.\n",
    "- In a decision tree for classifying emails as spam or not spam, setting a `min_samples_leaf` of 10 ensures that each leaf node (outcome) must contain at least 10 email examples.\n",
    "\n",
    "**Minimum Samples per Split** `min_samples_split`: This criterion specifies the minimum number of samples required to split a node further. If the number of samples at a node is below this threshold, splitting is halted, avoiding splits on small, potentially noisy subsets of data.\n",
    "- In a decision tree for predicting housing prices based on features like square footage and neighborhood, setting a `min_samples_split` of 20 means that a node must have at least 20 data points (houses) before it can be split further. \n",
    "\n",
    "**Maximum Features** `max_features`: This hyperparameter governs the maximum number of features considered when searching for the best split. By regulating feature selection, it aids in fine-tuning the model's complexity and enhancing its generalization performance.\n",
    "- In a random forest model for classifying images as cats or dogs based on pixel values, setting a `max_features` of 50 means that each split in the decision trees within the forest can only consider up to 50 randomly selected features (pixels) out of the total available. \n",
    "\n",
    "By incorporating these stopping criteria, decision trees can effectively balance between complexity and simplicity, resulting in models that are more interpretable, generalize better to unseen data, and are less prone to overfitting."
   ]
  },
  {
   "cell_type": "markdown",
   "metadata": {},
   "source": [
    "### Key Hyperparameters\n",
    "\n",
    "In a DecisionTreeClassifier, key hyperparameters include `max_depth` to limit tree depth, `min_samples_split` to set minimum samples required for node splitting, `min_samples_leaf` to determine minimum samples per leaf, and `max_features` to control feature consideration for splitting. \n",
    "\n",
    "These hyperparameters regulate model complexity, prevent overfitting, and optimize performance. Adjusting them allows fine-tuning the classifier for specific datasets and tasks."
   ]
  },
  {
   "cell_type": "markdown",
   "metadata": {},
   "source": [
    "# 9. Pruning the Tree\n",
    "\n",
    "Pruning in decision trees is vital to prevent overfitting, where the model memorizes noise rather than learning general patterns. Two main pruning techniques are employed:\n",
    "\n",
    "1. Pre-Pruning (Early Stopping): This involves halting tree growth before it becomes overly complex by setting criteria such as `maximum depth` or `minimum samples per leaf`.\n",
    "\n",
    "2. Post-Pruning (Cost Complexity Pruning): Also known as weakest link pruning, it involves growing the full tree and then removing less important branches based on their impact on overall performance. This is typically done by tuning a hyperparameter, such as the cost complexity parameter `ccp_alpha`, to balance between model complexity and accuracy on validation data.\n",
    "\n",
    "These pruning techniques help optimize the decision tree's performance and ensure it captures meaningful patterns while avoiding unnecessary complexity."
   ]
  },
  {
   "cell_type": "markdown",
   "metadata": {},
   "source": [
    "# 10. Pros and Cons\n",
    "\n",
    "* Pros:\n",
    "    * Simplicity and ease of interpretation\n",
    "    * Handles both numerical and categorical data\n",
    "    * Requires little data preprocessing\n",
    "\n",
    "\n",
    "* Cons:\n",
    "    * Prone to overfitting\n",
    "    * Can be unstable (small changes in data can lead to different trees)\n",
    "    * Biased towards dominant classes (imbalanced data)"
   ]
  },
  {
   "cell_type": "markdown",
   "metadata": {},
   "source": [
    "# 11. Performance Metrics\n",
    "Performance metrics are essential for evaluating the effectiveness of machine learning models. For decision trees, various metrics are used depending on the task—classification or regression.\n",
    "\n",
    "\n",
    "* Classification Metrics:\n",
    "    * Accuracy\n",
    "    * Precision\n",
    "    * Recall\n",
    "    * F1 Score\n",
    "    * Confusion Matrix\n",
    "    \n",
    "\n",
    "* Regression Metrics:\n",
    "    * Mean Absolute Error (MAE)\n",
    "    * Mean Squared Error (MSE)\n",
    "    * Root Mean Squared Error (RMSE)\n",
    "    * R-squared\n",
    "    \n",
    "Let's now use our Decision Tree `clf` to predict our test set `df_test` (initialized at top of notebook) and evaluate its performance"
   ]
  },
  {
   "cell_type": "code",
   "execution_count": 51,
   "metadata": {
    "execution": {
     "iopub.execute_input": "2024-05-28T12:39:24.46294Z",
     "iopub.status.busy": "2024-05-28T12:39:24.462218Z",
     "iopub.status.idle": "2024-05-28T12:39:24.47612Z",
     "shell.execute_reply": "2024-05-28T12:39:24.474936Z",
     "shell.execute_reply.started": "2024-05-28T12:39:24.462905Z"
    },
    "trusted": true
   },
   "outputs": [
    {
     "name": "stdout",
     "output_type": "stream",
     "text": [
      "(30, 4)\n"
     ]
    },
    {
     "data": {
      "application/vnd.microsoft.datawrangler.viewer.v0+json": {
       "columns": [
        {
         "name": "index",
         "rawType": "int64",
         "type": "integer"
        },
        {
         "name": "gender",
         "rawType": "object",
         "type": "string"
        },
        {
         "name": "marital_status",
         "rawType": "object",
         "type": "string"
        },
        {
         "name": "education_level",
         "rawType": "object",
         "type": "string"
        },
        {
         "name": "loan_status",
         "rawType": "object",
         "type": "string"
        }
       ],
       "conversionMethod": "pd.DataFrame",
       "ref": "5504bd9c-7b76-4e51-924b-21167d05347c",
       "rows": [
        [
         "0",
         "Female",
         "Married",
         "Master's",
         "Approved"
        ],
        [
         "1",
         "Male",
         "Married",
         "Bachelor's",
         "Approved"
        ],
        [
         "2",
         "Female",
         "Married",
         "Doctoral",
         "Approved"
        ],
        [
         "3",
         "Male",
         "Single",
         "Bachelor's",
         "Denied"
        ],
        [
         "4",
         "Female",
         "Married",
         "Doctoral",
         "Approved"
        ]
       ],
       "shape": {
        "columns": 4,
        "rows": 5
       }
      },
      "text/html": [
       "<div>\n",
       "<style scoped>\n",
       "    .dataframe tbody tr th:only-of-type {\n",
       "        vertical-align: middle;\n",
       "    }\n",
       "\n",
       "    .dataframe tbody tr th {\n",
       "        vertical-align: top;\n",
       "    }\n",
       "\n",
       "    .dataframe thead th {\n",
       "        text-align: right;\n",
       "    }\n",
       "</style>\n",
       "<table border=\"1\" class=\"dataframe\">\n",
       "  <thead>\n",
       "    <tr style=\"text-align: right;\">\n",
       "      <th></th>\n",
       "      <th>gender</th>\n",
       "      <th>marital_status</th>\n",
       "      <th>education_level</th>\n",
       "      <th>loan_status</th>\n",
       "    </tr>\n",
       "  </thead>\n",
       "  <tbody>\n",
       "    <tr>\n",
       "      <th>0</th>\n",
       "      <td>Female</td>\n",
       "      <td>Married</td>\n",
       "      <td>Master's</td>\n",
       "      <td>Approved</td>\n",
       "    </tr>\n",
       "    <tr>\n",
       "      <th>1</th>\n",
       "      <td>Male</td>\n",
       "      <td>Married</td>\n",
       "      <td>Bachelor's</td>\n",
       "      <td>Approved</td>\n",
       "    </tr>\n",
       "    <tr>\n",
       "      <th>2</th>\n",
       "      <td>Female</td>\n",
       "      <td>Married</td>\n",
       "      <td>Doctoral</td>\n",
       "      <td>Approved</td>\n",
       "    </tr>\n",
       "    <tr>\n",
       "      <th>3</th>\n",
       "      <td>Male</td>\n",
       "      <td>Single</td>\n",
       "      <td>Bachelor's</td>\n",
       "      <td>Denied</td>\n",
       "    </tr>\n",
       "    <tr>\n",
       "      <th>4</th>\n",
       "      <td>Female</td>\n",
       "      <td>Married</td>\n",
       "      <td>Doctoral</td>\n",
       "      <td>Approved</td>\n",
       "    </tr>\n",
       "  </tbody>\n",
       "</table>\n",
       "</div>"
      ],
      "text/plain": [
       "   gender marital_status education_level loan_status\n",
       "0  Female        Married        Master's    Approved\n",
       "1    Male        Married      Bachelor's    Approved\n",
       "2  Female        Married        Doctoral    Approved\n",
       "3    Male         Single      Bachelor's      Denied\n",
       "4  Female        Married        Doctoral    Approved"
      ]
     },
     "execution_count": 51,
     "metadata": {},
     "output_type": "execute_result"
    }
   ],
   "source": [
    "print(df_test.shape)\n",
    "#df_test.drop(columns='credit_score', inplace=True)\n",
    "df_test.head()"
   ]
  },
  {
   "cell_type": "code",
   "execution_count": 52,
   "metadata": {
    "execution": {
     "iopub.execute_input": "2024-05-28T12:39:28.025041Z",
     "iopub.status.busy": "2024-05-28T12:39:28.024571Z",
     "iopub.status.idle": "2024-05-28T12:39:28.031518Z",
     "shell.execute_reply": "2024-05-28T12:39:28.030132Z",
     "shell.execute_reply.started": "2024-05-28T12:39:28.025007Z"
    },
    "trusted": true
   },
   "outputs": [],
   "source": [
    "# split into X_test and y_test\n",
    "X_test = df_test.drop('loan_status', axis=1)\n",
    "y_test = df_test.loan_status"
   ]
  },
  {
   "cell_type": "code",
   "execution_count": 54,
   "metadata": {
    "execution": {
     "iopub.execute_input": "2024-05-28T13:26:29.610924Z",
     "iopub.status.busy": "2024-05-28T13:26:29.610463Z",
     "iopub.status.idle": "2024-05-28T13:26:29.627438Z",
     "shell.execute_reply": "2024-05-28T13:26:29.626241Z",
     "shell.execute_reply.started": "2024-05-28T13:26:29.610891Z"
    },
    "trusted": true
   },
   "outputs": [],
   "source": [
    "X_test_encoded = pd.get_dummies(X_test, columns=['gender', 'marital_status','education_level'])\n",
    "\n",
    "#scaler = StandardScaler()\n",
    "#scaled_features = scaler.fit_transform(X_test_encoded[['age']])\n",
    "#X_test_scaled = pd.DataFrame(scaled_features, columns=['scaled_age'])\n",
    "X_test_final = pd.concat([X_test_encoded], axis=1)"
   ]
  },
  {
   "cell_type": "code",
   "execution_count": 39,
   "metadata": {
    "collapsed": true,
    "execution": {
     "iopub.execute_input": "2024-05-28T12:42:04.745622Z",
     "iopub.status.busy": "2024-05-28T12:42:04.744585Z",
     "iopub.status.idle": "2024-05-28T12:42:04.752255Z",
     "shell.execute_reply": "2024-05-28T12:42:04.751023Z",
     "shell.execute_reply.started": "2024-05-28T12:42:04.745562Z"
    },
    "jupyter": {
     "outputs_hidden": true,
     "source_hidden": true
    },
    "trusted": true
   },
   "outputs": [
    {
     "data": {
      "text/plain": [
       "Index(['loan_status', 'gender_Female', 'gender_Male', 'occupation_Accountant',\n",
       "       'occupation_Analyst', 'occupation_Architect', 'occupation_Artist',\n",
       "       'occupation_Banker', 'occupation_Chef', 'occupation_Consultant',\n",
       "       'occupation_Dentist', 'occupation_Designer', 'occupation_Doctor',\n",
       "       'occupation_Editor', 'occupation_Electrician', 'occupation_Engineer',\n",
       "       'occupation_HR', 'occupation_IT', 'occupation_Lawyer',\n",
       "       'occupation_Manager', 'occupation_Marketing', 'occupation_Musician',\n",
       "       'occupation_Nurse', 'occupation_Pharmacist', 'occupation_Photographer',\n",
       "       'occupation_Pilot', 'occupation_Professor', 'occupation_Programmer',\n",
       "       'occupation_Psychologist', 'occupation_Realtor',\n",
       "       'occupation_Receptionist', 'occupation_Researcher', 'occupation_Sales',\n",
       "       'occupation_Salesman', 'occupation_Server', 'occupation_Software',\n",
       "       'occupation_Student', 'occupation_Stylist', 'occupation_Teacher',\n",
       "       'occupation_Veterinarian', 'occupation_Writer',\n",
       "       'marital_status_Married', 'marital_status_Single',\n",
       "       'education_level_Associate's', 'education_level_Bachelor's',\n",
       "       'education_level_Doctoral', 'education_level_High School',\n",
       "       'education_level_Master's'],\n",
       "      dtype='object')"
      ]
     },
     "execution_count": 39,
     "metadata": {},
     "output_type": "execute_result"
    }
   ],
   "source": [
    "df_final.columns"
   ]
  },
  {
   "cell_type": "code",
   "execution_count": 40,
   "metadata": {
    "collapsed": true,
    "execution": {
     "iopub.execute_input": "2024-05-28T12:41:58.357612Z",
     "iopub.status.busy": "2024-05-28T12:41:58.356492Z",
     "iopub.status.idle": "2024-05-28T12:41:58.365505Z",
     "shell.execute_reply": "2024-05-28T12:41:58.364269Z",
     "shell.execute_reply.started": "2024-05-28T12:41:58.357554Z"
    },
    "jupyter": {
     "outputs_hidden": true,
     "source_hidden": true
    },
    "trusted": true
   },
   "outputs": [
    {
     "data": {
      "text/plain": [
       "Index(['gender_Female', 'gender_Male', 'occupation_Accountant',\n",
       "       'occupation_Analyst', 'occupation_Architect', 'occupation_Artist',\n",
       "       'occupation_Banker', 'occupation_Chef', 'occupation_Consultant',\n",
       "       'occupation_Dentist', 'occupation_Designer', 'occupation_Doctor',\n",
       "       'occupation_Editor', 'occupation_Engineer', 'occupation_IT',\n",
       "       'occupation_Lawyer', 'occupation_Manager', 'occupation_Marketing',\n",
       "       'occupation_Musician', 'occupation_Nurse', 'occupation_Professor',\n",
       "       'occupation_Programmer', 'occupation_Psychologist',\n",
       "       'occupation_Receptionist', 'occupation_Salesman', 'occupation_Server',\n",
       "       'occupation_Software', 'occupation_Stylist', 'occupation_Teacher',\n",
       "       'occupation_Writer', 'marital_status_Married', 'marital_status_Single',\n",
       "       'education_level_Associate's', 'education_level_Bachelor's',\n",
       "       'education_level_Doctoral', 'education_level_High School',\n",
       "       'education_level_Master's'],\n",
       "      dtype='object')"
      ]
     },
     "execution_count": 40,
     "metadata": {},
     "output_type": "execute_result"
    }
   ],
   "source": [
    "X_test_final.columns"
   ]
  },
  {
   "cell_type": "code",
   "execution_count": null,
   "metadata": {
    "collapsed": true,
    "execution": {
     "iopub.execute_input": "2024-05-28T12:42:53.231417Z",
     "iopub.status.busy": "2024-05-28T12:42:53.231002Z",
     "iopub.status.idle": "2024-05-28T12:42:53.241099Z",
     "shell.execute_reply": "2024-05-28T12:42:53.239938Z",
     "shell.execute_reply.started": "2024-05-28T12:42:53.231385Z"
    },
    "jupyter": {
     "outputs_hidden": true,
     "source_hidden": true
    },
    "trusted": true
   },
   "outputs": [
    {
     "data": {
      "text/plain": [
       "Index(['gender_Female', 'gender_Male', 'education_level_Associate's',\n",
       "       'education_level_Bachelor's', 'education_level_Doctoral',\n",
       "       'education_level_High School', 'education_level_Master's',\n",
       "       'scaled_age'],\n",
       "      dtype='object')"
      ]
     },
     "execution_count": 17,
     "metadata": {},
     "output_type": "execute_result"
    },
    {
     "ename": "",
     "evalue": "",
     "output_type": "error",
     "traceback": [
      "\u001b[1;31mnotebook controller is DISPOSED. \n",
      "\u001b[1;31mView Jupyter <a href='command:jupyter.viewOutput'>log</a> for further details."
     ]
    },
    {
     "ename": "",
     "evalue": "",
     "output_type": "error",
     "traceback": [
      "\u001b[1;31mnotebook controller is DISPOSED. \n",
      "\u001b[1;31mView Jupyter <a href='command:jupyter.viewOutput'>log</a> for further details."
     ]
    }
   ],
   "source": [
    "common_columns = X_test_final.columns.intersection(df_final.columns)\n",
    "X_test_final = X_test_final[common_columns]\n",
    "X_test_final.columns"
   ]
  },
  {
   "cell_type": "code",
   "execution_count": 55,
   "metadata": {
    "execution": {
     "iopub.execute_input": "2024-05-28T12:43:04.615707Z",
     "iopub.status.busy": "2024-05-28T12:43:04.61468Z",
     "iopub.status.idle": "2024-05-28T12:43:04.623914Z",
     "shell.execute_reply": "2024-05-28T12:43:04.62262Z",
     "shell.execute_reply.started": "2024-05-28T12:43:04.61566Z"
    },
    "trusted": true
   },
   "outputs": [],
   "source": [
    "# Prediction\n",
    "y_pred = clf.predict(X_test_final)"
   ]
  },
  {
   "cell_type": "code",
   "execution_count": 56,
   "metadata": {
    "execution": {
     "iopub.execute_input": "2024-05-28T12:44:19.669133Z",
     "iopub.status.busy": "2024-05-28T12:44:19.668317Z",
     "iopub.status.idle": "2024-05-28T12:44:19.681311Z",
     "shell.execute_reply": "2024-05-28T12:44:19.680249Z",
     "shell.execute_reply.started": "2024-05-28T12:44:19.669093Z"
    },
    "trusted": true
   },
   "outputs": [
    {
     "data": {
      "application/vnd.microsoft.datawrangler.viewer.v0+json": {
       "columns": [
        {
         "name": "index",
         "rawType": "int64",
         "type": "integer"
        },
        {
         "name": "Predicted",
         "rawType": "object",
         "type": "string"
        },
        {
         "name": "Actual",
         "rawType": "object",
         "type": "string"
        }
       ],
       "conversionMethod": "pd.DataFrame",
       "ref": "8a6c0725-5c76-4fa2-bcaa-cb0bd0ff2a2c",
       "rows": [
        [
         "0",
         "Approved",
         "Approved"
        ],
        [
         "1",
         "Approved",
         "Approved"
        ],
        [
         "2",
         "Approved",
         "Approved"
        ],
        [
         "3",
         "Denied",
         "Denied"
        ],
        [
         "4",
         "Approved",
         "Approved"
        ],
        [
         "5",
         "Approved",
         "Approved"
        ],
        [
         "6",
         "Denied",
         "Denied"
        ],
        [
         "7",
         "Approved",
         "Approved"
        ],
        [
         "8",
         "Denied",
         "Denied"
        ],
        [
         "9",
         "Approved",
         "Approved"
        ],
        [
         "10",
         "Approved",
         "Approved"
        ],
        [
         "11",
         "Approved",
         "Approved"
        ],
        [
         "12",
         "Denied",
         "Denied"
        ],
        [
         "13",
         "Approved",
         "Approved"
        ],
        [
         "14",
         "Approved",
         "Approved"
        ],
        [
         "15",
         "Denied",
         "Approved"
        ],
        [
         "16",
         "Approved",
         "Approved"
        ],
        [
         "17",
         "Approved",
         "Approved"
        ],
        [
         "18",
         "Denied",
         "Denied"
        ],
        [
         "19",
         "Approved",
         "Approved"
        ],
        [
         "20",
         "Denied",
         "Denied"
        ],
        [
         "21",
         "Approved",
         "Approved"
        ],
        [
         "22",
         "Approved",
         "Approved"
        ],
        [
         "23",
         "Denied",
         "Denied"
        ],
        [
         "24",
         "Approved",
         "Approved"
        ],
        [
         "25",
         "Approved",
         "Approved"
        ],
        [
         "26",
         "Denied",
         "Denied"
        ],
        [
         "27",
         "Approved",
         "Approved"
        ],
        [
         "28",
         "Approved",
         "Approved"
        ],
        [
         "29",
         "Approved",
         "Approved"
        ]
       ],
       "shape": {
        "columns": 2,
        "rows": 30
       }
      },
      "text/html": [
       "<div>\n",
       "<style scoped>\n",
       "    .dataframe tbody tr th:only-of-type {\n",
       "        vertical-align: middle;\n",
       "    }\n",
       "\n",
       "    .dataframe tbody tr th {\n",
       "        vertical-align: top;\n",
       "    }\n",
       "\n",
       "    .dataframe thead th {\n",
       "        text-align: right;\n",
       "    }\n",
       "</style>\n",
       "<table border=\"1\" class=\"dataframe\">\n",
       "  <thead>\n",
       "    <tr style=\"text-align: right;\">\n",
       "      <th></th>\n",
       "      <th>Predicted</th>\n",
       "      <th>Actual</th>\n",
       "    </tr>\n",
       "  </thead>\n",
       "  <tbody>\n",
       "    <tr>\n",
       "      <th>0</th>\n",
       "      <td>Approved</td>\n",
       "      <td>Approved</td>\n",
       "    </tr>\n",
       "    <tr>\n",
       "      <th>1</th>\n",
       "      <td>Approved</td>\n",
       "      <td>Approved</td>\n",
       "    </tr>\n",
       "    <tr>\n",
       "      <th>2</th>\n",
       "      <td>Approved</td>\n",
       "      <td>Approved</td>\n",
       "    </tr>\n",
       "    <tr>\n",
       "      <th>3</th>\n",
       "      <td>Denied</td>\n",
       "      <td>Denied</td>\n",
       "    </tr>\n",
       "    <tr>\n",
       "      <th>4</th>\n",
       "      <td>Approved</td>\n",
       "      <td>Approved</td>\n",
       "    </tr>\n",
       "    <tr>\n",
       "      <th>5</th>\n",
       "      <td>Approved</td>\n",
       "      <td>Approved</td>\n",
       "    </tr>\n",
       "    <tr>\n",
       "      <th>6</th>\n",
       "      <td>Denied</td>\n",
       "      <td>Denied</td>\n",
       "    </tr>\n",
       "    <tr>\n",
       "      <th>7</th>\n",
       "      <td>Approved</td>\n",
       "      <td>Approved</td>\n",
       "    </tr>\n",
       "    <tr>\n",
       "      <th>8</th>\n",
       "      <td>Denied</td>\n",
       "      <td>Denied</td>\n",
       "    </tr>\n",
       "    <tr>\n",
       "      <th>9</th>\n",
       "      <td>Approved</td>\n",
       "      <td>Approved</td>\n",
       "    </tr>\n",
       "    <tr>\n",
       "      <th>10</th>\n",
       "      <td>Approved</td>\n",
       "      <td>Approved</td>\n",
       "    </tr>\n",
       "    <tr>\n",
       "      <th>11</th>\n",
       "      <td>Approved</td>\n",
       "      <td>Approved</td>\n",
       "    </tr>\n",
       "    <tr>\n",
       "      <th>12</th>\n",
       "      <td>Denied</td>\n",
       "      <td>Denied</td>\n",
       "    </tr>\n",
       "    <tr>\n",
       "      <th>13</th>\n",
       "      <td>Approved</td>\n",
       "      <td>Approved</td>\n",
       "    </tr>\n",
       "    <tr>\n",
       "      <th>14</th>\n",
       "      <td>Approved</td>\n",
       "      <td>Approved</td>\n",
       "    </tr>\n",
       "    <tr>\n",
       "      <th>15</th>\n",
       "      <td>Denied</td>\n",
       "      <td>Approved</td>\n",
       "    </tr>\n",
       "    <tr>\n",
       "      <th>16</th>\n",
       "      <td>Approved</td>\n",
       "      <td>Approved</td>\n",
       "    </tr>\n",
       "    <tr>\n",
       "      <th>17</th>\n",
       "      <td>Approved</td>\n",
       "      <td>Approved</td>\n",
       "    </tr>\n",
       "    <tr>\n",
       "      <th>18</th>\n",
       "      <td>Denied</td>\n",
       "      <td>Denied</td>\n",
       "    </tr>\n",
       "    <tr>\n",
       "      <th>19</th>\n",
       "      <td>Approved</td>\n",
       "      <td>Approved</td>\n",
       "    </tr>\n",
       "    <tr>\n",
       "      <th>20</th>\n",
       "      <td>Denied</td>\n",
       "      <td>Denied</td>\n",
       "    </tr>\n",
       "    <tr>\n",
       "      <th>21</th>\n",
       "      <td>Approved</td>\n",
       "      <td>Approved</td>\n",
       "    </tr>\n",
       "    <tr>\n",
       "      <th>22</th>\n",
       "      <td>Approved</td>\n",
       "      <td>Approved</td>\n",
       "    </tr>\n",
       "    <tr>\n",
       "      <th>23</th>\n",
       "      <td>Denied</td>\n",
       "      <td>Denied</td>\n",
       "    </tr>\n",
       "    <tr>\n",
       "      <th>24</th>\n",
       "      <td>Approved</td>\n",
       "      <td>Approved</td>\n",
       "    </tr>\n",
       "    <tr>\n",
       "      <th>25</th>\n",
       "      <td>Approved</td>\n",
       "      <td>Approved</td>\n",
       "    </tr>\n",
       "    <tr>\n",
       "      <th>26</th>\n",
       "      <td>Denied</td>\n",
       "      <td>Denied</td>\n",
       "    </tr>\n",
       "    <tr>\n",
       "      <th>27</th>\n",
       "      <td>Approved</td>\n",
       "      <td>Approved</td>\n",
       "    </tr>\n",
       "    <tr>\n",
       "      <th>28</th>\n",
       "      <td>Approved</td>\n",
       "      <td>Approved</td>\n",
       "    </tr>\n",
       "    <tr>\n",
       "      <th>29</th>\n",
       "      <td>Approved</td>\n",
       "      <td>Approved</td>\n",
       "    </tr>\n",
       "  </tbody>\n",
       "</table>\n",
       "</div>"
      ],
      "text/plain": [
       "   Predicted    Actual\n",
       "0   Approved  Approved\n",
       "1   Approved  Approved\n",
       "2   Approved  Approved\n",
       "3     Denied    Denied\n",
       "4   Approved  Approved\n",
       "5   Approved  Approved\n",
       "6     Denied    Denied\n",
       "7   Approved  Approved\n",
       "8     Denied    Denied\n",
       "9   Approved  Approved\n",
       "10  Approved  Approved\n",
       "11  Approved  Approved\n",
       "12    Denied    Denied\n",
       "13  Approved  Approved\n",
       "14  Approved  Approved\n",
       "15    Denied  Approved\n",
       "16  Approved  Approved\n",
       "17  Approved  Approved\n",
       "18    Denied    Denied\n",
       "19  Approved  Approved\n",
       "20    Denied    Denied\n",
       "21  Approved  Approved\n",
       "22  Approved  Approved\n",
       "23    Denied    Denied\n",
       "24  Approved  Approved\n",
       "25  Approved  Approved\n",
       "26    Denied    Denied\n",
       "27  Approved  Approved\n",
       "28  Approved  Approved\n",
       "29  Approved  Approved"
      ]
     },
     "execution_count": 56,
     "metadata": {},
     "output_type": "execute_result"
    }
   ],
   "source": [
    "results = pd.DataFrame({\n",
    "    'Predicted': y_pred,\n",
    "    'Actual': y_test\n",
    "})\n",
    "\n",
    "results"
   ]
  },
  {
   "cell_type": "markdown",
   "metadata": {},
   "source": [
    "We can now view the evaluation metrics (accuracy, precision, recall, F1) using `confusion_matrix` from sklearn. (can also be manually calculated by extracting tp, tn, fp, fn counts)"
   ]
  },
  {
   "cell_type": "code",
   "execution_count": 57,
   "metadata": {
    "execution": {
     "iopub.execute_input": "2024-05-28T12:46:38.699396Z",
     "iopub.status.busy": "2024-05-28T12:46:38.698288Z",
     "iopub.status.idle": "2024-05-28T12:46:38.710375Z",
     "shell.execute_reply": "2024-05-28T12:46:38.709326Z",
     "shell.execute_reply.started": "2024-05-28T12:46:38.699345Z"
    },
    "trusted": true
   },
   "outputs": [
    {
     "data": {
      "text/plain": [
       "array([[21,  1],\n",
       "       [ 0,  8]])"
      ]
     },
     "execution_count": 57,
     "metadata": {},
     "output_type": "execute_result"
    }
   ],
   "source": [
    "from sklearn.metrics import confusion_matrix\n",
    "\n",
    "conf_matrix = confusion_matrix(y_test, y_pred)\n",
    "conf_matrix"
   ]
  },
  {
   "cell_type": "markdown",
   "metadata": {},
   "source": [
    "A `classification_report` is helpful too"
   ]
  },
  {
   "cell_type": "code",
   "execution_count": 58,
   "metadata": {
    "execution": {
     "iopub.execute_input": "2024-05-28T12:47:42.487828Z",
     "iopub.status.busy": "2024-05-28T12:47:42.487076Z",
     "iopub.status.idle": "2024-05-28T12:47:42.503302Z",
     "shell.execute_reply": "2024-05-28T12:47:42.502175Z",
     "shell.execute_reply.started": "2024-05-28T12:47:42.487791Z"
    },
    "trusted": true
   },
   "outputs": [
    {
     "name": "stdout",
     "output_type": "stream",
     "text": [
      "              precision    recall  f1-score   support\n",
      "\n",
      "    Approved       1.00      0.95      0.98        22\n",
      "      Denied       0.89      1.00      0.94         8\n",
      "\n",
      "    accuracy                           0.97        30\n",
      "   macro avg       0.94      0.98      0.96        30\n",
      "weighted avg       0.97      0.97      0.97        30\n",
      "\n"
     ]
    }
   ],
   "source": [
    "from sklearn.metrics import classification_report\n",
    "\n",
    "report = classification_report(y_test, y_pred)\n",
    "print(report)"
   ]
  },
  {
   "cell_type": "markdown",
   "metadata": {},
   "source": [
    "The model scored high across all metrics - accuracy, precision, recall, weighted F1 avg."
   ]
  },
  {
   "cell_type": "markdown",
   "metadata": {},
   "source": [
    "# 12. Hyperparameter Tuning\n",
    "\n",
    "Finally, hyperparameter tuning is crucial for optimizing the performance of machine learning models. It involves selecting the best set of hyperparameters, which are parameters that control the learning process of the model and are not learned from the data. Two common techniques for hyperparameter tuning are `Grid Search` and `Random Search`.\n",
    "\n",
    "* Grid Search: Grid Search is an exhaustive search technique that evaluates the model's performance for all possible combinations of hyperparameters within a predefined grid. It's computationally expensive but guarantees finding the best hyperparameters within the specified search space.\n",
    "\n",
    "* Random Search: Random Search selects hyperparameters randomly from the search space and evaluates the model's performance for a specified number of iterations. It's less computationally intensive than Grid Search but may not find the optimal hyperparameters as quickly.\n",
    "\n",
    "Cross-validation is a fundamental practice in machine learning model development, and it's highly recommended regardless of the specific modeling task. This is to ensure that the model's performance estimates are reliable and generalize well to unseen data.\n",
    "\n",
    "Let's see how `GridSearchCV` can be implemented"
   ]
  },
  {
   "cell_type": "code",
   "execution_count": null,
   "metadata": {
    "execution": {
     "iopub.execute_input": "2024-05-28T13:08:29.711797Z",
     "iopub.status.busy": "2024-05-28T13:08:29.7114Z",
     "iopub.status.idle": "2024-05-28T13:08:31.323155Z",
     "shell.execute_reply": "2024-05-28T13:08:31.321981Z",
     "shell.execute_reply.started": "2024-05-28T13:08:29.711768Z"
    },
    "trusted": true
   },
   "outputs": [
    {
     "name": "stdout",
     "output_type": "stream",
     "text": [
      "Best parameters: {'criterion': 'gini', 'max_depth': None, 'min_samples_leaf': 1, 'min_samples_split': 2}\n"
     ]
    },
    {
     "ename": "",
     "evalue": "",
     "output_type": "error",
     "traceback": [
      "\u001b[1;31mnotebook controller is DISPOSED. \n",
      "\u001b[1;31mView Jupyter <a href='command:jupyter.viewOutput'>log</a> for further details."
     ]
    }
   ],
   "source": [
    "import warnings\n",
    "warnings.filterwarnings('ignore')\n",
    "from sklearn.model_selection import GridSearchCV\n",
    "\n",
    "# define hyperparameter grid\n",
    "param_grid = {\n",
    "    'criterion': ['gini', 'entropy'],\n",
    "    'max_depth': [None, 5, 10, 15],\n",
    "    'min_samples_split': [2, 5, 10],\n",
    "    'min_samples_leaf': [1, 2, 4]    \n",
    "}\n",
    "\n",
    "clf = DecisionTreeClassifier()\n",
    "\n",
    "grid_search = GridSearchCV(clf, param_grid, cv=5, scoring='accuracy')\n",
    "grid_search.fit(X_train, y_train)\n",
    "\n",
    "# print best parameters found\n",
    "print(\"Best parameters:\", grid_search.best_params_)"
   ]
  },
  {
   "cell_type": "code",
   "execution_count": null,
   "metadata": {
    "execution": {
     "iopub.execute_input": "2024-05-28T13:19:48.522437Z",
     "iopub.status.busy": "2024-05-28T13:19:48.522016Z",
     "iopub.status.idle": "2024-05-28T13:19:48.542904Z",
     "shell.execute_reply": "2024-05-28T13:19:48.54158Z",
     "shell.execute_reply.started": "2024-05-28T13:19:48.522409Z"
    },
    "trusted": true
   },
   "outputs": [
    {
     "name": "stdout",
     "output_type": "stream",
     "text": [
      "              precision    recall  f1-score   support\n",
      "\n",
      "    Approved       1.00      0.82      0.90        22\n",
      "      Denied       0.67      1.00      0.80         8\n",
      "\n",
      "    accuracy                           0.87        30\n",
      "   macro avg       0.83      0.91      0.85        30\n",
      "weighted avg       0.91      0.87      0.87        30\n",
      "\n"
     ]
    },
    {
     "ename": "",
     "evalue": "",
     "output_type": "error",
     "traceback": [
      "\u001b[1;31mnotebook controller is DISPOSED. \n",
      "\u001b[1;31mView Jupyter <a href='command:jupyter.viewOutput'>log</a> for further details."
     ]
    }
   ],
   "source": [
    "# get the best model\n",
    "best_model = grid_search.best_estimator_\n",
    "\n",
    "y_pred = best_model.predict(X_test_final)\n",
    "report = classification_report(y_test, y_pred)\n",
    "print(report)"
   ]
  },
  {
   "cell_type": "code",
   "execution_count": null,
   "metadata": {
    "execution": {
     "iopub.execute_input": "2024-05-28T13:10:11.582602Z",
     "iopub.status.busy": "2024-05-28T13:10:11.581646Z",
     "iopub.status.idle": "2024-05-28T13:10:11.589982Z",
     "shell.execute_reply": "2024-05-28T13:10:11.588903Z",
     "shell.execute_reply.started": "2024-05-28T13:10:11.582551Z"
    },
    "trusted": true
   },
   "outputs": [
    {
     "data": {
      "text/plain": [
       "array([0.8, 0.8, 0.7, 0.8, 0.8, 0.7, 0.7, 0.7, 0.7, 0.8, 0.8, 0.7, 0.8,\n",
       "       0.8, 0.7, 0.7, 0.7, 0.7, 0.8, 0.8, 0.7, 0.8, 0.8, 0.7, 0.7, 0.7,\n",
       "       0.7, 0.8, 0.8, 0.7, 0.8, 0.8, 0.7, 0.7, 0.7, 0.7, 0.8, 0.8, 0.7,\n",
       "       0.8, 0.8, 0.7, 0.7, 0.7, 0.7, 0.8, 0.8, 0.7, 0.8, 0.8, 0.7, 0.7,\n",
       "       0.7, 0.7, 0.8, 0.8, 0.7, 0.8, 0.8, 0.7, 0.7, 0.7, 0.7, 0.8, 0.8,\n",
       "       0.7, 0.8, 0.8, 0.7, 0.7, 0.7, 0.7])"
      ]
     },
     "execution_count": 24,
     "metadata": {},
     "output_type": "execute_result"
    },
    {
     "ename": "",
     "evalue": "",
     "output_type": "error",
     "traceback": [
      "\u001b[1;31mnotebook controller is DISPOSED. \n",
      "\u001b[1;31mView Jupyter <a href='command:jupyter.viewOutput'>log</a> for further details."
     ]
    }
   ],
   "source": [
    "accuracy_scores = grid_search.cv_results_['mean_test_score']\n",
    "accuracy_scores"
   ]
  },
  {
   "cell_type": "code",
   "execution_count": null,
   "metadata": {
    "execution": {
     "iopub.execute_input": "2024-05-28T13:10:26.874058Z",
     "iopub.status.busy": "2024-05-28T13:10:26.873639Z",
     "iopub.status.idle": "2024-05-28T13:10:27.532266Z",
     "shell.execute_reply": "2024-05-28T13:10:27.53112Z",
     "shell.execute_reply.started": "2024-05-28T13:10:26.874024Z"
    },
    "trusted": true
   },
   "outputs": [
    {
     "data": {
      "image/png": "[encoded data removed]",
      "text/plain": [
       "<Figure size 1500x300 with 1 Axes>"
      ]
     },
     "metadata": {},
     "output_type": "display_data"
    },
    {
     "ename": "",
     "evalue": "",
     "output_type": "error",
     "traceback": [
      "\u001b[1;31mnotebook controller is DISPOSED. \n",
      "\u001b[1;31mView Jupyter <a href='command:jupyter.viewOutput'>log</a> for further details."
     ]
    }
   ],
   "source": [
    "# plot the accuracy scores across different parameters combinations\n",
    "plt.figure(figsize=(15,3))\n",
    "plt.bar(range(len(accuracy_scores)), accuracy_scores, color='salmon')\n",
    "plt.xlabel('Parameter Combination')\n",
    "plt.ylabel('Accuracy Score')\n",
    "plt.title('Accuracy Scores for Different Parameter Combinations')\n",
    "plt.xticks(range(len(accuracy_scores)), rotation=45)\n",
    "plt.grid(axis='y')\n",
    "plt.show()"
   ]
  },
  {
   "cell_type": "markdown",
   "metadata": {},
   "source": [
    "GridSearchCV systematically explores various hyperparameter combinations to optimize model performance, using accuracy as the scoring metric in this instance. The process automates hyperparameter tuning, helping to fine-tune the Decision Tree Classifier model efficiently. \n",
    "\n",
    "By visualizing the accuracy scores for different parameter combinations, we identify the optimal configuration for our model. Overall, `GridSearchCV` streamlines the tuning process, enhancing model accuracy effectively."
   ]
  },
  {
   "cell_type": "markdown",
   "metadata": {},
   "source": [
    "# 13. Further Learning\n",
    "Advanced methods include exploring Ensemble Methods such as Random Forests and Boosting algorithms like AdaBoost and Gradient Boosting. These techniques combine multiple decision trees to enhance model performance by reducing overfitting and improving predictive accuracy. "
   ]
  },
  {
   "attachments": {
    "f8c47fab-7f74-4f12-a565-81f830003a5e.png": {
     "image/png": "[encoded data removed]"
    }
   },
   "cell_type": "markdown",
   "metadata": {},
   "source": [
    "### Random Forests\n",
    "![rf.png](attachment:f8c47fab-7f74-4f12-a565-81f830003a5e.png)\n",
    "<br>*Random Forest | Source: PICRYL Public Domain*"
   ]
  },
  {
   "cell_type": "markdown",
   "metadata": {
    "execution": {
     "iopub.execute_input": "2024-05-28T13:14:01.443205Z",
     "iopub.status.busy": "2024-05-28T13:14:01.4423Z",
     "iopub.status.idle": "2024-05-28T13:14:01.449977Z",
     "shell.execute_reply": "2024-05-28T13:14:01.448648Z",
     "shell.execute_reply.started": "2024-05-28T13:14:01.443167Z"
    }
   },
   "source": [
    "### SMOTE\n",
    "\n",
    "SMOTE, or Synthetic Minority Over-sampling Technique, is a vital tool for handling imbalanced data in machine learning. It helps address situations where one class greatly outnumbers the other, leading to biased models favoring the majority class. For instance, in medical diagnostics, rare diseases are often underrepresented in datasets. \n",
    "\n",
    "By using SMOTE, we can create synthetic samples of the minority class, ensuring a more balanced dataset and improving the model's ability to learn effectively. This technique is valuable across various domains where class imbalances pose challenges to model performance."
   ]
  },
  {
   "cell_type": "markdown",
   "metadata": {},
   "source": [
    "# 14. Summary\n",
    "\n",
    "In summary, Decision Trees are like flowcharts for making decisions in machine learning. They start at the top with a question (the root node) and then split into branches based on the answers (decision nodes). Finally, they lead to outcomes (leaf nodes) like 'yes' or 'no.' We can use Decision Trees for anything from predicting loan approvals to diagnosing diseases. \n",
    "\n",
    "By understanding how they work and how to tune them, we can build accurate models that make smart decisions. So, whether you're predicting loan approvals or diagnosing diseases, Decision Trees are a powerful tool to have in your data science toolkit"
   ]
  }
 ],
 "metadata": {
  "kaggle": {
   "accelerator": "none",
   "dataSources": [
    {
     "datasetId": 4839442,
     "sourceId": 8175684,
     "sourceType": "datasetVersion"
    }
   ],
   "dockerImageVersionId": 30698,
   "isGpuEnabled": false,
   "isInternetEnabled": true,
   "language": "python",
   "sourceType": "notebook"
  },
  "kernelspec": {
   "display_name": "learn",
   "language": "python",
   "name": "python3"
  },
  "language_info": {
   "codemirror_mode": {
    "name": "ipython",
    "version": 3
   },
   "file_extension": ".py",
   "mimetype": "text/x-python",
   "name": "python",
   "nbconvert_exporter": "python",
   "pygments_lexer": "ipython3",
   "version": "3.12.4"
  }
 },
 "nbformat": 4,
 "nbformat_minor": 4
}
